{
 "cells": [
  {
   "cell_type": "markdown",
   "metadata": {},
   "source": [
    "##  Recongnize the boundaries of DNA between exons and introns by sequence\n",
    "\n",
    "[Data Set Link](https://archive.ics.uci.edu/ml/datasets/Molecular+Biology+%28Splice-junction+Gene+Sequences%29)\n",
    "\n",
    "### 1. Purpose\n",
    "DNA 염기순서를 이용하여 exon과 intron의 경계 중 어디에 속해있는지 분류하는 프로젝트입니다.\n",
    "\n",
    "To recognize, given a sequence of DNA, the boundaries between exons (the parts of the DNA sequence retained after splicing) and introns (the parts of the DNA sequence that are spliced out)\n",
    "\n",
    "### 2. Dataset\n",
    "- #### 원본 Data : 3190 rows, 2 columns\n",
    "    - Features :\n",
    "        - instance_name : DNA 객체 이름\n",
    "        - sequence : ```['G', 'T', 'R', 'S', 'D', 'A', 'C', 'N']``` 알파벳으로 이루어진 DNA sequence\n",
    "    - Target : ```IE, EI, Neither``` 3가지로 이루어진 카테고리 정보 (_우리의 타겟 Column_)\n",
    "        \n",
    "- #### 최종 모델에 적용한 Data(sklearn.model_selection.train_test_split을 이용하여 6:4로 Train, Test를 분리하였습니다)\n",
    "    - Train Data : 1914 rows, 60 columns\n",
    "    - Test Data : 1276 rows, 60 columns\n",
    "    - Features :\n",
    "        - 원본 데이터에서 주어준 DNA sequence의 길이가 60이므로 60차원의 문제로 변경하였습니다. \n",
    "        - 각 차원마다 들어간 sequence 알파벳 값은 숫자로 변경하였습니다.\n",
    "\n",
    "### 3. Result\n",
    "- 평가 방법: \n",
    "    - Data를 제공해주는 사이트에서는 ```Using a \"ten-fold cross-validation\" methodology on 1000 examples randomly selected from the complete set of 3190``` 라는 표현에 따라 진행했습니다.\n",
    "    - 하지만 위의 방법은 학습에 사용한 데이터로 CV하는 것이라 큰 의미가 없다고 판단하여, 저는 본인이 Split하여 Testing한 Accuracy 혹은 Classification Report에서 제공하는 결과도 확인하여 모델을 평가하였습니다.\n",
    "\n",
    "<br>\n",
    "\n",
    "- 클래식 머신러닝: \n",
    "    - Logistic, MultinomialNB, RandomForest, ExtraTreesClassifier, SupportVectorMachine, XGBoost\n",
    "    - 최고 점수(Accuracy, XGBoost) : \n",
    "        - 98.72% (Using a \"ten-fold cross-validation\" methodology on 1000 examples randomly selected from the complete set of 3190)\n",
    "\n",
    "<br>\n",
    "\n",
    "- 딥러닝:\n",
    "    - DNN\n",
    "    - 최고 점수(Accuracy) : \n",
    "        - 89%"
   ]
  },
  {
   "cell_type": "markdown",
   "metadata": {},
   "source": [
    "#### 자세한 내용은 아래에 코드들과 함께 설명하겠습니다."
   ]
  },
  {
   "cell_type": "markdown",
   "metadata": {},
   "source": [
    "### 먼저 필요한 라이브러리들을 Import합니다."
   ]
  },
  {
   "cell_type": "code",
   "execution_count": 1,
   "metadata": {},
   "outputs": [
    {
     "name": "stderr",
     "output_type": "stream",
     "text": [
      "Using TensorFlow backend.\n"
     ]
    }
   ],
   "source": [
    "import csv\n",
    "import xgboost\n",
    "import tensorflow as tf\n",
    "\n",
    "import matplotlib.pyplot as plt\n",
    "import warnings\n",
    "warnings.filterwarnings('ignore')\n",
    "\n",
    "from IPython.display import display, Markdown\n",
    "from sklearn.linear_model import LogisticRegression\n",
    "from sklearn.naive_bayes import MultinomialNB\n",
    "from sklearn.ensemble import RandomForestClassifier, ExtraTreesClassifier\n",
    "from sklearn.svm import SVC\n",
    "from sklearn.pipeline import Pipeline\n",
    "from sklearn.metrics import classification_report\n",
    "from sklearn.metrics import accuracy_score\n",
    "from sklearn.model_selection import GridSearchCV, KFold\n",
    "from sklearn.metrics import confusion_matrix\n",
    "from sklearn.feature_extraction.text import TfidfVectorizer, CountVectorizer\n",
    "from sklearn.model_selection import train_test_split\n",
    "from sklearn.preprocessing import LabelEncoder\n",
    "from sklearn.preprocessing import LabelBinarizer\n",
    "\n",
    "from DataPreprocess import *\n",
    "from KerasDNN import *\n",
    "from DNNModel import *\n",
    "from ClassicModelTrain import *"
   ]
  },
  {
   "cell_type": "code",
   "execution_count": 2,
   "metadata": {},
   "outputs": [
    {
     "data": {
      "text/html": [
       "<div>\n",
       "<style scoped>\n",
       "    .dataframe tbody tr th:only-of-type {\n",
       "        vertical-align: middle;\n",
       "    }\n",
       "\n",
       "    .dataframe tbody tr th {\n",
       "        vertical-align: top;\n",
       "    }\n",
       "\n",
       "    .dataframe thead th {\n",
       "        text-align: right;\n",
       "    }\n",
       "</style>\n",
       "<table border=\"1\" class=\"dataframe\">\n",
       "  <thead>\n",
       "    <tr style=\"text-align: right;\">\n",
       "      <th></th>\n",
       "      <th>target</th>\n",
       "      <th>instance_name</th>\n",
       "      <th>sequence</th>\n",
       "    </tr>\n",
       "  </thead>\n",
       "  <tbody>\n",
       "    <tr>\n",
       "      <th>0</th>\n",
       "      <td>EI</td>\n",
       "      <td>ATRINS-DONOR-521</td>\n",
       "      <td>CCAGCTGCATCACAGGAGGCCAGCGAGCAGG...</td>\n",
       "    </tr>\n",
       "    <tr>\n",
       "      <th>1</th>\n",
       "      <td>EI</td>\n",
       "      <td>ATRINS-DONOR-905</td>\n",
       "      <td>AGACCCGCCGGGAGGCGGAGGACCTGCAGGG...</td>\n",
       "    </tr>\n",
       "    <tr>\n",
       "      <th>2</th>\n",
       "      <td>EI</td>\n",
       "      <td>BABAPOE-DONOR-30</td>\n",
       "      <td>GAGGTGAAGGACGTCCTTCCCCAGGAGCCGG...</td>\n",
       "    </tr>\n",
       "    <tr>\n",
       "      <th>3</th>\n",
       "      <td>EI</td>\n",
       "      <td>BABAPOE-DONOR-867</td>\n",
       "      <td>GGGCTGCGTTGCTGGTCACATTCCTGGCAGGT...</td>\n",
       "    </tr>\n",
       "    <tr>\n",
       "      <th>4</th>\n",
       "      <td>EI</td>\n",
       "      <td>BABAPOE-DONOR-2817</td>\n",
       "      <td>GCTCAGCCCCCAGGTCACCCAGGAACTGACGTG...</td>\n",
       "    </tr>\n",
       "  </tbody>\n",
       "</table>\n",
       "</div>"
      ],
      "text/plain": [
       "  target           instance_name  \\\n",
       "0     EI        ATRINS-DONOR-521   \n",
       "1     EI        ATRINS-DONOR-905   \n",
       "2     EI        BABAPOE-DONOR-30   \n",
       "3     EI       BABAPOE-DONOR-867   \n",
       "4     EI      BABAPOE-DONOR-2817   \n",
       "\n",
       "                                            sequence  \n",
       "0                 CCAGCTGCATCACAGGAGGCCAGCGAGCAGG...  \n",
       "1                 AGACCCGCCGGGAGGCGGAGGACCTGCAGGG...  \n",
       "2                 GAGGTGAAGGACGTCCTTCCCCAGGAGCCGG...  \n",
       "3                GGGCTGCGTTGCTGGTCACATTCCTGGCAGGT...  \n",
       "4               GCTCAGCCCCCAGGTCACCCAGGAACTGACGTG...  "
      ]
     },
     "execution_count": 2,
     "metadata": {},
     "output_type": "execute_result"
    }
   ],
   "source": [
    "with open('./splice.data') as csv_file:\n",
    "    csv_reader = csv.reader(csv_file, delimiter=',')\n",
    "    df_li = []\n",
    "    for row in csv_reader:\n",
    "        df_li.append(row)\n",
    "    df = pd.DataFrame(df_li, columns=[\"target\", \"instance_name\", \"sequence\"])\n",
    "df.head()"
   ]
  },
  {
   "cell_type": "markdown",
   "metadata": {},
   "source": [
    "### 존재하는 공백은 미리 제거해주겠습니다."
   ]
  },
  {
   "cell_type": "code",
   "execution_count": 3,
   "metadata": {},
   "outputs": [],
   "source": [
    "for col in df.columns:\n",
    "    df[col] = df[col].apply(lambda a : a.strip())"
   ]
  },
  {
   "cell_type": "markdown",
   "metadata": {},
   "source": [
    "### 아래 그래프는 Target 데이터의 분포를 확인한 것입니다."
   ]
  },
  {
   "cell_type": "code",
   "execution_count": 4,
   "metadata": {},
   "outputs": [
    {
     "data": {
      "image/png": "[encoded data removed]",
      "text/plain": [
       "<Figure size 432x288 with 1 Axes>"
      ]
     },
     "metadata": {
      "image/png": {
       "height": 248,
       "width": 383
      }
     },
     "output_type": "display_data"
    }
   ],
   "source": [
    "plt.bar(df.target.value_counts().index, df.target.value_counts())\n",
    "plt.show()"
   ]
  },
  {
   "cell_type": "markdown",
   "metadata": {},
   "source": [
    "### DNA sequence가 완전 일치하는 데이터들이 존재하며 그 데이터들의 Class도 동일하다는 것을 확인할 수 있습니다."
   ]
  },
  {
   "cell_type": "code",
   "execution_count": 5,
   "metadata": {},
   "outputs": [
    {
     "data": {
      "text/plain": [
       "3005"
      ]
     },
     "execution_count": 5,
     "metadata": {},
     "output_type": "execute_result"
    }
   ],
   "source": [
    "len(df[\"sequence\"].unique())"
   ]
  },
  {
   "cell_type": "code",
   "execution_count": 6,
   "metadata": {},
   "outputs": [
    {
     "data": {
      "text/plain": [
       "'GGCCTCTCCTTCTCTTCCTTCACTTTGCAGAGGCTGGAAGATGGCAGCCCCCGGACTGGG'"
      ]
     },
     "execution_count": 6,
     "metadata": {},
     "output_type": "execute_result"
    }
   ],
   "source": [
    "tmp = df.sequence.value_counts().keys()[0]\n",
    "tmp"
   ]
  },
  {
   "cell_type": "code",
   "execution_count": 7,
   "metadata": {},
   "outputs": [
    {
     "data": {
      "text/html": [
       "<div>\n",
       "<style scoped>\n",
       "    .dataframe tbody tr th:only-of-type {\n",
       "        vertical-align: middle;\n",
       "    }\n",
       "\n",
       "    .dataframe tbody tr th {\n",
       "        vertical-align: top;\n",
       "    }\n",
       "\n",
       "    .dataframe thead th {\n",
       "        text-align: right;\n",
       "    }\n",
       "</style>\n",
       "<table border=\"1\" class=\"dataframe\">\n",
       "  <thead>\n",
       "    <tr style=\"text-align: right;\">\n",
       "      <th></th>\n",
       "      <th>target</th>\n",
       "      <th>instance_name</th>\n",
       "      <th>sequence</th>\n",
       "    </tr>\n",
       "  </thead>\n",
       "  <tbody>\n",
       "    <tr>\n",
       "      <th>1096</th>\n",
       "      <td>IE</td>\n",
       "      <td>HUMGH-ACCEPTOR-1572</td>\n",
       "      <td>GGCCTCTCCTTCTCTTCCTTCACTTTGCAGAGGCTGGAAGATGGCA...</td>\n",
       "    </tr>\n",
       "    <tr>\n",
       "      <th>1100</th>\n",
       "      <td>IE</td>\n",
       "      <td>HUMGHCSA-ACCEPTOR-6465</td>\n",
       "      <td>GGCCTCTCCTTCTCTTCCTTCACTTTGCAGAGGCTGGAAGATGGCA...</td>\n",
       "    </tr>\n",
       "    <tr>\n",
       "      <th>1112</th>\n",
       "      <td>IE</td>\n",
       "      <td>HUMGHCSA-ACCEPTOR-43393</td>\n",
       "      <td>GGCCTCTCCTTCTCTTCCTTCACTTTGCAGAGGCTGGAAGATGGCA...</td>\n",
       "    </tr>\n",
       "    <tr>\n",
       "      <th>1120</th>\n",
       "      <td>IE</td>\n",
       "      <td>HUMGHN-ACCEPTOR-1797</td>\n",
       "      <td>GGCCTCTCCTTCTCTTCCTTCACTTTGCAGAGGCTGGAAGATGGCA...</td>\n",
       "    </tr>\n",
       "    <tr>\n",
       "      <th>1121</th>\n",
       "      <td>IE</td>\n",
       "      <td>HUMGHVA-ACCEPTOR-741</td>\n",
       "      <td>GGCCTCTCCTTCTCTTCCTTCACTTTGCAGAGGCTGGAAGATGGCA...</td>\n",
       "    </tr>\n",
       "  </tbody>\n",
       "</table>\n",
       "</div>"
      ],
      "text/plain": [
       "     target            instance_name  \\\n",
       "1096     IE      HUMGH-ACCEPTOR-1572   \n",
       "1100     IE   HUMGHCSA-ACCEPTOR-6465   \n",
       "1112     IE  HUMGHCSA-ACCEPTOR-43393   \n",
       "1120     IE     HUMGHN-ACCEPTOR-1797   \n",
       "1121     IE     HUMGHVA-ACCEPTOR-741   \n",
       "\n",
       "                                               sequence  \n",
       "1096  GGCCTCTCCTTCTCTTCCTTCACTTTGCAGAGGCTGGAAGATGGCA...  \n",
       "1100  GGCCTCTCCTTCTCTTCCTTCACTTTGCAGAGGCTGGAAGATGGCA...  \n",
       "1112  GGCCTCTCCTTCTCTTCCTTCACTTTGCAGAGGCTGGAAGATGGCA...  \n",
       "1120  GGCCTCTCCTTCTCTTCCTTCACTTTGCAGAGGCTGGAAGATGGCA...  \n",
       "1121  GGCCTCTCCTTCTCTTCCTTCACTTTGCAGAGGCTGGAAGATGGCA...  "
      ]
     },
     "execution_count": 7,
     "metadata": {},
     "output_type": "execute_result"
    }
   ],
   "source": [
    "df[df.sequence == tmp]"
   ]
  },
  {
   "cell_type": "markdown",
   "metadata": {},
   "source": [
    "### DNA sequence의 길이는 모두 60으로 동일한 것을 확인할 수 있습니다."
   ]
  },
  {
   "cell_type": "code",
   "execution_count": 8,
   "metadata": {},
   "outputs": [],
   "source": [
    "df[\"seq_len\"] = df.sequence.apply(lambda seq: len(seq))"
   ]
  },
  {
   "cell_type": "code",
   "execution_count": 9,
   "metadata": {},
   "outputs": [
    {
     "data": {
      "text/plain": [
       "array([60])"
      ]
     },
     "execution_count": 9,
     "metadata": {},
     "output_type": "execute_result"
    }
   ],
   "source": [
    "df.seq_len.unique()"
   ]
  },
  {
   "cell_type": "code",
   "execution_count": 10,
   "metadata": {},
   "outputs": [],
   "source": [
    "df[\"seq_unique_letters\"] = df.sequence.apply(lambda seq: \"\".join(sorted(list(set(seq)))))"
   ]
  },
  {
   "cell_type": "code",
   "execution_count": 11,
   "metadata": {},
   "outputs": [
    {
     "data": {
      "text/plain": [
       "array(['ACGT', 'ACGNT', 'ACDGT', 'ACGRT', 'ACGST', 'AG', 'CGT', 'CT'],\n",
       "      dtype=object)"
      ]
     },
     "execution_count": 11,
     "metadata": {},
     "output_type": "execute_result"
    }
   ],
   "source": [
    "df.seq_unique_letters.unique()"
   ]
  },
  {
   "cell_type": "markdown",
   "metadata": {},
   "source": [
    "### 대부분의 Sequence는 A,C,G,T 4가지 알파벳으로 이루어져 있다는 것을 확인하였습니다."
   ]
  },
  {
   "cell_type": "code",
   "execution_count": 12,
   "metadata": {},
   "outputs": [
    {
     "data": {
      "text/html": [
       "<div>\n",
       "<style scoped>\n",
       "    .dataframe tbody tr th:only-of-type {\n",
       "        vertical-align: middle;\n",
       "    }\n",
       "\n",
       "    .dataframe tbody tr th {\n",
       "        vertical-align: top;\n",
       "    }\n",
       "\n",
       "    .dataframe thead th {\n",
       "        text-align: right;\n",
       "    }\n",
       "</style>\n",
       "<table border=\"1\" class=\"dataframe\">\n",
       "  <thead>\n",
       "    <tr style=\"text-align: right;\">\n",
       "      <th>seq_unique_letters</th>\n",
       "      <th>ACDGT</th>\n",
       "      <th>ACGNT</th>\n",
       "      <th>ACGRT</th>\n",
       "      <th>ACGST</th>\n",
       "      <th>ACGT</th>\n",
       "      <th>AG</th>\n",
       "      <th>CGT</th>\n",
       "      <th>CT</th>\n",
       "    </tr>\n",
       "    <tr>\n",
       "      <th>target</th>\n",
       "      <th></th>\n",
       "      <th></th>\n",
       "      <th></th>\n",
       "      <th></th>\n",
       "      <th></th>\n",
       "      <th></th>\n",
       "      <th></th>\n",
       "      <th></th>\n",
       "    </tr>\n",
       "  </thead>\n",
       "  <tbody>\n",
       "    <tr>\n",
       "      <th>EI</th>\n",
       "      <td>0</td>\n",
       "      <td>5</td>\n",
       "      <td>0</td>\n",
       "      <td>0</td>\n",
       "      <td>762</td>\n",
       "      <td>0</td>\n",
       "      <td>0</td>\n",
       "      <td>0</td>\n",
       "    </tr>\n",
       "    <tr>\n",
       "      <th>IE</th>\n",
       "      <td>1</td>\n",
       "      <td>0</td>\n",
       "      <td>1</td>\n",
       "      <td>1</td>\n",
       "      <td>765</td>\n",
       "      <td>0</td>\n",
       "      <td>0</td>\n",
       "      <td>0</td>\n",
       "    </tr>\n",
       "    <tr>\n",
       "      <th>N</th>\n",
       "      <td>1</td>\n",
       "      <td>6</td>\n",
       "      <td>0</td>\n",
       "      <td>0</td>\n",
       "      <td>1642</td>\n",
       "      <td>2</td>\n",
       "      <td>3</td>\n",
       "      <td>1</td>\n",
       "    </tr>\n",
       "  </tbody>\n",
       "</table>\n",
       "</div>"
      ],
      "text/plain": [
       "seq_unique_letters  ACDGT  ACGNT  ACGRT  ACGST  ACGT  AG  CGT  CT\n",
       "target                                                           \n",
       "EI                      0      5      0      0   762   0    0   0\n",
       "IE                      1      0      1      1   765   0    0   0\n",
       "N                       1      6      0      0  1642   2    3   1"
      ]
     },
     "execution_count": 12,
     "metadata": {},
     "output_type": "execute_result"
    }
   ],
   "source": [
    "df.pivot_table(\"seq_len\", \"target\", \"seq_unique_letters\", aggfunc=np.sum, fill_value=0)/60"
   ]
  },
  {
   "cell_type": "code",
   "execution_count": 13,
   "metadata": {},
   "outputs": [
    {
     "data": {
      "text/html": [
       "<div>\n",
       "<style scoped>\n",
       "    .dataframe tbody tr th:only-of-type {\n",
       "        vertical-align: middle;\n",
       "    }\n",
       "\n",
       "    .dataframe tbody tr th {\n",
       "        vertical-align: top;\n",
       "    }\n",
       "\n",
       "    .dataframe thead th {\n",
       "        text-align: right;\n",
       "    }\n",
       "</style>\n",
       "<table border=\"1\" class=\"dataframe\">\n",
       "  <thead>\n",
       "    <tr style=\"text-align: right;\">\n",
       "      <th></th>\n",
       "      <th>target</th>\n",
       "      <th>instance_name</th>\n",
       "      <th>sequence</th>\n",
       "      <th>seq_len</th>\n",
       "      <th>seq_unique_letters</th>\n",
       "    </tr>\n",
       "  </thead>\n",
       "  <tbody>\n",
       "    <tr>\n",
       "      <th>0</th>\n",
       "      <td>EI</td>\n",
       "      <td>ATRINS-DONOR-521</td>\n",
       "      <td>CCAGCTGCATCACAGGAGGCCAGCGAGCAGGTCTGTTCCAAGGGCC...</td>\n",
       "      <td>60</td>\n",
       "      <td>ACGT</td>\n",
       "    </tr>\n",
       "    <tr>\n",
       "      <th>1</th>\n",
       "      <td>EI</td>\n",
       "      <td>ATRINS-DONOR-905</td>\n",
       "      <td>AGACCCGCCGGGAGGCGGAGGACCTGCAGGGTGAGCCCCACCGCCC...</td>\n",
       "      <td>60</td>\n",
       "      <td>ACGT</td>\n",
       "    </tr>\n",
       "    <tr>\n",
       "      <th>2</th>\n",
       "      <td>EI</td>\n",
       "      <td>BABAPOE-DONOR-30</td>\n",
       "      <td>GAGGTGAAGGACGTCCTTCCCCAGGAGCCGGTGAGAAGCGCAGTCG...</td>\n",
       "      <td>60</td>\n",
       "      <td>ACGT</td>\n",
       "    </tr>\n",
       "    <tr>\n",
       "      <th>3</th>\n",
       "      <td>EI</td>\n",
       "      <td>BABAPOE-DONOR-867</td>\n",
       "      <td>GGGCTGCGTTGCTGGTCACATTCCTGGCAGGTATGGGGCGGGGCTT...</td>\n",
       "      <td>60</td>\n",
       "      <td>ACGT</td>\n",
       "    </tr>\n",
       "    <tr>\n",
       "      <th>4</th>\n",
       "      <td>EI</td>\n",
       "      <td>BABAPOE-DONOR-2817</td>\n",
       "      <td>GCTCAGCCCCCAGGTCACCCAGGAACTGACGTGAGTGTCCCCATCC...</td>\n",
       "      <td>60</td>\n",
       "      <td>ACGT</td>\n",
       "    </tr>\n",
       "  </tbody>\n",
       "</table>\n",
       "</div>"
      ],
      "text/plain": [
       "  target       instance_name  \\\n",
       "0     EI    ATRINS-DONOR-521   \n",
       "1     EI    ATRINS-DONOR-905   \n",
       "2     EI    BABAPOE-DONOR-30   \n",
       "3     EI   BABAPOE-DONOR-867   \n",
       "4     EI  BABAPOE-DONOR-2817   \n",
       "\n",
       "                                            sequence  seq_len  \\\n",
       "0  CCAGCTGCATCACAGGAGGCCAGCGAGCAGGTCTGTTCCAAGGGCC...       60   \n",
       "1  AGACCCGCCGGGAGGCGGAGGACCTGCAGGGTGAGCCCCACCGCCC...       60   \n",
       "2  GAGGTGAAGGACGTCCTTCCCCAGGAGCCGGTGAGAAGCGCAGTCG...       60   \n",
       "3  GGGCTGCGTTGCTGGTCACATTCCTGGCAGGTATGGGGCGGGGCTT...       60   \n",
       "4  GCTCAGCCCCCAGGTCACCCAGGAACTGACGTGAGTGTCCCCATCC...       60   \n",
       "\n",
       "  seq_unique_letters  \n",
       "0               ACGT  \n",
       "1               ACGT  \n",
       "2               ACGT  \n",
       "3               ACGT  \n",
       "4               ACGT  "
      ]
     },
     "execution_count": 13,
     "metadata": {},
     "output_type": "execute_result"
    }
   ],
   "source": [
    "df.head()"
   ]
  },
  {
   "cell_type": "markdown",
   "metadata": {},
   "source": [
    "### 간단히 데이터를 살펴보고 최초로 전처리를 시도한 방법은 아래 2가지입니다.\n",
    "1. sequence를 CountVectorizer로 embedding.\n",
    "2. sequence를 TfidfVectorizer로 embedding."
   ]
  },
  {
   "cell_type": "code",
   "execution_count": 14,
   "metadata": {},
   "outputs": [],
   "source": [
    "cnt_preprocessed = DataPreprocess(df, is_vectorize=True, vectorizer=CountVectorizer)\n",
    "tf_preprocessed  = DataPreprocess(df, is_vectorize=True, vectorizer=TfidfVectorizer)\n",
    "ohe_preprocessed = DataPreprocess(df)"
   ]
  },
  {
   "cell_type": "code",
   "execution_count": 15,
   "metadata": {},
   "outputs": [],
   "source": [
    "cnt_model_train = ClassicModelTrain(cnt_preprocessed)\n",
    "tf_model_train = ClassicModelTrain(tf_preprocessed)\n",
    "ohe_model_train = ClassicModelTrain(ohe_preprocessed)"
   ]
  },
  {
   "cell_type": "code",
   "execution_count": 16,
   "metadata": {},
   "outputs": [],
   "source": [
    "def draw_cnt_data_distribution(data):\n",
    "    x_train, x_test, y_train, y_test = data.get_preprocessed_data()\n",
    "    tmp = y_train.reset_index()\n",
    "    tmp = pd.DataFrame(np.hstack([x_train, y_train.reshape(len(y_train), 1)]))\n",
    "    tmp_0 = tmp[tmp[8] == \"N\"]\n",
    "    tmp_1 = tmp[tmp[8] == \"IE\"]\n",
    "    tmp_2 = tmp[tmp[8] == \"EI\"]\n",
    "    for i in tmp.columns:\n",
    "        if i != len(tmp.columns) - 1:\n",
    "            tmp[i] = tmp[i].astype(int)\n",
    "    tmp.dtypes\n",
    "    plt.figure(figsize=(15, 5))\n",
    "    plt.subplot(1, 3, 1)\n",
    "    sns.boxplot(data=tmp_0.values[:,:-1])\n",
    "    plt.title(\"N\")\n",
    "    plt.subplot(1, 3, 2)\n",
    "    sns.boxplot(data=tmp_1.values[:,:-1])\n",
    "    plt.title(\"IE\")\n",
    "    plt.subplot(1, 3, 3)\n",
    "    sns.boxplot(data=tmp_2.values[:,:-1])\n",
    "    plt.title(\"EI\")\n",
    "    plt.show()"
   ]
  },
  {
   "cell_type": "markdown",
   "metadata": {},
   "source": [
    "### 아래의 그래프는 CountVectorizer를 이용한 경우 각 클래스간의 분포도입니다."
   ]
  },
  {
   "cell_type": "code",
   "execution_count": 17,
   "metadata": {},
   "outputs": [
    {
     "data": {
      "image/png": "[encoded data removed]",
      "text/plain": [
       "<Figure size 1080x360 with 3 Axes>"
      ]
     },
     "metadata": {
      "image/png": {
       "height": 318,
       "width": 872
      }
     },
     "output_type": "display_data"
    }
   ],
   "source": [
    "draw_cnt_data_distribution(cnt_preprocessed)"
   ]
  },
  {
   "cell_type": "markdown",
   "metadata": {},
   "source": [
    "### 아래의 그래프는 TfidfVectorizer를 이용한 경우 각 클래스간의 분포도입니다."
   ]
  },
  {
   "cell_type": "code",
   "execution_count": 18,
   "metadata": {},
   "outputs": [
    {
     "data": {
      "image/png": "[encoded data removed]",
      "text/plain": [
       "<Figure size 1080x360 with 3 Axes>"
      ]
     },
     "metadata": {
      "image/png": {
       "height": 318,
       "width": 878
      }
     },
     "output_type": "display_data"
    }
   ],
   "source": [
    "draw_cnt_data_distribution(tf_preprocessed)"
   ]
  },
  {
   "cell_type": "markdown",
   "metadata": {},
   "source": [
    "### 두 그래프를 통해서 각 클래스간에 존재하는 알파벳 개수의 분포가 다른 것을 확인할 수 있었습니다."
   ]
  },
  {
   "cell_type": "markdown",
   "metadata": {},
   "source": [
    "---"
   ]
  },
  {
   "cell_type": "markdown",
   "metadata": {},
   "source": [
    "# 아래부터는 두 가지 기법을 사용한 모델링(클래식 머신러닝, 딥러닝) 코드입니다.\n",
    "\n",
    "### 모델 평가는 주로 sklearn.metrics.classification_report()를 통하여 precision, recall, f1-score를 확인하는 방법을 사용하였습니다.\n",
    "\n",
    "### 모델 평가를 진행한 자세한 방법은\n",
    ">전체 데이터 3190개에 대해서 test 40%비율로 split을 하였고, X_train으로 학습을 진행하였습니다(X train, X_test 는 각각 1914, 1276 rows).\n",
    "\n",
    "\n",
    "1. X_test로 예측하고 classification_report를 이용하여 평가.\n",
    "2. 전체 데이터 3190개에서 랜덤하게 1000개를 뽑은 데이터를 이용해서 예측하고 classification_report를 이용하여 평가.\n",
    "3. 2번을 10번 시도하여 나온 Accuracy값의 평균을 확인."
   ]
  },
  {
   "cell_type": "markdown",
   "metadata": {},
   "source": [
    "## 1. 클래식 머신러닝 기법으로 모델링"
   ]
  },
  {
   "cell_type": "markdown",
   "metadata": {},
   "source": [
    "### 먼저 CountVectorizer를 통해서 embedding한 데이터를 이용하여 모델링을 시도해봤습니다."
   ]
  },
  {
   "cell_type": "code",
   "execution_count": 19,
   "metadata": {},
   "outputs": [
    {
     "data": {
      "text/markdown": [
       "##### shape of X train and X_test : "
      ],
      "text/plain": [
       "<IPython.core.display.Markdown object>"
      ]
     },
     "metadata": {},
     "output_type": "display_data"
    },
    {
     "name": "stdout",
     "output_type": "stream",
     "text": [
      "(1914, 8) (1276, 8)\n"
     ]
    },
    {
     "data": {
      "text/markdown": [
       "#### Run logistic"
      ],
      "text/plain": [
       "<IPython.core.display.Markdown object>"
      ]
     },
     "metadata": {},
     "output_type": "display_data"
    },
    {
     "data": {
      "text/markdown": [
       "##### Logistic Regression classification report : "
      ],
      "text/plain": [
       "<IPython.core.display.Markdown object>"
      ]
     },
     "metadata": {},
     "output_type": "display_data"
    },
    {
     "name": "stdout",
     "output_type": "stream",
     "text": [
      "             precision    recall  f1-score   support\n",
      "\n",
      "         EI       0.56      0.16      0.25       320\n",
      "         IE       0.55      0.24      0.33       327\n",
      "          N       0.52      0.86      0.65       629\n",
      "\n",
      "avg / total       0.54      0.53      0.47      1276\n",
      "\n"
     ]
    },
    {
     "data": {
      "text/markdown": [
       "##### Logistic Regression <span style='color: red'>randomly selected 1000 data</span> classification report : "
      ],
      "text/plain": [
       "<IPython.core.display.Markdown object>"
      ]
     },
     "metadata": {},
     "output_type": "display_data"
    },
    {
     "name": "stdout",
     "output_type": "stream",
     "text": [
      "             precision    recall  f1-score   support\n",
      "\n",
      "         EI       0.57      0.14      0.22       229\n",
      "         IE       0.45      0.22      0.29       245\n",
      "          N       0.55      0.86      0.67       526\n",
      "\n",
      "avg / total       0.53      0.54      0.48      1000\n",
      "\n"
     ]
    },
    {
     "data": {
      "text/markdown": [
       "##### Ten-fold cross-validation accuracy score : "
      ],
      "text/plain": [
       "<IPython.core.display.Markdown object>"
      ]
     },
     "metadata": {},
     "output_type": "display_data"
    },
    {
     "data": {
      "text/markdown": [
       "##### : 53.61999999999999"
      ],
      "text/plain": [
       "<IPython.core.display.Markdown object>"
      ]
     },
     "metadata": {},
     "output_type": "display_data"
    },
    {
     "data": {
      "text/markdown": [
       "#### Run multinomialNB"
      ],
      "text/plain": [
       "<IPython.core.display.Markdown object>"
      ]
     },
     "metadata": {},
     "output_type": "display_data"
    },
    {
     "data": {
      "text/markdown": [
       "##### MultinomialNB classification report : "
      ],
      "text/plain": [
       "<IPython.core.display.Markdown object>"
      ]
     },
     "metadata": {},
     "output_type": "display_data"
    },
    {
     "name": "stdout",
     "output_type": "stream",
     "text": [
      "             precision    recall  f1-score   support\n",
      "\n",
      "         EI       0.47      0.43      0.45       320\n",
      "         IE       0.50      0.49      0.50       327\n",
      "          N       0.56      0.59      0.58       629\n",
      "\n",
      "avg / total       0.52      0.53      0.52      1276\n",
      "\n"
     ]
    },
    {
     "data": {
      "text/markdown": [
       "##### MultinomialNB <span style='color: red'>randomly selected 1000 data</span> classification report : "
      ],
      "text/plain": [
       "<IPython.core.display.Markdown object>"
      ]
     },
     "metadata": {},
     "output_type": "display_data"
    },
    {
     "name": "stdout",
     "output_type": "stream",
     "text": [
      "             precision    recall  f1-score   support\n",
      "\n",
      "         EI       0.42      0.38      0.40       252\n",
      "         IE       0.49      0.51      0.50       233\n",
      "          N       0.58      0.59      0.58       515\n",
      "\n",
      "avg / total       0.52      0.52      0.52      1000\n",
      "\n"
     ]
    },
    {
     "data": {
      "text/markdown": [
       "##### Ten-fold cross-validation accuracy score : "
      ],
      "text/plain": [
       "<IPython.core.display.Markdown object>"
      ]
     },
     "metadata": {},
     "output_type": "display_data"
    },
    {
     "data": {
      "text/markdown": [
       "##### : 52.89"
      ],
      "text/plain": [
       "<IPython.core.display.Markdown object>"
      ]
     },
     "metadata": {},
     "output_type": "display_data"
    },
    {
     "data": {
      "text/markdown": [
       "#### Run random forest"
      ],
      "text/plain": [
       "<IPython.core.display.Markdown object>"
      ]
     },
     "metadata": {},
     "output_type": "display_data"
    },
    {
     "data": {
      "image/png": "[encoded data removed]",
      "text/plain": [
       "<Figure size 432x288 with 1 Axes>"
      ]
     },
     "metadata": {
      "image/png": {
       "height": 263,
       "width": 380
      }
     },
     "output_type": "display_data"
    },
    {
     "data": {
      "text/markdown": [
       "0.5882967607105538"
      ],
      "text/plain": [
       "<IPython.core.display.Markdown object>"
      ]
     },
     "metadata": {},
     "output_type": "display_data"
    },
    {
     "data": {
      "text/markdown": [
       "{'max_depth': 7, 'n_estimators': 110}"
      ],
      "text/plain": [
       "<IPython.core.display.Markdown object>"
      ]
     },
     "metadata": {},
     "output_type": "display_data"
    },
    {
     "data": {
      "text/markdown": [
       "#### Run extra random forest"
      ],
      "text/plain": [
       "<IPython.core.display.Markdown object>"
      ]
     },
     "metadata": {},
     "output_type": "display_data"
    },
    {
     "data": {
      "image/png": "[encoded data removed]",
      "text/plain": [
       "<Figure size 432x288 with 1 Axes>"
      ]
     },
     "metadata": {
      "image/png": {
       "height": 263,
       "width": 386
      }
     },
     "output_type": "display_data"
    },
    {
     "data": {
      "text/markdown": [
       "0.5642633228840125"
      ],
      "text/plain": [
       "<IPython.core.display.Markdown object>"
      ]
     },
     "metadata": {},
     "output_type": "display_data"
    },
    {
     "data": {
      "text/markdown": [
       "{'max_depth': 9, 'n_estimators': 110}"
      ],
      "text/plain": [
       "<IPython.core.display.Markdown object>"
      ]
     },
     "metadata": {},
     "output_type": "display_data"
    },
    {
     "data": {
      "text/markdown": [
       "##### Kernel Support Vector Machine classification report : "
      ],
      "text/plain": [
       "<IPython.core.display.Markdown object>"
      ]
     },
     "metadata": {},
     "output_type": "display_data"
    },
    {
     "name": "stdout",
     "output_type": "stream",
     "text": [
      "             precision    recall  f1-score   support\n",
      "\n",
      "         EI       0.52      0.26      0.35       320\n",
      "         IE       0.55      0.35      0.43       327\n",
      "          N       0.54      0.78      0.64       629\n",
      "\n",
      "avg / total       0.54      0.54      0.51      1276\n",
      "\n"
     ]
    },
    {
     "data": {
      "text/markdown": [
       "##### Kernel Support Vector Machine <span style='color: red'>randomly selected 1000 data</span> classification report : "
      ],
      "text/plain": [
       "<IPython.core.display.Markdown object>"
      ]
     },
     "metadata": {},
     "output_type": "display_data"
    },
    {
     "name": "stdout",
     "output_type": "stream",
     "text": [
      "             precision    recall  f1-score   support\n",
      "\n",
      "         EI       0.68      0.37      0.48       249\n",
      "         IE       0.64      0.46      0.54       244\n",
      "          N       0.61      0.83      0.70       507\n",
      "\n",
      "avg / total       0.63      0.62      0.61      1000\n",
      "\n"
     ]
    },
    {
     "data": {
      "text/markdown": [
       "##### Ten-fold cross-validation accuracy score : "
      ],
      "text/plain": [
       "<IPython.core.display.Markdown object>"
      ]
     },
     "metadata": {},
     "output_type": "display_data"
    },
    {
     "data": {
      "text/markdown": [
       "##### : 63.21"
      ],
      "text/plain": [
       "<IPython.core.display.Markdown object>"
      ]
     },
     "metadata": {},
     "output_type": "display_data"
    },
    {
     "data": {
      "text/markdown": [
       "#### Run xgboost"
      ],
      "text/plain": [
       "<IPython.core.display.Markdown object>"
      ]
     },
     "metadata": {},
     "output_type": "display_data"
    },
    {
     "data": {
      "text/markdown": [
       "##### XGBoost classification report : "
      ],
      "text/plain": [
       "<IPython.core.display.Markdown object>"
      ]
     },
     "metadata": {},
     "output_type": "display_data"
    },
    {
     "name": "stdout",
     "output_type": "stream",
     "text": [
      "             precision    recall  f1-score   support\n",
      "\n",
      "         EI       0.50      0.24      0.32       320\n",
      "         IE       0.53      0.42      0.47       327\n",
      "          N       0.56      0.76      0.64       629\n",
      "\n",
      "avg / total       0.54      0.54      0.52      1276\n",
      "\n"
     ]
    },
    {
     "data": {
      "text/markdown": [
       "##### XGBoost <span style='color: red'>randomly selected 1000 data</span> classification report : "
      ],
      "text/plain": [
       "<IPython.core.display.Markdown object>"
      ]
     },
     "metadata": {},
     "output_type": "display_data"
    },
    {
     "name": "stdout",
     "output_type": "stream",
     "text": [
      "             precision    recall  f1-score   support\n",
      "\n",
      "         EI       0.60      0.33      0.42       235\n",
      "         IE       0.59      0.53      0.56       232\n",
      "          N       0.65      0.81      0.72       533\n",
      "\n",
      "avg / total       0.62      0.63      0.61      1000\n",
      "\n"
     ]
    },
    {
     "data": {
      "text/markdown": [
       "##### Ten-fold cross-validation accuracy score : "
      ],
      "text/plain": [
       "<IPython.core.display.Markdown object>"
      ]
     },
     "metadata": {},
     "output_type": "display_data"
    },
    {
     "data": {
      "text/markdown": [
       "##### : 63.019999999999996"
      ],
      "text/plain": [
       "<IPython.core.display.Markdown object>"
      ]
     },
     "metadata": {},
     "output_type": "display_data"
    },
    {
     "name": "stdout",
     "output_type": "stream",
     "text": [
      "CPU times: user 7.25 s, sys: 294 ms, total: 7.54 s\n",
      "Wall time: 1min 6s\n"
     ]
    }
   ],
   "source": [
    "%%time\n",
    "cnt_model_train.run_all()"
   ]
  },
  {
   "cell_type": "markdown",
   "metadata": {},
   "source": [
    "### 정리해서 보면\n",
    "<div style='text-align:center'>\n",
    "<img src='./cnt.png'>\n",
    "Run할 때마다 값이 조금씩 달라져서 위의 값과는 일치하지 않을 수 있습니다.\n",
    "    </div>\n",
    "\n",
    "\n",
    "- 모든 모델에 대해서 하이퍼패러미터를 다양하게 도전해보지는 못했지만, randomForest나, extraRandomForest 같은 경우는 gridSearchCV를 사용하여 50가지씩 도전했지만 크게 나아지는 것을 확인하지는 못했습니다.\n",
    "- Ten-fold CV는 오리지널 데이터 3190 중에 랜덤하게 1000개를 뽑아서 진행하였기 때문에 경우에 따라서는 모델 학습에 쓰인 데이터가 Test로 사용되는 경우도 있습니다. 그래서 최고 모델을 선정하는 것에 있어서는 그것보다는 학습에 사용되지 않았던 데이터를 이용하여 제시된 ClassificationReport 정보에 좀 더 높은 가중치를 두었습니다."
   ]
  },
  {
   "cell_type": "markdown",
   "metadata": {},
   "source": [
    "### 이번에는 TfidfVectorizer를 이용하여 모델링을 시도해봤습니다."
   ]
  },
  {
   "cell_type": "code",
   "execution_count": 20,
   "metadata": {},
   "outputs": [
    {
     "data": {
      "text/markdown": [
       "##### shape of X train and X_test : "
      ],
      "text/plain": [
       "<IPython.core.display.Markdown object>"
      ]
     },
     "metadata": {},
     "output_type": "display_data"
    },
    {
     "name": "stdout",
     "output_type": "stream",
     "text": [
      "(1914, 8) (1276, 8)\n"
     ]
    },
    {
     "data": {
      "text/markdown": [
       "#### Run logistic"
      ],
      "text/plain": [
       "<IPython.core.display.Markdown object>"
      ]
     },
     "metadata": {},
     "output_type": "display_data"
    },
    {
     "data": {
      "text/markdown": [
       "##### Logistic Regression classification report : "
      ],
      "text/plain": [
       "<IPython.core.display.Markdown object>"
      ]
     },
     "metadata": {},
     "output_type": "display_data"
    },
    {
     "name": "stdout",
     "output_type": "stream",
     "text": [
      "             precision    recall  f1-score   support\n",
      "\n",
      "         EI       0.55      0.16      0.25       320\n",
      "         IE       0.54      0.24      0.34       327\n",
      "          N       0.52      0.85      0.64       629\n",
      "\n",
      "avg / total       0.53      0.52      0.47      1276\n",
      "\n"
     ]
    },
    {
     "data": {
      "text/markdown": [
       "##### Logistic Regression <span style='color: red'>randomly selected 1000 data</span> classification report : "
      ],
      "text/plain": [
       "<IPython.core.display.Markdown object>"
      ]
     },
     "metadata": {},
     "output_type": "display_data"
    },
    {
     "name": "stdout",
     "output_type": "stream",
     "text": [
      "             precision    recall  f1-score   support\n",
      "\n",
      "         EI       0.61      0.19      0.29       244\n",
      "         IE       0.56      0.26      0.36       246\n",
      "          N       0.55      0.86      0.67       510\n",
      "\n",
      "avg / total       0.56      0.55      0.50      1000\n",
      "\n"
     ]
    },
    {
     "data": {
      "text/markdown": [
       "##### Ten-fold cross-validation accuracy score : "
      ],
      "text/plain": [
       "<IPython.core.display.Markdown object>"
      ]
     },
     "metadata": {},
     "output_type": "display_data"
    },
    {
     "data": {
      "text/markdown": [
       "##### : 53.820000000000014"
      ],
      "text/plain": [
       "<IPython.core.display.Markdown object>"
      ]
     },
     "metadata": {},
     "output_type": "display_data"
    },
    {
     "data": {
      "text/markdown": [
       "#### Run multinomialNB"
      ],
      "text/plain": [
       "<IPython.core.display.Markdown object>"
      ]
     },
     "metadata": {},
     "output_type": "display_data"
    },
    {
     "data": {
      "text/markdown": [
       "##### MultinomialNB classification report : "
      ],
      "text/plain": [
       "<IPython.core.display.Markdown object>"
      ]
     },
     "metadata": {},
     "output_type": "display_data"
    },
    {
     "name": "stdout",
     "output_type": "stream",
     "text": [
      "             precision    recall  f1-score   support\n",
      "\n",
      "         EI       0.45      0.57      0.51       320\n",
      "         IE       0.48      0.60      0.53       327\n",
      "          N       0.60      0.44      0.51       629\n",
      "\n",
      "avg / total       0.53      0.51      0.51      1276\n",
      "\n"
     ]
    },
    {
     "data": {
      "text/markdown": [
       "##### MultinomialNB <span style='color: red'>randomly selected 1000 data</span> classification report : "
      ],
      "text/plain": [
       "<IPython.core.display.Markdown object>"
      ]
     },
     "metadata": {},
     "output_type": "display_data"
    },
    {
     "name": "stdout",
     "output_type": "stream",
     "text": [
      "             precision    recall  f1-score   support\n",
      "\n",
      "         EI       0.40      0.61      0.48       211\n",
      "         IE       0.43      0.54      0.48       246\n",
      "          N       0.62      0.42      0.50       543\n",
      "\n",
      "avg / total       0.53      0.49      0.49      1000\n",
      "\n"
     ]
    },
    {
     "data": {
      "text/markdown": [
       "##### Ten-fold cross-validation accuracy score : "
      ],
      "text/plain": [
       "<IPython.core.display.Markdown object>"
      ]
     },
     "metadata": {},
     "output_type": "display_data"
    },
    {
     "data": {
      "text/markdown": [
       "##### : 50.22"
      ],
      "text/plain": [
       "<IPython.core.display.Markdown object>"
      ]
     },
     "metadata": {},
     "output_type": "display_data"
    },
    {
     "data": {
      "text/markdown": [
       "#### Run random forest"
      ],
      "text/plain": [
       "<IPython.core.display.Markdown object>"
      ]
     },
     "metadata": {},
     "output_type": "display_data"
    },
    {
     "data": {
      "image/png": "[encoded data removed]",
      "text/plain": [
       "<Figure size 432x288 with 1 Axes>"
      ]
     },
     "metadata": {
      "image/png": {
       "height": 263,
       "width": 380
      }
     },
     "output_type": "display_data"
    },
    {
     "data": {
      "text/markdown": [
       "0.5882967607105538"
      ],
      "text/plain": [
       "<IPython.core.display.Markdown object>"
      ]
     },
     "metadata": {},
     "output_type": "display_data"
    },
    {
     "data": {
      "text/markdown": [
       "{'max_depth': 9, 'n_estimators': 180}"
      ],
      "text/plain": [
       "<IPython.core.display.Markdown object>"
      ]
     },
     "metadata": {},
     "output_type": "display_data"
    },
    {
     "data": {
      "text/markdown": [
       "#### Run extra random forest"
      ],
      "text/plain": [
       "<IPython.core.display.Markdown object>"
      ]
     },
     "metadata": {},
     "output_type": "display_data"
    },
    {
     "data": {
      "image/png": "[encoded data removed]",
      "text/plain": [
       "<Figure size 432x288 with 1 Axes>"
      ]
     },
     "metadata": {
      "image/png": {
       "height": 263,
       "width": 380
      }
     },
     "output_type": "display_data"
    },
    {
     "data": {
      "text/markdown": [
       "0.5830721003134797"
      ],
      "text/plain": [
       "<IPython.core.display.Markdown object>"
      ]
     },
     "metadata": {},
     "output_type": "display_data"
    },
    {
     "data": {
      "text/markdown": [
       "{'max_depth': 9, 'n_estimators': 100}"
      ],
      "text/plain": [
       "<IPython.core.display.Markdown object>"
      ]
     },
     "metadata": {},
     "output_type": "display_data"
    },
    {
     "data": {
      "text/markdown": [
       "##### Kernel Support Vector Machine classification report : "
      ],
      "text/plain": [
       "<IPython.core.display.Markdown object>"
      ]
     },
     "metadata": {},
     "output_type": "display_data"
    },
    {
     "name": "stdout",
     "output_type": "stream",
     "text": [
      "             precision    recall  f1-score   support\n",
      "\n",
      "         EI       0.50      0.19      0.28       320\n",
      "         IE       0.63      0.21      0.32       327\n",
      "          N       0.54      0.89      0.67       629\n",
      "\n",
      "avg / total       0.55      0.54      0.48      1276\n",
      "\n"
     ]
    },
    {
     "data": {
      "text/markdown": [
       "##### Kernel Support Vector Machine <span style='color: red'>randomly selected 1000 data</span> classification report : "
      ],
      "text/plain": [
       "<IPython.core.display.Markdown object>"
      ]
     },
     "metadata": {},
     "output_type": "display_data"
    },
    {
     "name": "stdout",
     "output_type": "stream",
     "text": [
      "             precision    recall  f1-score   support\n",
      "\n",
      "         EI       0.81      0.56      0.66       233\n",
      "         IE       0.90      0.61      0.73       256\n",
      "          N       0.73      0.95      0.82       511\n",
      "\n",
      "avg / total       0.79      0.77      0.76      1000\n",
      "\n"
     ]
    },
    {
     "data": {
      "text/markdown": [
       "##### Ten-fold cross-validation accuracy score : "
      ],
      "text/plain": [
       "<IPython.core.display.Markdown object>"
      ]
     },
     "metadata": {},
     "output_type": "display_data"
    },
    {
     "data": {
      "text/markdown": [
       "##### : 76.22000000000001"
      ],
      "text/plain": [
       "<IPython.core.display.Markdown object>"
      ]
     },
     "metadata": {},
     "output_type": "display_data"
    },
    {
     "data": {
      "text/markdown": [
       "#### Run xgboost"
      ],
      "text/plain": [
       "<IPython.core.display.Markdown object>"
      ]
     },
     "metadata": {},
     "output_type": "display_data"
    },
    {
     "data": {
      "text/markdown": [
       "##### XGBoost classification report : "
      ],
      "text/plain": [
       "<IPython.core.display.Markdown object>"
      ]
     },
     "metadata": {},
     "output_type": "display_data"
    },
    {
     "name": "stdout",
     "output_type": "stream",
     "text": [
      "             precision    recall  f1-score   support\n",
      "\n",
      "         EI       0.47      0.23      0.31       320\n",
      "         IE       0.57      0.42      0.48       327\n",
      "          N       0.56      0.78      0.65       629\n",
      "\n",
      "avg / total       0.54      0.55      0.52      1276\n",
      "\n"
     ]
    },
    {
     "data": {
      "text/markdown": [
       "##### XGBoost <span style='color: red'>randomly selected 1000 data</span> classification report : "
      ],
      "text/plain": [
       "<IPython.core.display.Markdown object>"
      ]
     },
     "metadata": {},
     "output_type": "display_data"
    },
    {
     "name": "stdout",
     "output_type": "stream",
     "text": [
      "             precision    recall  f1-score   support\n",
      "\n",
      "         EI       0.63      0.32      0.43       229\n",
      "         IE       0.64      0.48      0.55       246\n",
      "          N       0.63      0.84      0.72       525\n",
      "\n",
      "avg / total       0.63      0.63      0.61      1000\n",
      "\n"
     ]
    },
    {
     "data": {
      "text/markdown": [
       "##### Ten-fold cross-validation accuracy score : "
      ],
      "text/plain": [
       "<IPython.core.display.Markdown object>"
      ]
     },
     "metadata": {},
     "output_type": "display_data"
    },
    {
     "data": {
      "text/markdown": [
       "##### : 63.69999999999999"
      ],
      "text/plain": [
       "<IPython.core.display.Markdown object>"
      ]
     },
     "metadata": {},
     "output_type": "display_data"
    },
    {
     "name": "stdout",
     "output_type": "stream",
     "text": [
      "CPU times: user 7.89 s, sys: 309 ms, total: 8.2 s\n",
      "Wall time: 1min 7s\n"
     ]
    }
   ],
   "source": [
    "%%time\n",
    "tf_model_train.run_all()"
   ]
  },
  {
   "cell_type": "markdown",
   "metadata": {},
   "source": [
    "### 정리해서 보면\n",
    "<div style='text-align:center'>\n",
    "<img src='./tf.png'>\n",
    "Run할 때마다 값이 조금씩 달라져서 위의 값과는 일치하지 않을 수 있습니다.\n",
    "    </div>\n",
    "\n",
    "- 역시 마찬가지로 모든 모델에 대해서 하이퍼패러미터를 다양하게 도전해보지는 못했지만, randomForest나, extraRandomForest 같은 경우는 gridSearchCV를 사용하여 50가지씩 도전했지만 크게 나아지는 것을 확인하지는 못했습니다."
   ]
  },
  {
   "cell_type": "markdown",
   "metadata": {},
   "source": [
    "### 결론은 위의 그래프나 성적에 있어서 sequence에 어떤 알파벳이 몇개 들어가 있는지가 의미가 있다는 것은 알 수 있었지만, 배열 순서 역시 중요할 것으로 보여서 아래처럼 새로운 전처리 방법을 시도했습니다."
   ]
  },
  {
   "cell_type": "markdown",
   "metadata": {},
   "source": [
    "1. sequence를 이루는 알파벳 ['G', 'T', 'R', 'S', 'D', 'A', 'C', 'N'] 을 0, 1, 2, 3, 4, 5, 6, 7으로 지정하였습니다.(실제 전처리에서 순서는 바뀌었을 수 있습니다. 그 경우를 대비하여 최초 fit한 vectorizer 정보를 객체 내부에 저장하게끔 설계했습니다.)\n",
    "2. sequence의 길이에 맞추어 feature를 60차원으로 확장하였고, 각 차원마다 존재하는 알파벳을 1번에서 실시한 vectorizer를 이용하여 numeric한 정보로 변경하였습니다."
   ]
  },
  {
   "cell_type": "code",
   "execution_count": 21,
   "metadata": {},
   "outputs": [
    {
     "data": {
      "text/markdown": [
       "##### shape of X train and X_test : "
      ],
      "text/plain": [
       "<IPython.core.display.Markdown object>"
      ]
     },
     "metadata": {},
     "output_type": "display_data"
    },
    {
     "name": "stdout",
     "output_type": "stream",
     "text": [
      "(1914, 60) (1276, 60)\n"
     ]
    },
    {
     "data": {
      "text/markdown": [
       "#### Run logistic"
      ],
      "text/plain": [
       "<IPython.core.display.Markdown object>"
      ]
     },
     "metadata": {},
     "output_type": "display_data"
    },
    {
     "data": {
      "text/markdown": [
       "##### Logistic Regression classification report : "
      ],
      "text/plain": [
       "<IPython.core.display.Markdown object>"
      ]
     },
     "metadata": {},
     "output_type": "display_data"
    },
    {
     "name": "stdout",
     "output_type": "stream",
     "text": [
      "             precision    recall  f1-score   support\n",
      "\n",
      "         EI       0.66      0.64      0.65       320\n",
      "         IE       0.73      0.70      0.71       327\n",
      "          N       0.81      0.84      0.82       629\n",
      "\n",
      "avg / total       0.75      0.75      0.75      1276\n",
      "\n"
     ]
    },
    {
     "data": {
      "text/markdown": [
       "##### Logistic Regression <span style='color: red'>randomly selected 1000 data</span> classification report : "
      ],
      "text/plain": [
       "<IPython.core.display.Markdown object>"
      ]
     },
     "metadata": {},
     "output_type": "display_data"
    },
    {
     "name": "stdout",
     "output_type": "stream",
     "text": [
      "             precision    recall  f1-score   support\n",
      "\n",
      "         EI       0.64      0.61      0.63       230\n",
      "         IE       0.72      0.73      0.72       237\n",
      "          N       0.82      0.83      0.82       533\n",
      "\n",
      "avg / total       0.75      0.76      0.75      1000\n",
      "\n"
     ]
    },
    {
     "data": {
      "text/markdown": [
       "##### Ten-fold cross-validation accuracy score : "
      ],
      "text/plain": [
       "<IPython.core.display.Markdown object>"
      ]
     },
     "metadata": {},
     "output_type": "display_data"
    },
    {
     "data": {
      "text/markdown": [
       "##### : 77.07"
      ],
      "text/plain": [
       "<IPython.core.display.Markdown object>"
      ]
     },
     "metadata": {},
     "output_type": "display_data"
    },
    {
     "data": {
      "text/markdown": [
       "#### Run multinomialNB"
      ],
      "text/plain": [
       "<IPython.core.display.Markdown object>"
      ]
     },
     "metadata": {},
     "output_type": "display_data"
    },
    {
     "data": {
      "text/markdown": [
       "##### MultinomialNB classification report : "
      ],
      "text/plain": [
       "<IPython.core.display.Markdown object>"
      ]
     },
     "metadata": {},
     "output_type": "display_data"
    },
    {
     "name": "stdout",
     "output_type": "stream",
     "text": [
      "             precision    recall  f1-score   support\n",
      "\n",
      "         EI       0.75      0.38      0.51       320\n",
      "         IE       0.76      0.47      0.58       327\n",
      "          N       0.64      0.93      0.76       629\n",
      "\n",
      "avg / total       0.70      0.68      0.65      1276\n",
      "\n"
     ]
    },
    {
     "data": {
      "text/markdown": [
       "##### MultinomialNB <span style='color: red'>randomly selected 1000 data</span> classification report : "
      ],
      "text/plain": [
       "<IPython.core.display.Markdown object>"
      ]
     },
     "metadata": {},
     "output_type": "display_data"
    },
    {
     "name": "stdout",
     "output_type": "stream",
     "text": [
      "             precision    recall  f1-score   support\n",
      "\n",
      "         EI       0.73      0.43      0.54       231\n",
      "         IE       0.79      0.50      0.62       248\n",
      "          N       0.69      0.93      0.79       521\n",
      "\n",
      "avg / total       0.72      0.71      0.69      1000\n",
      "\n"
     ]
    },
    {
     "data": {
      "text/markdown": [
       "##### Ten-fold cross-validation accuracy score : "
      ],
      "text/plain": [
       "<IPython.core.display.Markdown object>"
      ]
     },
     "metadata": {},
     "output_type": "display_data"
    },
    {
     "data": {
      "text/markdown": [
       "##### : 70.72999999999999"
      ],
      "text/plain": [
       "<IPython.core.display.Markdown object>"
      ]
     },
     "metadata": {},
     "output_type": "display_data"
    },
    {
     "data": {
      "text/markdown": [
       "#### Run random forest"
      ],
      "text/plain": [
       "<IPython.core.display.Markdown object>"
      ]
     },
     "metadata": {},
     "output_type": "display_data"
    },
    {
     "data": {
      "image/png": "[encoded data removed]",
      "text/plain": [
       "<Figure size 432x288 with 1 Axes>"
      ]
     },
     "metadata": {
      "image/png": {
       "height": 263,
       "width": 380
      }
     },
     "output_type": "display_data"
    },
    {
     "data": {
      "text/markdown": [
       "0.9247648902821317"
      ],
      "text/plain": [
       "<IPython.core.display.Markdown object>"
      ]
     },
     "metadata": {},
     "output_type": "display_data"
    },
    {
     "data": {
      "text/markdown": [
       "{'max_depth': 9, 'n_estimators': 140}"
      ],
      "text/plain": [
       "<IPython.core.display.Markdown object>"
      ]
     },
     "metadata": {},
     "output_type": "display_data"
    },
    {
     "data": {
      "text/markdown": [
       "#### Run extra random forest"
      ],
      "text/plain": [
       "<IPython.core.display.Markdown object>"
      ]
     },
     "metadata": {},
     "output_type": "display_data"
    },
    {
     "data": {
      "image/png": "[encoded data removed]",
      "text/plain": [
       "<Figure size 432x288 with 1 Axes>"
      ]
     },
     "metadata": {
      "image/png": {
       "height": 263,
       "width": 380
      }
     },
     "output_type": "display_data"
    },
    {
     "data": {
      "text/markdown": [
       "0.9143155694879833"
      ],
      "text/plain": [
       "<IPython.core.display.Markdown object>"
      ]
     },
     "metadata": {},
     "output_type": "display_data"
    },
    {
     "data": {
      "text/markdown": [
       "{'max_depth': 9, 'n_estimators': 150}"
      ],
      "text/plain": [
       "<IPython.core.display.Markdown object>"
      ]
     },
     "metadata": {},
     "output_type": "display_data"
    },
    {
     "data": {
      "text/markdown": [
       "##### Kernel Support Vector Machine classification report : "
      ],
      "text/plain": [
       "<IPython.core.display.Markdown object>"
      ]
     },
     "metadata": {},
     "output_type": "display_data"
    },
    {
     "name": "stdout",
     "output_type": "stream",
     "text": [
      "             precision    recall  f1-score   support\n",
      "\n",
      "         EI       0.90      0.57      0.69       320\n",
      "         IE       0.88      0.48      0.62       327\n",
      "          N       0.68      0.97      0.80       629\n",
      "\n",
      "avg / total       0.78      0.74      0.73      1276\n",
      "\n"
     ]
    },
    {
     "data": {
      "text/markdown": [
       "##### Kernel Support Vector Machine <span style='color: red'>randomly selected 1000 data</span> classification report : "
      ],
      "text/plain": [
       "<IPython.core.display.Markdown object>"
      ]
     },
     "metadata": {},
     "output_type": "display_data"
    },
    {
     "name": "stdout",
     "output_type": "stream",
     "text": [
      "             precision    recall  f1-score   support\n",
      "\n",
      "         EI       0.96      0.79      0.87       238\n",
      "         IE       0.96      0.80      0.87       244\n",
      "          N       0.84      0.98      0.91       518\n",
      "\n",
      "avg / total       0.90      0.89      0.89      1000\n",
      "\n"
     ]
    },
    {
     "data": {
      "text/markdown": [
       "##### Ten-fold cross-validation accuracy score : "
      ],
      "text/plain": [
       "<IPython.core.display.Markdown object>"
      ]
     },
     "metadata": {},
     "output_type": "display_data"
    },
    {
     "data": {
      "text/markdown": [
       "##### : 89.87"
      ],
      "text/plain": [
       "<IPython.core.display.Markdown object>"
      ]
     },
     "metadata": {},
     "output_type": "display_data"
    },
    {
     "data": {
      "text/markdown": [
       "#### Run xgboost"
      ],
      "text/plain": [
       "<IPython.core.display.Markdown object>"
      ]
     },
     "metadata": {},
     "output_type": "display_data"
    },
    {
     "data": {
      "text/markdown": [
       "##### XGBoost classification report : "
      ],
      "text/plain": [
       "<IPython.core.display.Markdown object>"
      ]
     },
     "metadata": {},
     "output_type": "display_data"
    },
    {
     "name": "stdout",
     "output_type": "stream",
     "text": [
      "             precision    recall  f1-score   support\n",
      "\n",
      "         EI       0.96      0.97      0.96       320\n",
      "         IE       0.94      0.95      0.94       327\n",
      "          N       0.98      0.97      0.98       629\n",
      "\n",
      "avg / total       0.96      0.96      0.96      1276\n",
      "\n"
     ]
    },
    {
     "data": {
      "text/markdown": [
       "##### XGBoost <span style='color: red'>randomly selected 1000 data</span> classification report : "
      ],
      "text/plain": [
       "<IPython.core.display.Markdown object>"
      ]
     },
     "metadata": {},
     "output_type": "display_data"
    },
    {
     "name": "stdout",
     "output_type": "stream",
     "text": [
      "             precision    recall  f1-score   support\n",
      "\n",
      "         EI       0.98      1.00      0.99       211\n",
      "         IE       0.97      0.98      0.97       256\n",
      "          N       1.00      0.98      0.99       533\n",
      "\n",
      "avg / total       0.99      0.98      0.99      1000\n",
      "\n"
     ]
    },
    {
     "data": {
      "text/markdown": [
       "##### Ten-fold cross-validation accuracy score : "
      ],
      "text/plain": [
       "<IPython.core.display.Markdown object>"
      ]
     },
     "metadata": {},
     "output_type": "display_data"
    },
    {
     "data": {
      "text/markdown": [
       "##### : 98.46000000000001"
      ],
      "text/plain": [
       "<IPython.core.display.Markdown object>"
      ]
     },
     "metadata": {},
     "output_type": "display_data"
    },
    {
     "name": "stdout",
     "output_type": "stream",
     "text": [
      "CPU times: user 34.1 s, sys: 608 ms, total: 34.7 s\n",
      "Wall time: 1min 48s\n"
     ]
    }
   ],
   "source": [
    "%%time\n",
    "ohe_model_train.run_all()"
   ]
  },
  {
   "cell_type": "markdown",
   "metadata": {},
   "source": [
    "### 정리해서 보면\n",
    "<div style='text-align:center'>\n",
    "<img src='./ohe.png'> \n",
    "Run할 때마다 값이 조금씩 달라져서 위의 값과는 일치하지 않을 수 있습니다.\n",
    "    </div>\n",
    "\n",
    "- 모든 모델에서 확연히 좋아진 성능을 보여줬습니다. "
   ]
  },
  {
   "cell_type": "markdown",
   "metadata": {},
   "source": [
    "## 2. 딥러닝 기법으로 모델링"
   ]
  },
  {
   "cell_type": "markdown",
   "metadata": {},
   "source": [
    "### 역시 같은 방법으로 아래 3가지를 사용해서 진행했습니다.\n",
    "1. CountVectorizer를 이용한 데이터셋 \n",
    "2. TfidfVectorizer를 이용한 데이터셋 \n",
    "3. Sequence의 elements를 vectorizer한 데이터셋"
   ]
  },
  {
   "cell_type": "markdown",
   "metadata": {},
   "source": [
    "### 아쉬웠던 점\n",
    "1. Tensorflow를 이용하여 설계한 DNNModel 클래스는 확장성이 떨어져서 Layer개수나 Neuron개수 등에 대해서 다양하게 시도하지 못했습니다. \n",
    "2. Keras를 이용해서 만든 KerasDNN은 다양하게 시도가능하게 설계는 했지만, 좋은 성능의 모델을 찾지는 못했습니다.\n",
    "3. 시간을 충분히 활용하지 못하여 CNN 등 다른 기술들을 사용해보지는 못했습니다."
   ]
  },
  {
   "cell_type": "code",
   "execution_count": 22,
   "metadata": {},
   "outputs": [],
   "source": [
    "def dnn_model_classification_report(dnn_model, preprocessed, is_keras=False):\n",
    "    _, X_test, _, y_test = preprocessed.get_preprocessed_data()\n",
    "    y_pred_proba = dnn_model.predict(X_test) if is_keras else dnn_model.predict()\n",
    "        \n",
    "    y_pred = preprocessed.get_inversed_target_data(y_pred_proba)\n",
    "    print(classification_report(y_test, y_pred))"
   ]
  },
  {
   "cell_type": "code",
   "execution_count": 23,
   "metadata": {},
   "outputs": [],
   "source": [
    "def run_dnn_model(data, i, epoch=1000):\n",
    "    epoch = epoch\n",
    "\n",
    "    sess = tf.Session()\n",
    "    dnn_model = DNNModel(sess, \"dnn_model_\" + str(i), data)\n",
    "    sess.run(tf.global_variables_initializer())\n",
    "\n",
    "    for step in range(epoch):\n",
    "        c, _ = dnn_model.train()\n",
    "        if step % 100 == 0:\n",
    "            print(step, c)\n",
    "            \n",
    "    return dnn_model"
   ]
  },
  {
   "cell_type": "code",
   "execution_count": 24,
   "metadata": {},
   "outputs": [],
   "source": [
    "n_li = [30, 30, 30]\n",
    "activation_li = [\"relu\", \"relu\", \"relu\", \"softmax\"]\n",
    "lr = 0.05\n",
    "epochs = 1000\n",
    "batch_size = 100\n",
    "    \n",
    "def run_keras_model(data, n_li, activation_li, lr, epochs, batch_size):\n",
    "    model = KerasDNN(data)\n",
    "    model.make_keras_model(n_li, activation_li, lr=lr)\n",
    "    model.run_keras_model(epochs=epochs, batch_size=batch_size)\n",
    "    \n",
    "    return model"
   ]
  },
  {
   "cell_type": "code",
   "execution_count": 25,
   "metadata": {},
   "outputs": [
    {
     "name": "stdout",
     "output_type": "stream",
     "text": [
      "0 4.1266246\n",
      "100 0.8711068\n",
      "200 0.8562452\n",
      "300 0.8456723\n",
      "400 0.8295333\n",
      "500 0.81939536\n",
      "600 0.81002766\n",
      "700 0.80764085\n",
      "800 0.80629313\n",
      "900 0.8013532\n"
     ]
    }
   ],
   "source": [
    "cnt_dnn_model = run_dnn_model(cnt_preprocessed, 0)"
   ]
  },
  {
   "cell_type": "markdown",
   "metadata": {},
   "source": [
    "### CountVectorizer나 TfidfVectorizer로 전처리한 데이터들은 클래식 모델로 학습했을 때와 차이가 거의 나지 않았습니다."
   ]
  },
  {
   "cell_type": "code",
   "execution_count": 26,
   "metadata": {},
   "outputs": [
    {
     "name": "stdout",
     "output_type": "stream",
     "text": [
      "             precision    recall  f1-score   support\n",
      "\n",
      "         EI       0.47      0.25      0.32       320\n",
      "         IE       0.52      0.40      0.45       327\n",
      "          N       0.55      0.75      0.63       629\n",
      "\n",
      "avg / total       0.52      0.53      0.51      1276\n",
      "\n"
     ]
    }
   ],
   "source": [
    "dnn_model_classification_report(cnt_dnn_model, cnt_preprocessed)"
   ]
  },
  {
   "cell_type": "code",
   "execution_count": 27,
   "metadata": {},
   "outputs": [
    {
     "name": "stdout",
     "output_type": "stream",
     "text": [
      "0 4.73746\n",
      "100 0.864788\n",
      "200 0.8405434\n",
      "300 0.81817746\n",
      "400 0.8028847\n",
      "500 0.79359084\n",
      "600 0.7826137\n",
      "700 0.7741493\n",
      "800 0.76596016\n",
      "900 0.7649674\n"
     ]
    }
   ],
   "source": [
    "tf_dnn_model = run_dnn_model(tf_preprocessed, 1)"
   ]
  },
  {
   "cell_type": "code",
   "execution_count": 28,
   "metadata": {},
   "outputs": [
    {
     "name": "stdout",
     "output_type": "stream",
     "text": [
      "             precision    recall  f1-score   support\n",
      "\n",
      "         EI       0.45      0.30      0.36       320\n",
      "         IE       0.54      0.40      0.46       327\n",
      "          N       0.55      0.72      0.62       629\n",
      "\n",
      "avg / total       0.52      0.53      0.51      1276\n",
      "\n"
     ]
    }
   ],
   "source": [
    "dnn_model_classification_report(tf_dnn_model, tf_preprocessed)"
   ]
  },
  {
   "cell_type": "markdown",
   "metadata": {},
   "source": [
    "### 하지만 각 차원의 elements를 embeding한 데이터의 경우에는 트레이닝 셋에 overfitting하는 현상이 보였습니다."
   ]
  },
  {
   "cell_type": "code",
   "execution_count": 29,
   "metadata": {},
   "outputs": [
    {
     "name": "stdout",
     "output_type": "stream",
     "text": [
      "0 1.9170244\n",
      "100 0.51686424\n",
      "200 0.4617115\n",
      "300 0.3539874\n",
      "400 0.2840616\n",
      "500 0.2579108\n",
      "600 0.16362129\n",
      "700 0.16783506\n",
      "800 0.07074909\n",
      "900 0.4827092\n"
     ]
    }
   ],
   "source": [
    "ohe_dnn_model = run_dnn_model(ohe_preprocessed, 2)"
   ]
  },
  {
   "cell_type": "code",
   "execution_count": 30,
   "metadata": {},
   "outputs": [
    {
     "name": "stdout",
     "output_type": "stream",
     "text": [
      "             precision    recall  f1-score   support\n",
      "\n",
      "         EI       0.66      0.75      0.70       320\n",
      "         IE       0.70      0.68      0.69       327\n",
      "          N       0.85      0.80      0.83       629\n",
      "\n",
      "avg / total       0.76      0.76      0.76      1276\n",
      "\n"
     ]
    }
   ],
   "source": [
    "dnn_model_classification_report(ohe_dnn_model, ohe_preprocessed)"
   ]
  },
  {
   "cell_type": "markdown",
   "metadata": {},
   "source": [
    "### 이 문제는 Dropout, L1 정규화,  L2 정규화 등 다른 방법들을 다양하게 시도한다면 해결할 수 있을 것이라 생각합니다."
   ]
  },
  {
   "cell_type": "markdown",
   "metadata": {},
   "source": [
    "### 밑에서는 Keras를 이용하여 layer개수 등을 변경하면서 시도해봤습니다. 하지만 아쉽게도 성능이 좋아지는 하이퍼패러미터를 아직 찾지 못했습니다."
   ]
  },
  {
   "cell_type": "code",
   "execution_count": 31,
   "metadata": {},
   "outputs": [],
   "source": [
    "n_li = [30, 30, 30]\n",
    "activation_li = [\"relu\", \"relu\", \"relu\", \"softmax\"]\n",
    "lr = 0.05\n",
    "epochs = 1000\n",
    "batch_size = 100\n",
    "\n",
    "cnt_keras_model = run_keras_model(cnt_preprocessed, n_li, activation_li, lr, epochs, batch_size)"
   ]
  },
  {
   "cell_type": "code",
   "execution_count": 33,
   "metadata": {},
   "outputs": [
    {
     "name": "stdout",
     "output_type": "stream",
     "text": [
      "             precision    recall  f1-score   support\n",
      "\n",
      "         EI       0.57      0.15      0.23       320\n",
      "         IE       0.45      0.60      0.51       327\n",
      "          N       0.55      0.67      0.61       629\n",
      "\n",
      "avg / total       0.53      0.52      0.49      1276\n",
      "\n"
     ]
    }
   ],
   "source": [
    "dnn_model_classification_report(cnt_keras_model.model, cnt_preprocessed, True)"
   ]
  },
  {
   "cell_type": "code",
   "execution_count": 34,
   "metadata": {},
   "outputs": [],
   "source": [
    "n_li = [30, 30, 30]\n",
    "activation_li = [\"relu\", \"relu\", \"relu\", \"softmax\"]\n",
    "lr = 0.05\n",
    "epochs = 1000\n",
    "batch_size = 100\n",
    "\n",
    "tf_keras_model = run_keras_model(tf_preprocessed, n_li, activation_li, lr, epochs, batch_size)"
   ]
  },
  {
   "cell_type": "code",
   "execution_count": 35,
   "metadata": {},
   "outputs": [
    {
     "name": "stdout",
     "output_type": "stream",
     "text": [
      "             precision    recall  f1-score   support\n",
      "\n",
      "         EI       0.00      0.00      0.00       320\n",
      "         IE       0.00      0.00      0.00       327\n",
      "          N       0.49      1.00      0.66       629\n",
      "\n",
      "avg / total       0.24      0.49      0.33      1276\n",
      "\n"
     ]
    }
   ],
   "source": [
    "dnn_model_classification_report(tf_keras_model.model, tf_preprocessed, True)"
   ]
  },
  {
   "cell_type": "code",
   "execution_count": 36,
   "metadata": {},
   "outputs": [],
   "source": [
    "n_li = [120, 60, 30, 10]\n",
    "activation_li = [\"relu\", \"relu\", \"relu\", \"relu\", \"softmax\"]\n",
    "lr = 0.05\n",
    "epochs = 1000\n",
    "batch_size = 500\n",
    "\n",
    "ohe_keras_model = run_keras_model(ohe_preprocessed, n_li, activation_li, lr, epochs, batch_size)"
   ]
  },
  {
   "cell_type": "code",
   "execution_count": 37,
   "metadata": {},
   "outputs": [
    {
     "name": "stdout",
     "output_type": "stream",
     "text": [
      "             precision    recall  f1-score   support\n",
      "\n",
      "         EI       0.00      0.00      0.00       320\n",
      "         IE       0.00      0.00      0.00       327\n",
      "          N       0.49      1.00      0.66       629\n",
      "\n",
      "avg / total       0.24      0.49      0.33      1276\n",
      "\n"
     ]
    }
   ],
   "source": [
    "dnn_model_classification_report(ohe_keras_model.model, ohe_preprocessed, True)"
   ]
  },
  {
   "cell_type": "code",
   "execution_count": 38,
   "metadata": {},
   "outputs": [],
   "source": [
    "n_li = [120, 60]\n",
    "activation_li = [\"sigmoid\", \"relu\", \"softmax\"]\n",
    "lr = 0.01\n",
    "epochs = 1000\n",
    "batch_size = 100\n",
    "\n",
    "ohe_keras_model_1 = run_keras_model(ohe_preprocessed, n_li, activation_li, lr, epochs, batch_size)"
   ]
  },
  {
   "cell_type": "code",
   "execution_count": 39,
   "metadata": {},
   "outputs": [
    {
     "name": "stdout",
     "output_type": "stream",
     "text": [
      "             precision    recall  f1-score   support\n",
      "\n",
      "         EI       0.76      0.67      0.71       320\n",
      "         IE       0.76      0.65      0.70       327\n",
      "          N       0.78      0.88      0.83       629\n",
      "\n",
      "avg / total       0.77      0.77      0.77      1276\n",
      "\n"
     ]
    }
   ],
   "source": [
    "dnn_model_classification_report(ohe_keras_model_1.model, ohe_preprocessed, True)"
   ]
  },
  {
   "cell_type": "markdown",
   "metadata": {},
   "source": [
    "### 4. Conclusion\n",
    "\n",
    "<div style='text-align:center'>\n",
    "    <img src='./final.png'>\n",
    "    Run할 때마다 값이 조금씩 달라져서 위의 값과는 일치하지 않을 수 있습니다.(위 점수는 f1-score 기준)\n",
    "    </div>\n",
    "\n",
    "\n",
    "\n",
    "- 성능을 높이기 위해서 하이퍼패러미터 튜닝을 시도한다면 더 좋은 결과물이 나올 것이라 생각합니다.\n",
    "- 데이터 정규화를 실시하는 것도 도움이 됐을 것이라 판단됩니다."
   ]
  }
 ],
 "metadata": {
  "kernelspec": {
   "display_name": "Python 3",
   "language": "python",
   "name": "python3"
  },
  "language_info": {
   "codemirror_mode": {
    "name": "ipython",
    "version": 3
   },
   "file_extension": ".py",
   "mimetype": "text/x-python",
   "name": "python",
   "nbconvert_exporter": "python",
   "pygments_lexer": "ipython3",
   "version": "3.6.5"
  }
 },
 "nbformat": 4,
 "nbformat_minor": 2
}
