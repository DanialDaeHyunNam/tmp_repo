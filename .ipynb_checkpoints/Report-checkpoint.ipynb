{
 "cells": [
  {
   "cell_type": "markdown",
   "metadata": {},
   "source": [
    "##  Morulabs take home project\n",
    "\n",
    "[Data Set Link](https://archive.ics.uci.edu/ml/datasets/Molecular+Biology+%28Splice-junction+Gene+Sequences%29)\n",
    "\n",
    "### 1. Purpose\n",
    "DNA 염기순서를 이용하여 exon과 intron의 경계 중 어디에 속해있는지 분류하는 프로젝트입니다.\n",
    "\n",
    "To recognize, given a sequence of DNA, the boundaries between exons (the parts of the DNA sequence retained after splicing) and introns (the parts of the DNA sequence that are spliced out)\n",
    "\n",
    "### 2. Dataset\n",
    "- #### 원본 Data : 3190 rows, 2 columns\n",
    "    - Features :\n",
    "        - instance_name : DNA 객체 이름\n",
    "        - sequence : ```['G', 'T', 'R', 'S', 'D', 'A', 'C', 'N']``` 알파벳으로 이루어진 DNA sequence\n",
    "    - Target : ```IE, EI, Neither``` 3가지로 이루어진 카테고리 정보 (_우리의 타겟 Column_)\n",
    "        \n",
    "- #### 최종 모델에 적용한 Data(sklearn.model_selection.train_test_split을 이용하여 6:4로 Train, Test를 분리하였습니다)\n",
    "    - Train Data : 1914 rows, 60 columns\n",
    "    - Test Data : 1276 rows, 60 columns\n",
    "    - Features :\n",
    "        - 원본 데이터에서 주어준 DNA sequence의 길이가 60이므로 60차원의 문제로 변경하였습니다. \n",
    "        - 각 차원마다 들어간 sequence 알파벳 값은 숫자로 변경하였습니다.\n",
    "\n",
    "### 3. Result\n",
    "- 평가 방법: \n",
    "    - Data를 제공해주는 사이트에서는 ```Using a \"ten-fold cross-validation\" methodology on 1000 examples randomly selected from the complete set of 3190``` 라는 표현에 따라 진행했습니다.\n",
    "    - 하지만 위의 방법은 학습에 사용한 데이터로 CV하는 것이라 큰 의미가 없다고 판단하여, 저는 본인이 Split하여 Testing한 Accuracy 혹은 Classification Report에서 제공하는 결과도 확인하여 모델을 평가하였습니다.\n",
    "\n",
    "<br>\n",
    "\n",
    "- 클래식 머신러닝: \n",
    "    - Logistic, MultinomialNB, RandomForest, ExtraTreesClassifier, SupportVectorMachine, XGBoost\n",
    "    - 최고 점수(Accuracy, XGBoost) : \n",
    "        - 98.72% (Using a \"ten-fold cross-validation\" methodology on 1000 examples randomly selected from the complete set of 3190)\n",
    "\n",
    "<br>\n",
    "\n",
    "- 딥러닝:\n",
    "    - DNN\n",
    "    - 최고 점수(Accuracy) : \n",
    "        - 89%"
   ]
  },
  {
   "cell_type": "markdown",
   "metadata": {},
   "source": [
    "#### 자세한 내용은 아래에 코드들과 함께 설명하겠습니다."
   ]
  },
  {
   "cell_type": "markdown",
   "metadata": {},
   "source": [
    "### 먼저 필요한 라이브러리들을 Import"
   ]
  },
  {
   "cell_type": "code",
   "execution_count": 1,
   "metadata": {},
   "outputs": [
    {
     "name": "stderr",
     "output_type": "stream",
     "text": [
      "Using TensorFlow backend.\n"
     ]
    }
   ],
   "source": [
    "import csv\n",
    "import xgboost\n",
    "import tensorflow as tf\n",
    "\n",
    "import matplotlib.pyplot as plt\n",
    "import warnings\n",
    "warnings.filterwarnings('ignore')\n",
    "\n",
    "from IPython.display import display, Markdown\n",
    "from sklearn.linear_model import LogisticRegression\n",
    "from sklearn.naive_bayes import MultinomialNB\n",
    "from sklearn.ensemble import RandomForestClassifier, ExtraTreesClassifier\n",
    "from sklearn.svm import SVC\n",
    "from sklearn.pipeline import Pipeline\n",
    "from sklearn.metrics import classification_report\n",
    "from sklearn.metrics import accuracy_score\n",
    "from sklearn.model_selection import GridSearchCV, KFold\n",
    "from sklearn.metrics import confusion_matrix\n",
    "from sklearn.feature_extraction.text import TfidfVectorizer, CountVectorizer\n",
    "from sklearn.model_selection import train_test_split\n",
    "from sklearn.preprocessing import LabelEncoder\n",
    "from sklearn.preprocessing import LabelBinarizer\n",
    "\n",
    "from DataPreprocess import *\n",
    "from KerasDNN import *\n",
    "from DNNModel import *\n",
    "from ClassicModelTrain import *"
   ]
  },
  {
   "cell_type": "code",
   "execution_count": 2,
   "metadata": {},
   "outputs": [
    {
     "data": {
      "text/html": [
       "<div>\n",
       "<style scoped>\n",
       "    .dataframe tbody tr th:only-of-type {\n",
       "        vertical-align: middle;\n",
       "    }\n",
       "\n",
       "    .dataframe tbody tr th {\n",
       "        vertical-align: top;\n",
       "    }\n",
       "\n",
       "    .dataframe thead th {\n",
       "        text-align: right;\n",
       "    }\n",
       "</style>\n",
       "<table border=\"1\" class=\"dataframe\">\n",
       "  <thead>\n",
       "    <tr style=\"text-align: right;\">\n",
       "      <th></th>\n",
       "      <th>target</th>\n",
       "      <th>instance_name</th>\n",
       "      <th>sequence</th>\n",
       "    </tr>\n",
       "  </thead>\n",
       "  <tbody>\n",
       "    <tr>\n",
       "      <th>0</th>\n",
       "      <td>EI</td>\n",
       "      <td>ATRINS-DONOR-521</td>\n",
       "      <td>CCAGCTGCATCACAGGAGGCCAGCGAGCAGG...</td>\n",
       "    </tr>\n",
       "    <tr>\n",
       "      <th>1</th>\n",
       "      <td>EI</td>\n",
       "      <td>ATRINS-DONOR-905</td>\n",
       "      <td>AGACCCGCCGGGAGGCGGAGGACCTGCAGGG...</td>\n",
       "    </tr>\n",
       "    <tr>\n",
       "      <th>2</th>\n",
       "      <td>EI</td>\n",
       "      <td>BABAPOE-DONOR-30</td>\n",
       "      <td>GAGGTGAAGGACGTCCTTCCCCAGGAGCCGG...</td>\n",
       "    </tr>\n",
       "    <tr>\n",
       "      <th>3</th>\n",
       "      <td>EI</td>\n",
       "      <td>BABAPOE-DONOR-867</td>\n",
       "      <td>GGGCTGCGTTGCTGGTCACATTCCTGGCAGGT...</td>\n",
       "    </tr>\n",
       "    <tr>\n",
       "      <th>4</th>\n",
       "      <td>EI</td>\n",
       "      <td>BABAPOE-DONOR-2817</td>\n",
       "      <td>GCTCAGCCCCCAGGTCACCCAGGAACTGACGTG...</td>\n",
       "    </tr>\n",
       "  </tbody>\n",
       "</table>\n",
       "</div>"
      ],
      "text/plain": [
       "  target           instance_name  \\\n",
       "0     EI        ATRINS-DONOR-521   \n",
       "1     EI        ATRINS-DONOR-905   \n",
       "2     EI        BABAPOE-DONOR-30   \n",
       "3     EI       BABAPOE-DONOR-867   \n",
       "4     EI      BABAPOE-DONOR-2817   \n",
       "\n",
       "                                            sequence  \n",
       "0                 CCAGCTGCATCACAGGAGGCCAGCGAGCAGG...  \n",
       "1                 AGACCCGCCGGGAGGCGGAGGACCTGCAGGG...  \n",
       "2                 GAGGTGAAGGACGTCCTTCCCCAGGAGCCGG...  \n",
       "3                GGGCTGCGTTGCTGGTCACATTCCTGGCAGGT...  \n",
       "4               GCTCAGCCCCCAGGTCACCCAGGAACTGACGTG...  "
      ]
     },
     "execution_count": 2,
     "metadata": {},
     "output_type": "execute_result"
    }
   ],
   "source": [
    "with open('./splice.data') as csv_file:\n",
    "    csv_reader = csv.reader(csv_file, delimiter=',')\n",
    "    df_li = []\n",
    "    for row in csv_reader:\n",
    "        df_li.append(row)\n",
    "    df = pd.DataFrame(df_li, columns=[\"target\", \"instance_name\", \"sequence\"])\n",
    "df.head()"
   ]
  },
  {
   "cell_type": "markdown",
   "metadata": {},
   "source": [
    "### 존재하는 공백을 미리 제거해준다"
   ]
  },
  {
   "cell_type": "code",
   "execution_count": 3,
   "metadata": {},
   "outputs": [],
   "source": [
    "for col in df.columns:\n",
    "    df[col] = df[col].apply(lambda a : a.strip())"
   ]
  },
  {
   "cell_type": "markdown",
   "metadata": {},
   "source": [
    "### Target 데이터의 분포를 확인해보자"
   ]
  },
  {
   "cell_type": "code",
   "execution_count": 4,
   "metadata": {},
   "outputs": [
    {
     "data": {
      "image/png": "[encoded data removed]",
      "text/plain": [
       "<Figure size 432x288 with 1 Axes>"
      ]
     },
     "metadata": {
      "image/png": {
       "height": 248,
       "width": 383
      }
     },
     "output_type": "display_data"
    }
   ],
   "source": [
    "plt.bar(df.target.value_counts().index, df.target.value_counts())\n",
    "plt.show()"
   ]
  },
  {
   "cell_type": "markdown",
   "metadata": {},
   "source": [
    "### DNA sequence가 완전 일치하는 데이터들이 존재하고, 그 데이터들은 서로 당연히 target 컬럼도 동일하다."
   ]
  },
  {
   "cell_type": "code",
   "execution_count": 5,
   "metadata": {},
   "outputs": [
    {
     "data": {
      "text/plain": [
       "3005"
      ]
     },
     "execution_count": 5,
     "metadata": {},
     "output_type": "execute_result"
    }
   ],
   "source": [
    "len(df[\"sequence\"].unique())"
   ]
  },
  {
   "cell_type": "code",
   "execution_count": 6,
   "metadata": {},
   "outputs": [
    {
     "data": {
      "text/plain": [
       "'GGCCTCTCCTTCTCTTCCTTCACTTTGCAGAGGCTGGAAGATGGCAGCCCCCGGACTGGG'"
      ]
     },
     "execution_count": 6,
     "metadata": {},
     "output_type": "execute_result"
    }
   ],
   "source": [
    "tmp = df.sequence.value_counts().keys()[0]\n",
    "tmp"
   ]
  },
  {
   "cell_type": "code",
   "execution_count": 7,
   "metadata": {},
   "outputs": [
    {
     "data": {
      "text/html": [
       "<div>\n",
       "<style scoped>\n",
       "    .dataframe tbody tr th:only-of-type {\n",
       "        vertical-align: middle;\n",
       "    }\n",
       "\n",
       "    .dataframe tbody tr th {\n",
       "        vertical-align: top;\n",
       "    }\n",
       "\n",
       "    .dataframe thead th {\n",
       "        text-align: right;\n",
       "    }\n",
       "</style>\n",
       "<table border=\"1\" class=\"dataframe\">\n",
       "  <thead>\n",
       "    <tr style=\"text-align: right;\">\n",
       "      <th></th>\n",
       "      <th>target</th>\n",
       "      <th>instance_name</th>\n",
       "      <th>sequence</th>\n",
       "    </tr>\n",
       "  </thead>\n",
       "  <tbody>\n",
       "    <tr>\n",
       "      <th>1096</th>\n",
       "      <td>IE</td>\n",
       "      <td>HUMGH-ACCEPTOR-1572</td>\n",
       "      <td>GGCCTCTCCTTCTCTTCCTTCACTTTGCAGAGGCTGGAAGATGGCA...</td>\n",
       "    </tr>\n",
       "    <tr>\n",
       "      <th>1100</th>\n",
       "      <td>IE</td>\n",
       "      <td>HUMGHCSA-ACCEPTOR-6465</td>\n",
       "      <td>GGCCTCTCCTTCTCTTCCTTCACTTTGCAGAGGCTGGAAGATGGCA...</td>\n",
       "    </tr>\n",
       "    <tr>\n",
       "      <th>1112</th>\n",
       "      <td>IE</td>\n",
       "      <td>HUMGHCSA-ACCEPTOR-43393</td>\n",
       "      <td>GGCCTCTCCTTCTCTTCCTTCACTTTGCAGAGGCTGGAAGATGGCA...</td>\n",
       "    </tr>\n",
       "    <tr>\n",
       "      <th>1120</th>\n",
       "      <td>IE</td>\n",
       "      <td>HUMGHN-ACCEPTOR-1797</td>\n",
       "      <td>GGCCTCTCCTTCTCTTCCTTCACTTTGCAGAGGCTGGAAGATGGCA...</td>\n",
       "    </tr>\n",
       "    <tr>\n",
       "      <th>1121</th>\n",
       "      <td>IE</td>\n",
       "      <td>HUMGHVA-ACCEPTOR-741</td>\n",
       "      <td>GGCCTCTCCTTCTCTTCCTTCACTTTGCAGAGGCTGGAAGATGGCA...</td>\n",
       "    </tr>\n",
       "  </tbody>\n",
       "</table>\n",
       "</div>"
      ],
      "text/plain": [
       "     target            instance_name  \\\n",
       "1096     IE      HUMGH-ACCEPTOR-1572   \n",
       "1100     IE   HUMGHCSA-ACCEPTOR-6465   \n",
       "1112     IE  HUMGHCSA-ACCEPTOR-43393   \n",
       "1120     IE     HUMGHN-ACCEPTOR-1797   \n",
       "1121     IE     HUMGHVA-ACCEPTOR-741   \n",
       "\n",
       "                                               sequence  \n",
       "1096  GGCCTCTCCTTCTCTTCCTTCACTTTGCAGAGGCTGGAAGATGGCA...  \n",
       "1100  GGCCTCTCCTTCTCTTCCTTCACTTTGCAGAGGCTGGAAGATGGCA...  \n",
       "1112  GGCCTCTCCTTCTCTTCCTTCACTTTGCAGAGGCTGGAAGATGGCA...  \n",
       "1120  GGCCTCTCCTTCTCTTCCTTCACTTTGCAGAGGCTGGAAGATGGCA...  \n",
       "1121  GGCCTCTCCTTCTCTTCCTTCACTTTGCAGAGGCTGGAAGATGGCA...  "
      ]
     },
     "execution_count": 7,
     "metadata": {},
     "output_type": "execute_result"
    }
   ],
   "source": [
    "df[df.sequence == tmp]"
   ]
  },
  {
   "cell_type": "markdown",
   "metadata": {},
   "source": [
    "### DNA sequence의 길이도 모두 60으로 일치하는 것을 볼 수 있다."
   ]
  },
  {
   "cell_type": "code",
   "execution_count": 8,
   "metadata": {},
   "outputs": [],
   "source": [
    "df[\"seq_len\"] = df.sequence.apply(lambda seq: len(seq))"
   ]
  },
  {
   "cell_type": "code",
   "execution_count": 9,
   "metadata": {},
   "outputs": [
    {
     "data": {
      "text/plain": [
       "array([60])"
      ]
     },
     "execution_count": 9,
     "metadata": {},
     "output_type": "execute_result"
    }
   ],
   "source": [
    "df.seq_len.unique()"
   ]
  },
  {
   "cell_type": "code",
   "execution_count": 10,
   "metadata": {},
   "outputs": [],
   "source": [
    "df[\"seq_unique_letters\"] = df.sequence.apply(lambda seq: \"\".join(sorted(list(set(seq)))))"
   ]
  },
  {
   "cell_type": "code",
   "execution_count": 11,
   "metadata": {},
   "outputs": [
    {
     "data": {
      "text/plain": [
       "array(['ACGT', 'ACGNT', 'ACDGT', 'ACGRT', 'ACGST', 'AG', 'CGT', 'CT'],\n",
       "      dtype=object)"
      ]
     },
     "execution_count": 11,
     "metadata": {},
     "output_type": "execute_result"
    }
   ],
   "source": [
    "df.seq_unique_letters.unique()"
   ]
  },
  {
   "cell_type": "markdown",
   "metadata": {},
   "source": [
    "### 대부분의 Sequence는 A,C,G,T 4가지 알파벳으로 이루어져 있다."
   ]
  },
  {
   "cell_type": "code",
   "execution_count": 12,
   "metadata": {},
   "outputs": [
    {
     "data": {
      "text/html": [
       "<div>\n",
       "<style scoped>\n",
       "    .dataframe tbody tr th:only-of-type {\n",
       "        vertical-align: middle;\n",
       "    }\n",
       "\n",
       "    .dataframe tbody tr th {\n",
       "        vertical-align: top;\n",
       "    }\n",
       "\n",
       "    .dataframe thead th {\n",
       "        text-align: right;\n",
       "    }\n",
       "</style>\n",
       "<table border=\"1\" class=\"dataframe\">\n",
       "  <thead>\n",
       "    <tr style=\"text-align: right;\">\n",
       "      <th>seq_unique_letters</th>\n",
       "      <th>ACDGT</th>\n",
       "      <th>ACGNT</th>\n",
       "      <th>ACGRT</th>\n",
       "      <th>ACGST</th>\n",
       "      <th>ACGT</th>\n",
       "      <th>AG</th>\n",
       "      <th>CGT</th>\n",
       "      <th>CT</th>\n",
       "    </tr>\n",
       "    <tr>\n",
       "      <th>target</th>\n",
       "      <th></th>\n",
       "      <th></th>\n",
       "      <th></th>\n",
       "      <th></th>\n",
       "      <th></th>\n",
       "      <th></th>\n",
       "      <th></th>\n",
       "      <th></th>\n",
       "    </tr>\n",
       "  </thead>\n",
       "  <tbody>\n",
       "    <tr>\n",
       "      <th>EI</th>\n",
       "      <td>0</td>\n",
       "      <td>5</td>\n",
       "      <td>0</td>\n",
       "      <td>0</td>\n",
       "      <td>762</td>\n",
       "      <td>0</td>\n",
       "      <td>0</td>\n",
       "      <td>0</td>\n",
       "    </tr>\n",
       "    <tr>\n",
       "      <th>IE</th>\n",
       "      <td>1</td>\n",
       "      <td>0</td>\n",
       "      <td>1</td>\n",
       "      <td>1</td>\n",
       "      <td>765</td>\n",
       "      <td>0</td>\n",
       "      <td>0</td>\n",
       "      <td>0</td>\n",
       "    </tr>\n",
       "    <tr>\n",
       "      <th>N</th>\n",
       "      <td>1</td>\n",
       "      <td>6</td>\n",
       "      <td>0</td>\n",
       "      <td>0</td>\n",
       "      <td>1642</td>\n",
       "      <td>2</td>\n",
       "      <td>3</td>\n",
       "      <td>1</td>\n",
       "    </tr>\n",
       "  </tbody>\n",
       "</table>\n",
       "</div>"
      ],
      "text/plain": [
       "seq_unique_letters  ACDGT  ACGNT  ACGRT  ACGST  ACGT  AG  CGT  CT\n",
       "target                                                           \n",
       "EI                      0      5      0      0   762   0    0   0\n",
       "IE                      1      0      1      1   765   0    0   0\n",
       "N                       1      6      0      0  1642   2    3   1"
      ]
     },
     "execution_count": 12,
     "metadata": {},
     "output_type": "execute_result"
    }
   ],
   "source": [
    "df.pivot_table(\"seq_len\", \"target\", \"seq_unique_letters\", aggfunc=np.sum, fill_value=0)/60"
   ]
  },
  {
   "cell_type": "code",
   "execution_count": 13,
   "metadata": {},
   "outputs": [
    {
     "data": {
      "text/html": [
       "<div>\n",
       "<style scoped>\n",
       "    .dataframe tbody tr th:only-of-type {\n",
       "        vertical-align: middle;\n",
       "    }\n",
       "\n",
       "    .dataframe tbody tr th {\n",
       "        vertical-align: top;\n",
       "    }\n",
       "\n",
       "    .dataframe thead th {\n",
       "        text-align: right;\n",
       "    }\n",
       "</style>\n",
       "<table border=\"1\" class=\"dataframe\">\n",
       "  <thead>\n",
       "    <tr style=\"text-align: right;\">\n",
       "      <th></th>\n",
       "      <th>target</th>\n",
       "      <th>instance_name</th>\n",
       "      <th>sequence</th>\n",
       "      <th>seq_len</th>\n",
       "      <th>seq_unique_letters</th>\n",
       "    </tr>\n",
       "  </thead>\n",
       "  <tbody>\n",
       "    <tr>\n",
       "      <th>0</th>\n",
       "      <td>EI</td>\n",
       "      <td>ATRINS-DONOR-521</td>\n",
       "      <td>CCAGCTGCATCACAGGAGGCCAGCGAGCAGGTCTGTTCCAAGGGCC...</td>\n",
       "      <td>60</td>\n",
       "      <td>ACGT</td>\n",
       "    </tr>\n",
       "    <tr>\n",
       "      <th>1</th>\n",
       "      <td>EI</td>\n",
       "      <td>ATRINS-DONOR-905</td>\n",
       "      <td>AGACCCGCCGGGAGGCGGAGGACCTGCAGGGTGAGCCCCACCGCCC...</td>\n",
       "      <td>60</td>\n",
       "      <td>ACGT</td>\n",
       "    </tr>\n",
       "    <tr>\n",
       "      <th>2</th>\n",
       "      <td>EI</td>\n",
       "      <td>BABAPOE-DONOR-30</td>\n",
       "      <td>GAGGTGAAGGACGTCCTTCCCCAGGAGCCGGTGAGAAGCGCAGTCG...</td>\n",
       "      <td>60</td>\n",
       "      <td>ACGT</td>\n",
       "    </tr>\n",
       "    <tr>\n",
       "      <th>3</th>\n",
       "      <td>EI</td>\n",
       "      <td>BABAPOE-DONOR-867</td>\n",
       "      <td>GGGCTGCGTTGCTGGTCACATTCCTGGCAGGTATGGGGCGGGGCTT...</td>\n",
       "      <td>60</td>\n",
       "      <td>ACGT</td>\n",
       "    </tr>\n",
       "    <tr>\n",
       "      <th>4</th>\n",
       "      <td>EI</td>\n",
       "      <td>BABAPOE-DONOR-2817</td>\n",
       "      <td>GCTCAGCCCCCAGGTCACCCAGGAACTGACGTGAGTGTCCCCATCC...</td>\n",
       "      <td>60</td>\n",
       "      <td>ACGT</td>\n",
       "    </tr>\n",
       "  </tbody>\n",
       "</table>\n",
       "</div>"
      ],
      "text/plain": [
       "  target       instance_name  \\\n",
       "0     EI    ATRINS-DONOR-521   \n",
       "1     EI    ATRINS-DONOR-905   \n",
       "2     EI    BABAPOE-DONOR-30   \n",
       "3     EI   BABAPOE-DONOR-867   \n",
       "4     EI  BABAPOE-DONOR-2817   \n",
       "\n",
       "                                            sequence  seq_len  \\\n",
       "0  CCAGCTGCATCACAGGAGGCCAGCGAGCAGGTCTGTTCCAAGGGCC...       60   \n",
       "1  AGACCCGCCGGGAGGCGGAGGACCTGCAGGGTGAGCCCCACCGCCC...       60   \n",
       "2  GAGGTGAAGGACGTCCTTCCCCAGGAGCCGGTGAGAAGCGCAGTCG...       60   \n",
       "3  GGGCTGCGTTGCTGGTCACATTCCTGGCAGGTATGGGGCGGGGCTT...       60   \n",
       "4  GCTCAGCCCCCAGGTCACCCAGGAACTGACGTGAGTGTCCCCATCC...       60   \n",
       "\n",
       "  seq_unique_letters  \n",
       "0               ACGT  \n",
       "1               ACGT  \n",
       "2               ACGT  \n",
       "3               ACGT  \n",
       "4               ACGT  "
      ]
     },
     "execution_count": 13,
     "metadata": {},
     "output_type": "execute_result"
    }
   ],
   "source": [
    "df.head()"
   ]
  },
  {
   "cell_type": "markdown",
   "metadata": {},
   "source": [
    "### 최초로 전처리를 시도한 방법은 아래 2가지입니다.\n",
    "1. sequence를 CountVectorizer로 embedding.\n",
    "2. sequence를 TfidfVectorizer로 embedding."
   ]
  },
  {
   "cell_type": "code",
   "execution_count": 14,
   "metadata": {},
   "outputs": [],
   "source": [
    "cnt_preprocessed = DataPreprocess(df, is_vectorize=True, vectorizer=CountVectorizer)\n",
    "tf_preprocessed  = DataPreprocess(df, is_vectorize=True, vectorizer=TfidfVectorizer)\n",
    "ohe_preprocessed = DataPreprocess(df)"
   ]
  },
  {
   "cell_type": "code",
   "execution_count": 15,
   "metadata": {},
   "outputs": [],
   "source": [
    "cnt_model_train = ClassicModelTrain(cnt_preprocessed)\n",
    "tf_model_train = ClassicModelTrain(tf_preprocessed)\n",
    "ohe_model_train = ClassicModelTrain(ohe_preprocessed)"
   ]
  },
  {
   "cell_type": "code",
   "execution_count": 16,
   "metadata": {},
   "outputs": [],
   "source": [
    "def draw_cnt_data_distribution(data):\n",
    "    x_train, x_test, y_train, y_test = data.get_preprocessed_data()\n",
    "    tmp = y_train.reset_index()\n",
    "    tmp = pd.DataFrame(np.hstack([x_train, y_train.reshape(len(y_train), 1)]))\n",
    "    tmp_0 = tmp[tmp[8] == \"N\"]\n",
    "    tmp_1 = tmp[tmp[8] == \"IE\"]\n",
    "    tmp_2 = tmp[tmp[8] == \"EI\"]\n",
    "    for i in tmp.columns:\n",
    "        if i != len(tmp.columns) - 1:\n",
    "            tmp[i] = tmp[i].astype(int)\n",
    "    tmp.dtypes\n",
    "    plt.figure(figsize=(15, 5))\n",
    "    plt.subplot(1, 3, 1)\n",
    "    sns.boxplot(data=tmp_0.values[:,:-1])\n",
    "    plt.title(\"N\")\n",
    "    plt.subplot(1, 3, 2)\n",
    "    sns.boxplot(data=tmp_1.values[:,:-1])\n",
    "    plt.title(\"IE\")\n",
    "    plt.subplot(1, 3, 3)\n",
    "    sns.boxplot(data=tmp_2.values[:,:-1])\n",
    "    plt.title(\"EI\")\n",
    "    plt.show()"
   ]
  },
  {
   "cell_type": "markdown",
   "metadata": {},
   "source": [
    "### 아래의 그래프는 CountVectorizer를 이용한 경우 각 클래스간의 분포도입니다."
   ]
  },
  {
   "cell_type": "code",
   "execution_count": 17,
   "metadata": {},
   "outputs": [
    {
     "data": {
      "image/png": "[encoded data removed]",
      "text/plain": [
       "<Figure size 1080x360 with 3 Axes>"
      ]
     },
     "metadata": {
      "image/png": {
       "height": 318,
       "width": 872
      }
     },
     "output_type": "display_data"
    }
   ],
   "source": [
    "draw_cnt_data_distribution(cnt_preprocessed)"
   ]
  },
  {
   "cell_type": "markdown",
   "metadata": {},
   "source": [
    "### 아래의 그래프는 TfidfVectorizer를 이용한 경우 각 클래스간의 분포도입니다."
   ]
  },
  {
   "cell_type": "code",
   "execution_count": 18,
   "metadata": {},
   "outputs": [
    {
     "data": {
      "image/png": "[encoded data removed]",
      "text/plain": [
       "<Figure size 1080x360 with 3 Axes>"
      ]
     },
     "metadata": {
      "image/png": {
       "height": 318,
       "width": 878
      }
     },
     "output_type": "display_data"
    }
   ],
   "source": [
    "draw_cnt_data_distribution(tf_preprocessed)"
   ]
  },
  {
   "cell_type": "markdown",
   "metadata": {},
   "source": [
    "### 두 그래프를 통해서 각 클래스간에 존재하는 알파벳 개수의 분포가 다른 것을 확인할 수 있었습니다."
   ]
  },
  {
   "cell_type": "markdown",
   "metadata": {},
   "source": [
    "---"
   ]
  },
  {
   "cell_type": "markdown",
   "metadata": {},
   "source": [
    "# 아래부터는 두 가지 기법을 사용한 모델링(클래식 머신러닝, 딥러닝) 코드입니다.\n",
    "\n",
    "### 모델 평가는 주로 sklearn.metrics.classification_report()를 통하여 precision, recall, f1-score를 확인하는 방법을 사용하였습니다.\n",
    "\n",
    "### 모델 평가를 진행한 자세한 방법은\n",
    ">전체 데이터 3190개에 대해서 test 40%비율로 split을 하였고, X_train으로 학습을 진행하였습니다(X train, X_test 는 각각 1914, 1276 rows).\n",
    "\n",
    "\n",
    "1. X_test로 예측하고 classification_report를 이용하여 평가.\n",
    "2. 전체 데이터 3190개에서 랜덤하게 1000개를 뽑은 데이터를 이용해서 예측하고 classification_report를 이용하여 평가.\n",
    "3. 3번을 10번 시도하여 나온 Accuracy값의 평균을 확인."
   ]
  },
  {
   "cell_type": "markdown",
   "metadata": {},
   "source": [
    "## 1. 클래식 머신러닝 기법으로 모델링"
   ]
  },
  {
   "cell_type": "markdown",
   "metadata": {},
   "source": [
    "### 먼저 CountVectorizer를 통해서 embedding한 데이터를 이용하여 모델링을 시도해봤습니다."
   ]
  },
  {
   "cell_type": "code",
   "execution_count": 19,
   "metadata": {},
   "outputs": [
    {
     "data": {
      "text/markdown": [
       "##### shape of X train and X_test : "
      ],
      "text/plain": [
       "<IPython.core.display.Markdown object>"
      ]
     },
     "metadata": {},
     "output_type": "display_data"
    },
    {
     "name": "stdout",
     "output_type": "stream",
     "text": [
      "(1914, 8) (1276, 8)\n"
     ]
    },
    {
     "data": {
      "text/markdown": [
       "#### Run logistic"
      ],
      "text/plain": [
       "<IPython.core.display.Markdown object>"
      ]
     },
     "metadata": {},
     "output_type": "display_data"
    },
    {
     "data": {
      "text/markdown": [
       "##### Logistic Regression classification report : "
      ],
      "text/plain": [
       "<IPython.core.display.Markdown object>"
      ]
     },
     "metadata": {},
     "output_type": "display_data"
    },
    {
     "name": "stdout",
     "output_type": "stream",
     "text": [
      "             precision    recall  f1-score   support\n",
      "\n",
      "         EI       0.56      0.16      0.25       320\n",
      "         IE       0.55      0.24      0.33       327\n",
      "          N       0.52      0.86      0.65       629\n",
      "\n",
      "avg / total       0.54      0.53      0.47      1276\n",
      "\n"
     ]
    },
    {
     "data": {
      "text/markdown": [
       "##### Logistic Regression <span style='color: red'>randomly selected 1000 data</span> classification report : "
      ],
      "text/plain": [
       "<IPython.core.display.Markdown object>"
      ]
     },
     "metadata": {},
     "output_type": "display_data"
    },
    {
     "name": "stdout",
     "output_type": "stream",
     "text": [
      "             precision    recall  f1-score   support\n",
      "\n",
      "         EI       0.57      0.18      0.27       258\n",
      "         IE       0.59      0.25      0.36       237\n",
      "          N       0.53      0.87      0.66       505\n",
      "\n",
      "avg / total       0.56      0.54      0.49      1000\n",
      "\n"
     ]
    },
    {
     "data": {
      "text/markdown": [
       "##### Ten-fold cross-validation accuracy score : "
      ],
      "text/plain": [
       "<IPython.core.display.Markdown object>"
      ]
     },
     "metadata": {},
     "output_type": "display_data"
    },
    {
     "data": {
      "text/markdown": [
       "##### : 54.14000000000001"
      ],
      "text/plain": [
       "<IPython.core.display.Markdown object>"
      ]
     },
     "metadata": {},
     "output_type": "display_data"
    },
    {
     "data": {
      "text/markdown": [
       "#### Run multinomialNB"
      ],
      "text/plain": [
       "<IPython.core.display.Markdown object>"
      ]
     },
     "metadata": {},
     "output_type": "display_data"
    },
    {
     "data": {
      "text/markdown": [
       "##### MultinomialNB classification report : "
      ],
      "text/plain": [
       "<IPython.core.display.Markdown object>"
      ]
     },
     "metadata": {},
     "output_type": "display_data"
    },
    {
     "name": "stdout",
     "output_type": "stream",
     "text": [
      "             precision    recall  f1-score   support\n",
      "\n",
      "         EI       0.47      0.43      0.45       320\n",
      "         IE       0.50      0.49      0.50       327\n",
      "          N       0.56      0.59      0.58       629\n",
      "\n",
      "avg / total       0.52      0.53      0.52      1276\n",
      "\n"
     ]
    },
    {
     "data": {
      "text/markdown": [
       "##### MultinomialNB <span style='color: red'>randomly selected 1000 data</span> classification report : "
      ],
      "text/plain": [
       "<IPython.core.display.Markdown object>"
      ]
     },
     "metadata": {},
     "output_type": "display_data"
    },
    {
     "name": "stdout",
     "output_type": "stream",
     "text": [
      "             precision    recall  f1-score   support\n",
      "\n",
      "         EI       0.43      0.42      0.43       232\n",
      "         IE       0.46      0.50      0.48       229\n",
      "          N       0.61      0.59      0.60       539\n",
      "\n",
      "avg / total       0.53      0.53      0.53      1000\n",
      "\n"
     ]
    },
    {
     "data": {
      "text/markdown": [
       "##### Ten-fold cross-validation accuracy score : "
      ],
      "text/plain": [
       "<IPython.core.display.Markdown object>"
      ]
     },
     "metadata": {},
     "output_type": "display_data"
    },
    {
     "data": {
      "text/markdown": [
       "##### : 53.56000000000001"
      ],
      "text/plain": [
       "<IPython.core.display.Markdown object>"
      ]
     },
     "metadata": {},
     "output_type": "display_data"
    },
    {
     "data": {
      "text/markdown": [
       "#### Run random forest"
      ],
      "text/plain": [
       "<IPython.core.display.Markdown object>"
      ]
     },
     "metadata": {},
     "output_type": "display_data"
    },
    {
     "data": {
      "image/png": "[encoded data removed]",
      "text/plain": [
       "<Figure size 432x288 with 1 Axes>"
      ]
     },
     "metadata": {
      "image/png": {
       "height": 263,
       "width": 380
      }
     },
     "output_type": "display_data"
    },
    {
     "data": {
      "text/markdown": [
       "0.5882967607105538"
      ],
      "text/plain": [
       "<IPython.core.display.Markdown object>"
      ]
     },
     "metadata": {},
     "output_type": "display_data"
    },
    {
     "data": {
      "text/markdown": [
       "{'max_depth': 7, 'n_estimators': 110}"
      ],
      "text/plain": [
       "<IPython.core.display.Markdown object>"
      ]
     },
     "metadata": {},
     "output_type": "display_data"
    },
    {
     "data": {
      "text/markdown": [
       "#### Run extra random forest"
      ],
      "text/plain": [
       "<IPython.core.display.Markdown object>"
      ]
     },
     "metadata": {},
     "output_type": "display_data"
    },
    {
     "data": {
      "image/png": "[encoded data removed]",
      "text/plain": [
       "<Figure size 432x288 with 1 Axes>"
      ]
     },
     "metadata": {
      "image/png": {
       "height": 263,
       "width": 386
      }
     },
     "output_type": "display_data"
    },
    {
     "data": {
      "text/markdown": [
       "0.5642633228840125"
      ],
      "text/plain": [
       "<IPython.core.display.Markdown object>"
      ]
     },
     "metadata": {},
     "output_type": "display_data"
    },
    {
     "data": {
      "text/markdown": [
       "{'max_depth': 9, 'n_estimators': 110}"
      ],
      "text/plain": [
       "<IPython.core.display.Markdown object>"
      ]
     },
     "metadata": {},
     "output_type": "display_data"
    },
    {
     "data": {
      "text/markdown": [
       "##### Kernel Support Vector Machine classification report : "
      ],
      "text/plain": [
       "<IPython.core.display.Markdown object>"
      ]
     },
     "metadata": {},
     "output_type": "display_data"
    },
    {
     "name": "stdout",
     "output_type": "stream",
     "text": [
      "             precision    recall  f1-score   support\n",
      "\n",
      "         EI       0.52      0.26      0.35       320\n",
      "         IE       0.55      0.35      0.43       327\n",
      "          N       0.54      0.78      0.64       629\n",
      "\n",
      "avg / total       0.54      0.54      0.51      1276\n",
      "\n"
     ]
    },
    {
     "data": {
      "text/markdown": [
       "##### Kernel Support Vector Machine <span style='color: red'>randomly selected 1000 data</span> classification report : "
      ],
      "text/plain": [
       "<IPython.core.display.Markdown object>"
      ]
     },
     "metadata": {},
     "output_type": "display_data"
    },
    {
     "name": "stdout",
     "output_type": "stream",
     "text": [
      "             precision    recall  f1-score   support\n",
      "\n",
      "         EI       0.71      0.39      0.50       254\n",
      "         IE       0.65      0.42      0.51       233\n",
      "          N       0.62      0.86      0.72       513\n",
      "\n",
      "avg / total       0.65      0.64      0.62      1000\n",
      "\n"
     ]
    },
    {
     "data": {
      "text/markdown": [
       "##### Ten-fold cross-validation accuracy score : "
      ],
      "text/plain": [
       "<IPython.core.display.Markdown object>"
      ]
     },
     "metadata": {},
     "output_type": "display_data"
    },
    {
     "data": {
      "text/markdown": [
       "##### : 62.75999999999999"
      ],
      "text/plain": [
       "<IPython.core.display.Markdown object>"
      ]
     },
     "metadata": {},
     "output_type": "display_data"
    },
    {
     "data": {
      "text/markdown": [
       "#### Run xgboost"
      ],
      "text/plain": [
       "<IPython.core.display.Markdown object>"
      ]
     },
     "metadata": {},
     "output_type": "display_data"
    },
    {
     "name": "stdout",
     "output_type": "stream",
     "text": [
      "[0]\ttrain-mlogloss:1.09489\teval-mlogloss:1.09593\n",
      "Multiple eval metrics have been passed: 'eval-mlogloss' will be used for early stopping.\n",
      "\n",
      "Will train until eval-mlogloss hasn't improved in 10 rounds.\n",
      "[1]\ttrain-mlogloss:1.09128\teval-mlogloss:1.09333\n",
      "[2]\ttrain-mlogloss:1.08766\teval-mlogloss:1.09074\n",
      "[3]\ttrain-mlogloss:1.08413\teval-mlogloss:1.08821\n",
      "[4]\ttrain-mlogloss:1.0806\teval-mlogloss:1.0857\n",
      "[5]\ttrain-mlogloss:1.07712\teval-mlogloss:1.08324\n",
      "[6]\ttrain-mlogloss:1.07372\teval-mlogloss:1.08088\n",
      "[7]\ttrain-mlogloss:1.07034\teval-mlogloss:1.07849\n",
      "[8]\ttrain-mlogloss:1.06704\teval-mlogloss:1.0762\n",
      "[9]\ttrain-mlogloss:1.06374\teval-mlogloss:1.0739\n",
      "[10]\ttrain-mlogloss:1.06052\teval-mlogloss:1.07167\n",
      "[11]\ttrain-mlogloss:1.05729\teval-mlogloss:1.06942\n",
      "[12]\ttrain-mlogloss:1.05415\teval-mlogloss:1.06722\n",
      "[13]\ttrain-mlogloss:1.05099\teval-mlogloss:1.06505\n",
      "[14]\ttrain-mlogloss:1.04797\teval-mlogloss:1.06291\n",
      "[15]\ttrain-mlogloss:1.04492\teval-mlogloss:1.06078\n",
      "[16]\ttrain-mlogloss:1.04193\teval-mlogloss:1.05868\n",
      "[17]\ttrain-mlogloss:1.03899\teval-mlogloss:1.05664\n",
      "[18]\ttrain-mlogloss:1.03607\teval-mlogloss:1.05461\n",
      "[19]\ttrain-mlogloss:1.03319\teval-mlogloss:1.05262\n",
      "[20]\ttrain-mlogloss:1.03038\teval-mlogloss:1.05065\n",
      "[21]\ttrain-mlogloss:1.02757\teval-mlogloss:1.04871\n",
      "[22]\ttrain-mlogloss:1.02475\teval-mlogloss:1.0468\n",
      "[23]\ttrain-mlogloss:1.02196\teval-mlogloss:1.04489\n",
      "[24]\ttrain-mlogloss:1.01927\teval-mlogloss:1.04302\n",
      "[25]\ttrain-mlogloss:1.01655\teval-mlogloss:1.04119\n",
      "[26]\ttrain-mlogloss:1.01383\teval-mlogloss:1.0394\n",
      "[27]\ttrain-mlogloss:1.01118\teval-mlogloss:1.03761\n",
      "[28]\ttrain-mlogloss:1.00854\teval-mlogloss:1.03586\n",
      "[29]\ttrain-mlogloss:1.006\teval-mlogloss:1.03412\n",
      "[30]\ttrain-mlogloss:1.00342\teval-mlogloss:1.03244\n",
      "[31]\ttrain-mlogloss:1.00092\teval-mlogloss:1.0308\n",
      "[32]\ttrain-mlogloss:0.998462\teval-mlogloss:1.02916\n",
      "[33]\ttrain-mlogloss:0.996029\teval-mlogloss:1.02757\n",
      "[34]\ttrain-mlogloss:0.993621\teval-mlogloss:1.02598\n",
      "[35]\ttrain-mlogloss:0.991255\teval-mlogloss:1.0244\n",
      "[36]\ttrain-mlogloss:0.98888\teval-mlogloss:1.02288\n",
      "[37]\ttrain-mlogloss:0.986591\teval-mlogloss:1.02134\n",
      "[38]\ttrain-mlogloss:0.984277\teval-mlogloss:1.01989\n",
      "[39]\ttrain-mlogloss:0.982038\teval-mlogloss:1.01839\n",
      "[40]\ttrain-mlogloss:0.979794\teval-mlogloss:1.01695\n",
      "[41]\ttrain-mlogloss:0.977592\teval-mlogloss:1.0155\n",
      "[42]\ttrain-mlogloss:0.975385\teval-mlogloss:1.01414\n",
      "[43]\ttrain-mlogloss:0.973216\teval-mlogloss:1.01279\n",
      "[44]\ttrain-mlogloss:0.971104\teval-mlogloss:1.0114\n",
      "[45]\ttrain-mlogloss:0.968946\teval-mlogloss:1.01003\n",
      "[46]\ttrain-mlogloss:0.96677\teval-mlogloss:1.00867\n",
      "[47]\ttrain-mlogloss:0.964696\teval-mlogloss:1.00731\n",
      "[48]\ttrain-mlogloss:0.962587\teval-mlogloss:1.00602\n",
      "[49]\ttrain-mlogloss:0.960457\teval-mlogloss:1.00473\n",
      "[50]\ttrain-mlogloss:0.958475\teval-mlogloss:1.00343\n",
      "[51]\ttrain-mlogloss:0.956452\teval-mlogloss:1.0022\n",
      "[52]\ttrain-mlogloss:0.954439\teval-mlogloss:1.00096\n",
      "[53]\ttrain-mlogloss:0.952485\teval-mlogloss:0.999732\n",
      "[54]\ttrain-mlogloss:0.950518\teval-mlogloss:0.998528\n",
      "[55]\ttrain-mlogloss:0.948569\teval-mlogloss:0.997339\n",
      "[56]\ttrain-mlogloss:0.946719\teval-mlogloss:0.996149\n",
      "[57]\ttrain-mlogloss:0.944834\teval-mlogloss:0.995008\n",
      "[58]\ttrain-mlogloss:0.942962\teval-mlogloss:0.993864\n",
      "[59]\ttrain-mlogloss:0.941114\teval-mlogloss:0.992727\n",
      "[60]\ttrain-mlogloss:0.939259\teval-mlogloss:0.991646\n",
      "[61]\ttrain-mlogloss:0.937417\teval-mlogloss:0.990549\n",
      "[62]\ttrain-mlogloss:0.935663\teval-mlogloss:0.989464\n",
      "[63]\ttrain-mlogloss:0.933881\teval-mlogloss:0.988407\n",
      "[64]\ttrain-mlogloss:0.932141\teval-mlogloss:0.987363\n",
      "[65]\ttrain-mlogloss:0.93042\teval-mlogloss:0.986357\n",
      "[66]\ttrain-mlogloss:0.928701\teval-mlogloss:0.98535\n",
      "[67]\ttrain-mlogloss:0.927039\teval-mlogloss:0.984347\n",
      "[68]\ttrain-mlogloss:0.925338\teval-mlogloss:0.983419\n",
      "[69]\ttrain-mlogloss:0.923673\teval-mlogloss:0.982423\n",
      "[70]\ttrain-mlogloss:0.922037\teval-mlogloss:0.981496\n",
      "[71]\ttrain-mlogloss:0.920415\teval-mlogloss:0.980534\n",
      "[72]\ttrain-mlogloss:0.918782\teval-mlogloss:0.979583\n",
      "[73]\ttrain-mlogloss:0.917239\teval-mlogloss:0.978691\n",
      "[74]\ttrain-mlogloss:0.915671\teval-mlogloss:0.977774\n",
      "[75]\ttrain-mlogloss:0.914106\teval-mlogloss:0.976926\n",
      "[76]\ttrain-mlogloss:0.91257\teval-mlogloss:0.976096\n",
      "[77]\ttrain-mlogloss:0.911088\teval-mlogloss:0.975226\n",
      "[78]\ttrain-mlogloss:0.909603\teval-mlogloss:0.974378\n",
      "[79]\ttrain-mlogloss:0.908104\teval-mlogloss:0.973584\n",
      "[80]\ttrain-mlogloss:0.906647\teval-mlogloss:0.972776\n",
      "[81]\ttrain-mlogloss:0.905164\teval-mlogloss:0.971934\n",
      "[82]\ttrain-mlogloss:0.903712\teval-mlogloss:0.97118\n",
      "[83]\ttrain-mlogloss:0.902305\teval-mlogloss:0.97041\n",
      "[84]\ttrain-mlogloss:0.900825\teval-mlogloss:0.969627\n",
      "[85]\ttrain-mlogloss:0.899444\teval-mlogloss:0.968847\n",
      "[86]\ttrain-mlogloss:0.898021\teval-mlogloss:0.968092\n",
      "[87]\ttrain-mlogloss:0.896602\teval-mlogloss:0.967391\n",
      "[88]\ttrain-mlogloss:0.895176\teval-mlogloss:0.966653\n",
      "[89]\ttrain-mlogloss:0.893794\teval-mlogloss:0.965993\n",
      "[90]\ttrain-mlogloss:0.892403\teval-mlogloss:0.965311\n",
      "[91]\ttrain-mlogloss:0.891013\teval-mlogloss:0.964579\n",
      "[92]\ttrain-mlogloss:0.889642\teval-mlogloss:0.963875\n",
      "[93]\ttrain-mlogloss:0.888287\teval-mlogloss:0.963169\n",
      "[94]\ttrain-mlogloss:0.886973\teval-mlogloss:0.962503\n",
      "[95]\ttrain-mlogloss:0.885626\teval-mlogloss:0.961812\n",
      "[96]\ttrain-mlogloss:0.88432\teval-mlogloss:0.961093\n",
      "[97]\ttrain-mlogloss:0.883031\teval-mlogloss:0.960464\n",
      "[98]\ttrain-mlogloss:0.881761\teval-mlogloss:0.95979\n",
      "[99]\ttrain-mlogloss:0.880518\teval-mlogloss:0.959129\n",
      "[100]\ttrain-mlogloss:0.87926\teval-mlogloss:0.958473\n",
      "[101]\ttrain-mlogloss:0.878028\teval-mlogloss:0.957863\n",
      "[102]\ttrain-mlogloss:0.876813\teval-mlogloss:0.957214\n",
      "[103]\ttrain-mlogloss:0.875606\teval-mlogloss:0.956581\n",
      "[104]\ttrain-mlogloss:0.874383\teval-mlogloss:0.956023\n",
      "[105]\ttrain-mlogloss:0.873179\teval-mlogloss:0.955364\n",
      "[106]\ttrain-mlogloss:0.871989\teval-mlogloss:0.95475\n",
      "[107]\ttrain-mlogloss:0.870806\teval-mlogloss:0.954156\n",
      "[108]\ttrain-mlogloss:0.86964\teval-mlogloss:0.95359\n",
      "[109]\ttrain-mlogloss:0.868479\teval-mlogloss:0.952983\n",
      "[110]\ttrain-mlogloss:0.867326\teval-mlogloss:0.952474\n",
      "[111]\ttrain-mlogloss:0.866196\teval-mlogloss:0.9519\n",
      "[112]\ttrain-mlogloss:0.865072\teval-mlogloss:0.95132\n",
      "[113]\ttrain-mlogloss:0.863955\teval-mlogloss:0.950809\n",
      "[114]\ttrain-mlogloss:0.862848\teval-mlogloss:0.95025\n",
      "[115]\ttrain-mlogloss:0.861742\teval-mlogloss:0.949755\n",
      "[116]\ttrain-mlogloss:0.860647\teval-mlogloss:0.949188\n",
      "[117]\ttrain-mlogloss:0.859568\teval-mlogloss:0.948663\n",
      "[118]\ttrain-mlogloss:0.858416\teval-mlogloss:0.948221\n",
      "[119]\ttrain-mlogloss:0.85736\teval-mlogloss:0.947703\n",
      "[120]\ttrain-mlogloss:0.856249\teval-mlogloss:0.947342\n",
      "[121]\ttrain-mlogloss:0.855131\teval-mlogloss:0.94692\n",
      "[122]\ttrain-mlogloss:0.854064\teval-mlogloss:0.946464\n",
      "[123]\ttrain-mlogloss:0.853061\teval-mlogloss:0.946018\n",
      "[124]\ttrain-mlogloss:0.851996\teval-mlogloss:0.945622\n",
      "[125]\ttrain-mlogloss:0.850963\teval-mlogloss:0.945184\n",
      "[126]\ttrain-mlogloss:0.849912\teval-mlogloss:0.944759\n",
      "[127]\ttrain-mlogloss:0.848917\teval-mlogloss:0.944287\n",
      "[128]\ttrain-mlogloss:0.847928\teval-mlogloss:0.943863\n",
      "[129]\ttrain-mlogloss:0.846922\teval-mlogloss:0.943435\n",
      "[130]\ttrain-mlogloss:0.845965\teval-mlogloss:0.943029\n",
      "[131]\ttrain-mlogloss:0.844995\teval-mlogloss:0.942652\n",
      "[132]\ttrain-mlogloss:0.843974\teval-mlogloss:0.942242\n",
      "[133]\ttrain-mlogloss:0.843042\teval-mlogloss:0.941871\n",
      "[134]\ttrain-mlogloss:0.842089\teval-mlogloss:0.941463\n",
      "[135]\ttrain-mlogloss:0.841129\teval-mlogloss:0.941089\n",
      "[136]\ttrain-mlogloss:0.840139\teval-mlogloss:0.940706\n",
      "[137]\ttrain-mlogloss:0.839203\teval-mlogloss:0.94031\n",
      "[138]\ttrain-mlogloss:0.838232\teval-mlogloss:0.939948\n",
      "[139]\ttrain-mlogloss:0.837314\teval-mlogloss:0.939557\n",
      "[140]\ttrain-mlogloss:0.836396\teval-mlogloss:0.939195\n",
      "[141]\ttrain-mlogloss:0.835507\teval-mlogloss:0.938861\n",
      "[142]\ttrain-mlogloss:0.834548\teval-mlogloss:0.938505\n",
      "[143]\ttrain-mlogloss:0.833652\teval-mlogloss:0.938116\n",
      "[144]\ttrain-mlogloss:0.832757\teval-mlogloss:0.937777\n",
      "[145]\ttrain-mlogloss:0.831867\teval-mlogloss:0.937412\n",
      "[146]\ttrain-mlogloss:0.830964\teval-mlogloss:0.937092\n",
      "[147]\ttrain-mlogloss:0.830088\teval-mlogloss:0.936727\n",
      "[148]\ttrain-mlogloss:0.829164\teval-mlogloss:0.936394\n",
      "[149]\ttrain-mlogloss:0.828273\teval-mlogloss:0.936056\n",
      "[150]\ttrain-mlogloss:0.827388\teval-mlogloss:0.935719\n",
      "[151]\ttrain-mlogloss:0.82654\teval-mlogloss:0.935374\n",
      "[152]\ttrain-mlogloss:0.825635\teval-mlogloss:0.935097\n",
      "[153]\ttrain-mlogloss:0.8248\teval-mlogloss:0.934759\n",
      "[154]\ttrain-mlogloss:0.823941\teval-mlogloss:0.934462\n",
      "[155]\ttrain-mlogloss:0.823145\teval-mlogloss:0.934124\n",
      "[156]\ttrain-mlogloss:0.822312\teval-mlogloss:0.933831\n"
     ]
    },
    {
     "name": "stdout",
     "output_type": "stream",
     "text": [
      "[157]\ttrain-mlogloss:0.821526\teval-mlogloss:0.933527\n",
      "[158]\ttrain-mlogloss:0.820694\teval-mlogloss:0.933243\n",
      "[159]\ttrain-mlogloss:0.819905\teval-mlogloss:0.932972\n",
      "[160]\ttrain-mlogloss:0.819131\teval-mlogloss:0.9327\n",
      "[161]\ttrain-mlogloss:0.818324\teval-mlogloss:0.932434\n",
      "[162]\ttrain-mlogloss:0.817543\teval-mlogloss:0.932178\n",
      "[163]\ttrain-mlogloss:0.816791\teval-mlogloss:0.931886\n",
      "[164]\ttrain-mlogloss:0.815995\teval-mlogloss:0.931614\n",
      "[165]\ttrain-mlogloss:0.815211\teval-mlogloss:0.931332\n",
      "[166]\ttrain-mlogloss:0.81445\teval-mlogloss:0.931113\n",
      "[167]\ttrain-mlogloss:0.813731\teval-mlogloss:0.93086\n",
      "[168]\ttrain-mlogloss:0.812951\teval-mlogloss:0.930578\n",
      "[169]\ttrain-mlogloss:0.812186\teval-mlogloss:0.930327\n",
      "[170]\ttrain-mlogloss:0.811459\teval-mlogloss:0.930067\n",
      "[171]\ttrain-mlogloss:0.810733\teval-mlogloss:0.929824\n",
      "[172]\ttrain-mlogloss:0.80996\teval-mlogloss:0.92956\n",
      "[173]\ttrain-mlogloss:0.809191\teval-mlogloss:0.929298\n",
      "[174]\ttrain-mlogloss:0.808442\teval-mlogloss:0.92904\n",
      "[175]\ttrain-mlogloss:0.807715\teval-mlogloss:0.928795\n",
      "[176]\ttrain-mlogloss:0.806991\teval-mlogloss:0.928567\n",
      "[177]\ttrain-mlogloss:0.806262\teval-mlogloss:0.928346\n",
      "[178]\ttrain-mlogloss:0.805538\teval-mlogloss:0.928056\n",
      "[179]\ttrain-mlogloss:0.804807\teval-mlogloss:0.927805\n",
      "[180]\ttrain-mlogloss:0.804086\teval-mlogloss:0.927564\n",
      "[181]\ttrain-mlogloss:0.803363\teval-mlogloss:0.927302\n",
      "[182]\ttrain-mlogloss:0.802672\teval-mlogloss:0.927087\n",
      "[183]\ttrain-mlogloss:0.801978\teval-mlogloss:0.926844\n",
      "[184]\ttrain-mlogloss:0.801296\teval-mlogloss:0.926628\n",
      "[185]\ttrain-mlogloss:0.800616\teval-mlogloss:0.926409\n",
      "[186]\ttrain-mlogloss:0.799937\teval-mlogloss:0.926171\n",
      "[187]\ttrain-mlogloss:0.799284\teval-mlogloss:0.925981\n",
      "[188]\ttrain-mlogloss:0.798603\teval-mlogloss:0.925751\n",
      "[189]\ttrain-mlogloss:0.797946\teval-mlogloss:0.925551\n",
      "[190]\ttrain-mlogloss:0.79732\teval-mlogloss:0.925355\n",
      "[191]\ttrain-mlogloss:0.796689\teval-mlogloss:0.925159\n",
      "[192]\ttrain-mlogloss:0.796066\teval-mlogloss:0.924945\n",
      "[193]\ttrain-mlogloss:0.795465\teval-mlogloss:0.924751\n",
      "[194]\ttrain-mlogloss:0.794861\teval-mlogloss:0.924538\n",
      "[195]\ttrain-mlogloss:0.794264\teval-mlogloss:0.92435\n",
      "[196]\ttrain-mlogloss:0.793681\teval-mlogloss:0.924182\n",
      "[197]\ttrain-mlogloss:0.793101\teval-mlogloss:0.924001\n",
      "[198]\ttrain-mlogloss:0.792525\teval-mlogloss:0.923844\n",
      "[199]\ttrain-mlogloss:0.791975\teval-mlogloss:0.923674\n",
      "[200]\ttrain-mlogloss:0.791417\teval-mlogloss:0.92352\n",
      "[201]\ttrain-mlogloss:0.790864\teval-mlogloss:0.923368\n",
      "[202]\ttrain-mlogloss:0.790328\teval-mlogloss:0.923229\n",
      "[203]\ttrain-mlogloss:0.789803\teval-mlogloss:0.923091\n",
      "[204]\ttrain-mlogloss:0.78927\teval-mlogloss:0.922917\n",
      "[205]\ttrain-mlogloss:0.788711\teval-mlogloss:0.922773\n",
      "[206]\ttrain-mlogloss:0.788235\teval-mlogloss:0.922629\n",
      "[207]\ttrain-mlogloss:0.787703\teval-mlogloss:0.92249\n",
      "[208]\ttrain-mlogloss:0.787189\teval-mlogloss:0.92234\n",
      "[209]\ttrain-mlogloss:0.786723\teval-mlogloss:0.922241\n",
      "[210]\ttrain-mlogloss:0.786189\teval-mlogloss:0.922098\n",
      "[211]\ttrain-mlogloss:0.785694\teval-mlogloss:0.921976\n",
      "[212]\ttrain-mlogloss:0.785173\teval-mlogloss:0.92185\n",
      "[213]\ttrain-mlogloss:0.784627\teval-mlogloss:0.921755\n",
      "[214]\ttrain-mlogloss:0.784036\teval-mlogloss:0.921719\n",
      "[215]\ttrain-mlogloss:0.783573\teval-mlogloss:0.921602\n",
      "[216]\ttrain-mlogloss:0.783058\teval-mlogloss:0.921479\n",
      "[217]\ttrain-mlogloss:0.782538\teval-mlogloss:0.921366\n",
      "[218]\ttrain-mlogloss:0.782065\teval-mlogloss:0.921246\n",
      "[219]\ttrain-mlogloss:0.781566\teval-mlogloss:0.921162\n",
      "[220]\ttrain-mlogloss:0.781104\teval-mlogloss:0.921046\n",
      "[221]\ttrain-mlogloss:0.780631\teval-mlogloss:0.920965\n",
      "[222]\ttrain-mlogloss:0.780153\teval-mlogloss:0.920892\n",
      "[223]\ttrain-mlogloss:0.779671\teval-mlogloss:0.920788\n",
      "[224]\ttrain-mlogloss:0.779209\teval-mlogloss:0.920684\n",
      "[225]\ttrain-mlogloss:0.778715\teval-mlogloss:0.92061\n",
      "[226]\ttrain-mlogloss:0.778259\teval-mlogloss:0.920536\n",
      "[227]\ttrain-mlogloss:0.777713\teval-mlogloss:0.920383\n",
      "[228]\ttrain-mlogloss:0.77719\teval-mlogloss:0.920241\n",
      "[229]\ttrain-mlogloss:0.776678\teval-mlogloss:0.920111\n",
      "[230]\ttrain-mlogloss:0.776171\teval-mlogloss:0.919961\n",
      "[231]\ttrain-mlogloss:0.775679\teval-mlogloss:0.919827\n",
      "[232]\ttrain-mlogloss:0.775243\teval-mlogloss:0.919684\n",
      "[233]\ttrain-mlogloss:0.774762\teval-mlogloss:0.919645\n",
      "[234]\ttrain-mlogloss:0.774282\teval-mlogloss:0.919531\n",
      "[235]\ttrain-mlogloss:0.773825\teval-mlogloss:0.919377\n",
      "[236]\ttrain-mlogloss:0.773366\teval-mlogloss:0.919268\n",
      "[237]\ttrain-mlogloss:0.772938\teval-mlogloss:0.919119\n",
      "[238]\ttrain-mlogloss:0.772459\teval-mlogloss:0.919023\n",
      "[239]\ttrain-mlogloss:0.771969\teval-mlogloss:0.91892\n",
      "[240]\ttrain-mlogloss:0.771491\teval-mlogloss:0.918826\n",
      "[241]\ttrain-mlogloss:0.771021\teval-mlogloss:0.918757\n",
      "[242]\ttrain-mlogloss:0.770564\teval-mlogloss:0.91868\n",
      "[243]\ttrain-mlogloss:0.770094\teval-mlogloss:0.91862\n",
      "[244]\ttrain-mlogloss:0.769631\teval-mlogloss:0.918521\n",
      "[245]\ttrain-mlogloss:0.769168\teval-mlogloss:0.918475\n",
      "[246]\ttrain-mlogloss:0.768738\teval-mlogloss:0.918434\n",
      "[247]\ttrain-mlogloss:0.768289\teval-mlogloss:0.918379\n",
      "[248]\ttrain-mlogloss:0.767849\teval-mlogloss:0.918314\n",
      "[249]\ttrain-mlogloss:0.767407\teval-mlogloss:0.91826\n",
      "[250]\ttrain-mlogloss:0.766956\teval-mlogloss:0.918194\n",
      "[251]\ttrain-mlogloss:0.766544\teval-mlogloss:0.918161\n",
      "[252]\ttrain-mlogloss:0.766117\teval-mlogloss:0.918107\n",
      "[253]\ttrain-mlogloss:0.765694\teval-mlogloss:0.918078\n",
      "[254]\ttrain-mlogloss:0.765273\teval-mlogloss:0.918028\n",
      "[255]\ttrain-mlogloss:0.76489\teval-mlogloss:0.917988\n",
      "[256]\ttrain-mlogloss:0.764493\teval-mlogloss:0.917951\n",
      "[257]\ttrain-mlogloss:0.764099\teval-mlogloss:0.917919\n",
      "[258]\ttrain-mlogloss:0.763706\teval-mlogloss:0.917852\n",
      "[259]\ttrain-mlogloss:0.763342\teval-mlogloss:0.917804\n",
      "[260]\ttrain-mlogloss:0.762956\teval-mlogloss:0.917765\n",
      "[261]\ttrain-mlogloss:0.762565\teval-mlogloss:0.917713\n",
      "[262]\ttrain-mlogloss:0.762185\teval-mlogloss:0.917654\n",
      "[263]\ttrain-mlogloss:0.761846\teval-mlogloss:0.917597\n",
      "[264]\ttrain-mlogloss:0.761458\teval-mlogloss:0.917569\n",
      "[265]\ttrain-mlogloss:0.761011\teval-mlogloss:0.917537\n",
      "[266]\ttrain-mlogloss:0.760656\teval-mlogloss:0.917531\n",
      "[267]\ttrain-mlogloss:0.760287\teval-mlogloss:0.917479\n",
      "[268]\ttrain-mlogloss:0.75985\teval-mlogloss:0.917474\n",
      "[269]\ttrain-mlogloss:0.759453\teval-mlogloss:0.917425\n",
      "[270]\ttrain-mlogloss:0.758984\teval-mlogloss:0.917403\n",
      "[271]\ttrain-mlogloss:0.758554\teval-mlogloss:0.917359\n",
      "[272]\ttrain-mlogloss:0.758151\teval-mlogloss:0.917288\n",
      "[273]\ttrain-mlogloss:0.757776\teval-mlogloss:0.917243\n",
      "[274]\ttrain-mlogloss:0.757383\teval-mlogloss:0.917194\n",
      "[275]\ttrain-mlogloss:0.756968\teval-mlogloss:0.917209\n",
      "[276]\ttrain-mlogloss:0.75653\teval-mlogloss:0.917182\n",
      "[277]\ttrain-mlogloss:0.756132\teval-mlogloss:0.917147\n",
      "[278]\ttrain-mlogloss:0.755703\teval-mlogloss:0.917068\n",
      "[279]\ttrain-mlogloss:0.755293\teval-mlogloss:0.917092\n",
      "[280]\ttrain-mlogloss:0.754918\teval-mlogloss:0.917044\n",
      "[281]\ttrain-mlogloss:0.7545\teval-mlogloss:0.917021\n",
      "[282]\ttrain-mlogloss:0.754123\teval-mlogloss:0.917028\n",
      "[283]\ttrain-mlogloss:0.753767\teval-mlogloss:0.916995\n",
      "[284]\ttrain-mlogloss:0.753394\teval-mlogloss:0.916965\n",
      "[285]\ttrain-mlogloss:0.753014\teval-mlogloss:0.916977\n",
      "[286]\ttrain-mlogloss:0.752624\teval-mlogloss:0.916911\n",
      "[287]\ttrain-mlogloss:0.752256\teval-mlogloss:0.91691\n",
      "[288]\ttrain-mlogloss:0.751906\teval-mlogloss:0.916898\n",
      "[289]\ttrain-mlogloss:0.751538\teval-mlogloss:0.916887\n",
      "[290]\ttrain-mlogloss:0.751182\teval-mlogloss:0.916859\n",
      "[291]\ttrain-mlogloss:0.750894\teval-mlogloss:0.916853\n",
      "[292]\ttrain-mlogloss:0.750557\teval-mlogloss:0.916829\n",
      "[293]\ttrain-mlogloss:0.750226\teval-mlogloss:0.916812\n",
      "[294]\ttrain-mlogloss:0.749957\teval-mlogloss:0.916808\n",
      "[295]\ttrain-mlogloss:0.749646\teval-mlogloss:0.916795\n",
      "[296]\ttrain-mlogloss:0.749341\teval-mlogloss:0.916778\n",
      "[297]\ttrain-mlogloss:0.74907\teval-mlogloss:0.916749\n",
      "[298]\ttrain-mlogloss:0.748792\teval-mlogloss:0.916729\n",
      "[299]\ttrain-mlogloss:0.748497\teval-mlogloss:0.916717\n",
      "[300]\ttrain-mlogloss:0.748223\teval-mlogloss:0.916707\n",
      "[301]\ttrain-mlogloss:0.74796\teval-mlogloss:0.916688\n",
      "[302]\ttrain-mlogloss:0.747694\teval-mlogloss:0.916676\n",
      "[303]\ttrain-mlogloss:0.747386\teval-mlogloss:0.916679\n",
      "[304]\ttrain-mlogloss:0.747118\teval-mlogloss:0.916674\n",
      "[305]\ttrain-mlogloss:0.746823\teval-mlogloss:0.916657\n",
      "[306]\ttrain-mlogloss:0.746533\teval-mlogloss:0.916662\n",
      "[307]\ttrain-mlogloss:0.746274\teval-mlogloss:0.916653\n",
      "[308]\ttrain-mlogloss:0.745968\teval-mlogloss:0.916648\n",
      "[309]\ttrain-mlogloss:0.745695\teval-mlogloss:0.916633\n",
      "[310]\ttrain-mlogloss:0.745404\teval-mlogloss:0.916639\n",
      "[311]\ttrain-mlogloss:0.745136\teval-mlogloss:0.916628\n",
      "[312]\ttrain-mlogloss:0.744825\teval-mlogloss:0.916637\n"
     ]
    },
    {
     "name": "stdout",
     "output_type": "stream",
     "text": [
      "[313]\ttrain-mlogloss:0.744548\teval-mlogloss:0.916636\n",
      "[314]\ttrain-mlogloss:0.744285\teval-mlogloss:0.91663\n",
      "[315]\ttrain-mlogloss:0.744007\teval-mlogloss:0.916638\n",
      "[316]\ttrain-mlogloss:0.743751\teval-mlogloss:0.916633\n",
      "[317]\ttrain-mlogloss:0.743448\teval-mlogloss:0.916638\n",
      "[318]\ttrain-mlogloss:0.743161\teval-mlogloss:0.916643\n",
      "[319]\ttrain-mlogloss:0.742892\teval-mlogloss:0.916637\n",
      "[320]\ttrain-mlogloss:0.74263\teval-mlogloss:0.916642\n",
      "[321]\ttrain-mlogloss:0.742342\teval-mlogloss:0.916657\n",
      "Stopping. Best iteration:\n",
      "[311]\ttrain-mlogloss:0.745136\teval-mlogloss:0.916628\n",
      "\n"
     ]
    },
    {
     "data": {
      "text/markdown": [
       "##### XGBoost classification report : "
      ],
      "text/plain": [
       "<IPython.core.display.Markdown object>"
      ]
     },
     "metadata": {},
     "output_type": "display_data"
    },
    {
     "name": "stdout",
     "output_type": "stream",
     "text": [
      "             precision    recall  f1-score   support\n",
      "\n",
      "         EI       0.50      0.24      0.32       320\n",
      "         IE       0.53      0.42      0.47       327\n",
      "          N       0.56      0.76      0.64       629\n",
      "\n",
      "avg / total       0.54      0.54      0.52      1276\n",
      "\n"
     ]
    },
    {
     "data": {
      "text/markdown": [
       "##### XGBoost <span style='color: red'>randomly selected 1000 data</span> classification report : "
      ],
      "text/plain": [
       "<IPython.core.display.Markdown object>"
      ]
     },
     "metadata": {},
     "output_type": "display_data"
    },
    {
     "name": "stdout",
     "output_type": "stream",
     "text": [
      "             precision    recall  f1-score   support\n",
      "\n",
      "         EI       0.60      0.30      0.40       229\n",
      "         IE       0.62      0.48      0.54       254\n",
      "          N       0.62      0.83      0.71       517\n",
      "\n",
      "avg / total       0.61      0.62      0.59      1000\n",
      "\n"
     ]
    },
    {
     "data": {
      "text/markdown": [
       "##### Ten-fold cross-validation accuracy score : "
      ],
      "text/plain": [
       "<IPython.core.display.Markdown object>"
      ]
     },
     "metadata": {},
     "output_type": "display_data"
    },
    {
     "data": {
      "text/markdown": [
       "##### : 62.17999999999999"
      ],
      "text/plain": [
       "<IPython.core.display.Markdown object>"
      ]
     },
     "metadata": {},
     "output_type": "display_data"
    },
    {
     "name": "stdout",
     "output_type": "stream",
     "text": [
      "CPU times: user 7.91 s, sys: 410 ms, total: 8.32 s\n",
      "Wall time: 1min 11s\n"
     ]
    }
   ],
   "source": [
    "%%time\n",
    "cnt_model_train.run_all()"
   ]
  },
  {
   "cell_type": "markdown",
   "metadata": {},
   "source": [
    "### 정리해서 보면\n",
    "<img src='./cnt.png'>\n",
    "\n",
    "- 모든 모델에 대해서 하이퍼패러미터를 다양하게 도전해보지는 못했지만, randomForest나, extraRandomForest 같은 경우는 gridSearchCV를 사용하여 50가지씩 도전했지만 크게 나아지는 것을 확인하지는 못했습니다.\n",
    "- Ten-fold CV는 오리지널 데이터 3190 중에 랜덤하게 1000개를 뽑아서 진행하였기 때문에 경우에 따라서는 모델 학습에 쓰인 데이터가 Test로 사용되는 경우도 있습니다. 그래서 최고 모델을 선정하는 것에 있어서는 그것보다는 학습에 사용되지 않았던 데이터를 이용하여 제시된 ClassificationReport 정보에 좀 더 높은 가중치를 두었습니다."
   ]
  },
  {
   "cell_type": "markdown",
   "metadata": {},
   "source": [
    "### 이번에는 TfidfVectorizer를 이용하여 모델링을 시도해봤습니다."
   ]
  },
  {
   "cell_type": "code",
   "execution_count": 20,
   "metadata": {},
   "outputs": [
    {
     "data": {
      "text/markdown": [
       "##### shape of X train and X_test : "
      ],
      "text/plain": [
       "<IPython.core.display.Markdown object>"
      ]
     },
     "metadata": {},
     "output_type": "display_data"
    },
    {
     "name": "stdout",
     "output_type": "stream",
     "text": [
      "(1914, 8) (1276, 8)\n"
     ]
    },
    {
     "data": {
      "text/markdown": [
       "#### Run logistic"
      ],
      "text/plain": [
       "<IPython.core.display.Markdown object>"
      ]
     },
     "metadata": {},
     "output_type": "display_data"
    },
    {
     "data": {
      "text/markdown": [
       "##### Logistic Regression classification report : "
      ],
      "text/plain": [
       "<IPython.core.display.Markdown object>"
      ]
     },
     "metadata": {},
     "output_type": "display_data"
    },
    {
     "name": "stdout",
     "output_type": "stream",
     "text": [
      "             precision    recall  f1-score   support\n",
      "\n",
      "         EI       0.55      0.16      0.25       320\n",
      "         IE       0.54      0.24      0.34       327\n",
      "          N       0.52      0.85      0.64       629\n",
      "\n",
      "avg / total       0.53      0.52      0.47      1276\n",
      "\n"
     ]
    },
    {
     "data": {
      "text/markdown": [
       "##### Logistic Regression <span style='color: red'>randomly selected 1000 data</span> classification report : "
      ],
      "text/plain": [
       "<IPython.core.display.Markdown object>"
      ]
     },
     "metadata": {},
     "output_type": "display_data"
    },
    {
     "name": "stdout",
     "output_type": "stream",
     "text": [
      "             precision    recall  f1-score   support\n",
      "\n",
      "         EI       0.49      0.18      0.26       247\n",
      "         IE       0.61      0.31      0.41       238\n",
      "          N       0.55      0.84      0.66       515\n",
      "\n",
      "avg / total       0.55      0.55      0.50      1000\n",
      "\n"
     ]
    },
    {
     "data": {
      "text/markdown": [
       "##### Ten-fold cross-validation accuracy score : "
      ],
      "text/plain": [
       "<IPython.core.display.Markdown object>"
      ]
     },
     "metadata": {},
     "output_type": "display_data"
    },
    {
     "data": {
      "text/markdown": [
       "##### : 53.86"
      ],
      "text/plain": [
       "<IPython.core.display.Markdown object>"
      ]
     },
     "metadata": {},
     "output_type": "display_data"
    },
    {
     "data": {
      "text/markdown": [
       "#### Run multinomialNB"
      ],
      "text/plain": [
       "<IPython.core.display.Markdown object>"
      ]
     },
     "metadata": {},
     "output_type": "display_data"
    },
    {
     "data": {
      "text/markdown": [
       "##### MultinomialNB classification report : "
      ],
      "text/plain": [
       "<IPython.core.display.Markdown object>"
      ]
     },
     "metadata": {},
     "output_type": "display_data"
    },
    {
     "name": "stdout",
     "output_type": "stream",
     "text": [
      "             precision    recall  f1-score   support\n",
      "\n",
      "         EI       0.45      0.57      0.51       320\n",
      "         IE       0.48      0.60      0.53       327\n",
      "          N       0.60      0.44      0.51       629\n",
      "\n",
      "avg / total       0.53      0.51      0.51      1276\n",
      "\n"
     ]
    },
    {
     "data": {
      "text/markdown": [
       "##### MultinomialNB <span style='color: red'>randomly selected 1000 data</span> classification report : "
      ],
      "text/plain": [
       "<IPython.core.display.Markdown object>"
      ]
     },
     "metadata": {},
     "output_type": "display_data"
    },
    {
     "name": "stdout",
     "output_type": "stream",
     "text": [
      "             precision    recall  f1-score   support\n",
      "\n",
      "         EI       0.46      0.59      0.52       247\n",
      "         IE       0.50      0.62      0.55       258\n",
      "          N       0.63      0.46      0.53       495\n",
      "\n",
      "avg / total       0.56      0.53      0.53      1000\n",
      "\n"
     ]
    },
    {
     "data": {
      "text/markdown": [
       "##### Ten-fold cross-validation accuracy score : "
      ],
      "text/plain": [
       "<IPython.core.display.Markdown object>"
      ]
     },
     "metadata": {},
     "output_type": "display_data"
    },
    {
     "data": {
      "text/markdown": [
       "##### : 50.54"
      ],
      "text/plain": [
       "<IPython.core.display.Markdown object>"
      ]
     },
     "metadata": {},
     "output_type": "display_data"
    },
    {
     "data": {
      "text/markdown": [
       "#### Run random forest"
      ],
      "text/plain": [
       "<IPython.core.display.Markdown object>"
      ]
     },
     "metadata": {},
     "output_type": "display_data"
    },
    {
     "data": {
      "image/png": "[encoded data removed]",
      "text/plain": [
       "<Figure size 432x288 with 1 Axes>"
      ]
     },
     "metadata": {
      "image/png": {
       "height": 263,
       "width": 380
      }
     },
     "output_type": "display_data"
    },
    {
     "data": {
      "text/markdown": [
       "0.5882967607105538"
      ],
      "text/plain": [
       "<IPython.core.display.Markdown object>"
      ]
     },
     "metadata": {},
     "output_type": "display_data"
    },
    {
     "data": {
      "text/markdown": [
       "{'max_depth': 9, 'n_estimators': 180}"
      ],
      "text/plain": [
       "<IPython.core.display.Markdown object>"
      ]
     },
     "metadata": {},
     "output_type": "display_data"
    },
    {
     "data": {
      "text/markdown": [
       "#### Run extra random forest"
      ],
      "text/plain": [
       "<IPython.core.display.Markdown object>"
      ]
     },
     "metadata": {},
     "output_type": "display_data"
    },
    {
     "data": {
      "image/png": "[encoded data removed]",
      "text/plain": [
       "<Figure size 432x288 with 1 Axes>"
      ]
     },
     "metadata": {
      "image/png": {
       "height": 263,
       "width": 380
      }
     },
     "output_type": "display_data"
    },
    {
     "data": {
      "text/markdown": [
       "0.5830721003134797"
      ],
      "text/plain": [
       "<IPython.core.display.Markdown object>"
      ]
     },
     "metadata": {},
     "output_type": "display_data"
    },
    {
     "data": {
      "text/markdown": [
       "{'max_depth': 9, 'n_estimators': 100}"
      ],
      "text/plain": [
       "<IPython.core.display.Markdown object>"
      ]
     },
     "metadata": {},
     "output_type": "display_data"
    },
    {
     "data": {
      "text/markdown": [
       "##### Kernel Support Vector Machine classification report : "
      ],
      "text/plain": [
       "<IPython.core.display.Markdown object>"
      ]
     },
     "metadata": {},
     "output_type": "display_data"
    },
    {
     "name": "stdout",
     "output_type": "stream",
     "text": [
      "             precision    recall  f1-score   support\n",
      "\n",
      "         EI       0.50      0.19      0.28       320\n",
      "         IE       0.63      0.21      0.32       327\n",
      "          N       0.54      0.89      0.67       629\n",
      "\n",
      "avg / total       0.55      0.54      0.48      1276\n",
      "\n"
     ]
    },
    {
     "data": {
      "text/markdown": [
       "##### Kernel Support Vector Machine <span style='color: red'>randomly selected 1000 data</span> classification report : "
      ],
      "text/plain": [
       "<IPython.core.display.Markdown object>"
      ]
     },
     "metadata": {},
     "output_type": "display_data"
    },
    {
     "name": "stdout",
     "output_type": "stream",
     "text": [
      "             precision    recall  f1-score   support\n",
      "\n",
      "         EI       0.82      0.57      0.67       238\n",
      "         IE       0.92      0.58      0.72       248\n",
      "          N       0.72      0.96      0.82       514\n",
      "\n",
      "avg / total       0.80      0.77      0.76      1000\n",
      "\n"
     ]
    },
    {
     "data": {
      "text/markdown": [
       "##### Ten-fold cross-validation accuracy score : "
      ],
      "text/plain": [
       "<IPython.core.display.Markdown object>"
      ]
     },
     "metadata": {},
     "output_type": "display_data"
    },
    {
     "data": {
      "text/markdown": [
       "##### : 76.95"
      ],
      "text/plain": [
       "<IPython.core.display.Markdown object>"
      ]
     },
     "metadata": {},
     "output_type": "display_data"
    },
    {
     "data": {
      "text/markdown": [
       "#### Run xgboost"
      ],
      "text/plain": [
       "<IPython.core.display.Markdown object>"
      ]
     },
     "metadata": {},
     "output_type": "display_data"
    },
    {
     "name": "stdout",
     "output_type": "stream",
     "text": [
      "[0]\ttrain-mlogloss:1.09462\teval-mlogloss:1.09579\n",
      "Multiple eval metrics have been passed: 'eval-mlogloss' will be used for early stopping.\n",
      "\n",
      "Will train until eval-mlogloss hasn't improved in 10 rounds.\n",
      "[1]\ttrain-mlogloss:1.0907\teval-mlogloss:1.09302\n",
      "[2]\ttrain-mlogloss:1.08684\teval-mlogloss:1.09031\n",
      "[3]\ttrain-mlogloss:1.08304\teval-mlogloss:1.08764\n",
      "[4]\ttrain-mlogloss:1.07928\teval-mlogloss:1.08502\n",
      "[5]\ttrain-mlogloss:1.07559\teval-mlogloss:1.08241\n",
      "[6]\ttrain-mlogloss:1.07196\teval-mlogloss:1.07983\n",
      "[7]\ttrain-mlogloss:1.06838\teval-mlogloss:1.07734\n",
      "[8]\ttrain-mlogloss:1.06485\teval-mlogloss:1.07485\n",
      "[9]\ttrain-mlogloss:1.0614\teval-mlogloss:1.07247\n",
      "[10]\ttrain-mlogloss:1.05795\teval-mlogloss:1.07006\n",
      "[11]\ttrain-mlogloss:1.05455\teval-mlogloss:1.06772\n",
      "[12]\ttrain-mlogloss:1.05121\teval-mlogloss:1.06541\n",
      "[13]\ttrain-mlogloss:1.04792\teval-mlogloss:1.06315\n",
      "[14]\ttrain-mlogloss:1.04468\teval-mlogloss:1.06089\n",
      "[15]\ttrain-mlogloss:1.04148\teval-mlogloss:1.05871\n",
      "[16]\ttrain-mlogloss:1.03832\teval-mlogloss:1.05655\n",
      "[17]\ttrain-mlogloss:1.0352\teval-mlogloss:1.05442\n",
      "[18]\ttrain-mlogloss:1.0321\teval-mlogloss:1.05234\n",
      "[19]\ttrain-mlogloss:1.02908\teval-mlogloss:1.05027\n",
      "[20]\ttrain-mlogloss:1.02606\teval-mlogloss:1.04824\n",
      "[21]\ttrain-mlogloss:1.02309\teval-mlogloss:1.04625\n",
      "[22]\ttrain-mlogloss:1.02008\teval-mlogloss:1.04428\n",
      "[23]\ttrain-mlogloss:1.01715\teval-mlogloss:1.04236\n",
      "[24]\ttrain-mlogloss:1.01422\teval-mlogloss:1.04042\n",
      "[25]\ttrain-mlogloss:1.01132\teval-mlogloss:1.03856\n",
      "[26]\ttrain-mlogloss:1.0085\teval-mlogloss:1.03672\n",
      "[27]\ttrain-mlogloss:1.00568\teval-mlogloss:1.03486\n",
      "[28]\ttrain-mlogloss:1.00286\teval-mlogloss:1.03309\n",
      "[29]\ttrain-mlogloss:1.00013\teval-mlogloss:1.03133\n",
      "[30]\ttrain-mlogloss:0.997442\teval-mlogloss:1.02963\n",
      "[31]\ttrain-mlogloss:0.994809\teval-mlogloss:1.02792\n",
      "[32]\ttrain-mlogloss:0.992165\teval-mlogloss:1.02621\n",
      "[33]\ttrain-mlogloss:0.98959\teval-mlogloss:1.02457\n",
      "[34]\ttrain-mlogloss:0.987044\teval-mlogloss:1.02286\n",
      "[35]\ttrain-mlogloss:0.984529\teval-mlogloss:1.02121\n",
      "[36]\ttrain-mlogloss:0.982059\teval-mlogloss:1.01961\n",
      "[37]\ttrain-mlogloss:0.979561\teval-mlogloss:1.01804\n",
      "[38]\ttrain-mlogloss:0.97715\teval-mlogloss:1.01648\n",
      "[39]\ttrain-mlogloss:0.974712\teval-mlogloss:1.0149\n",
      "[40]\ttrain-mlogloss:0.972319\teval-mlogloss:1.01338\n",
      "[41]\ttrain-mlogloss:0.969922\teval-mlogloss:1.01187\n",
      "[42]\ttrain-mlogloss:0.967537\teval-mlogloss:1.01042\n",
      "[43]\ttrain-mlogloss:0.965252\teval-mlogloss:1.00904\n",
      "[44]\ttrain-mlogloss:0.962912\teval-mlogloss:1.00765\n",
      "[45]\ttrain-mlogloss:0.960632\teval-mlogloss:1.0063\n",
      "[46]\ttrain-mlogloss:0.958351\teval-mlogloss:1.00501\n",
      "[47]\ttrain-mlogloss:0.956092\teval-mlogloss:1.00366\n",
      "[48]\ttrain-mlogloss:0.953893\teval-mlogloss:1.00235\n",
      "[49]\ttrain-mlogloss:0.951643\teval-mlogloss:1.00103\n",
      "[50]\ttrain-mlogloss:0.949425\teval-mlogloss:0.999741\n",
      "[51]\ttrain-mlogloss:0.947291\teval-mlogloss:0.998516\n",
      "[52]\ttrain-mlogloss:0.945105\teval-mlogloss:0.99727\n",
      "[53]\ttrain-mlogloss:0.943028\teval-mlogloss:0.996091\n",
      "[54]\ttrain-mlogloss:0.940909\teval-mlogloss:0.994887\n",
      "[55]\ttrain-mlogloss:0.938815\teval-mlogloss:0.993668\n",
      "[56]\ttrain-mlogloss:0.936801\teval-mlogloss:0.992527\n",
      "[57]\ttrain-mlogloss:0.934757\teval-mlogloss:0.991357\n",
      "[58]\ttrain-mlogloss:0.93272\teval-mlogloss:0.990231\n",
      "[59]\ttrain-mlogloss:0.930756\teval-mlogloss:0.989152\n",
      "[60]\ttrain-mlogloss:0.928754\teval-mlogloss:0.988069\n",
      "[61]\ttrain-mlogloss:0.926798\teval-mlogloss:0.986942\n",
      "[62]\ttrain-mlogloss:0.92492\teval-mlogloss:0.985894\n",
      "[63]\ttrain-mlogloss:0.923011\teval-mlogloss:0.984789\n",
      "[64]\ttrain-mlogloss:0.921171\teval-mlogloss:0.983791\n",
      "[65]\ttrain-mlogloss:0.919296\teval-mlogloss:0.982776\n",
      "[66]\ttrain-mlogloss:0.917488\teval-mlogloss:0.98179\n",
      "[67]\ttrain-mlogloss:0.915672\teval-mlogloss:0.980759\n",
      "[68]\ttrain-mlogloss:0.913872\teval-mlogloss:0.979833\n",
      "[69]\ttrain-mlogloss:0.912094\teval-mlogloss:0.978832\n",
      "[70]\ttrain-mlogloss:0.910344\teval-mlogloss:0.977954\n",
      "[71]\ttrain-mlogloss:0.908611\teval-mlogloss:0.976993\n",
      "[72]\ttrain-mlogloss:0.906897\teval-mlogloss:0.976105\n",
      "[73]\ttrain-mlogloss:0.905223\teval-mlogloss:0.97518\n",
      "[74]\ttrain-mlogloss:0.903544\teval-mlogloss:0.974286\n",
      "[75]\ttrain-mlogloss:0.901849\teval-mlogloss:0.973452\n",
      "[76]\ttrain-mlogloss:0.900171\teval-mlogloss:0.972521\n",
      "[77]\ttrain-mlogloss:0.898544\teval-mlogloss:0.971653\n",
      "[78]\ttrain-mlogloss:0.896876\teval-mlogloss:0.970774\n",
      "[79]\ttrain-mlogloss:0.895246\teval-mlogloss:0.969943\n",
      "[80]\ttrain-mlogloss:0.89365\teval-mlogloss:0.969147\n",
      "[81]\ttrain-mlogloss:0.892043\teval-mlogloss:0.968291\n",
      "[82]\ttrain-mlogloss:0.890471\teval-mlogloss:0.967514\n",
      "[83]\ttrain-mlogloss:0.888895\teval-mlogloss:0.966711\n",
      "[84]\ttrain-mlogloss:0.887337\teval-mlogloss:0.965935\n",
      "[85]\ttrain-mlogloss:0.885811\teval-mlogloss:0.965162\n",
      "[86]\ttrain-mlogloss:0.88428\teval-mlogloss:0.964426\n",
      "[87]\ttrain-mlogloss:0.882767\teval-mlogloss:0.963683\n",
      "[88]\ttrain-mlogloss:0.881274\teval-mlogloss:0.962984\n",
      "[89]\ttrain-mlogloss:0.879781\teval-mlogloss:0.96224\n",
      "[90]\ttrain-mlogloss:0.878281\teval-mlogloss:0.961525\n",
      "[91]\ttrain-mlogloss:0.876861\teval-mlogloss:0.960841\n",
      "[92]\ttrain-mlogloss:0.875386\teval-mlogloss:0.960131\n",
      "[93]\ttrain-mlogloss:0.873924\teval-mlogloss:0.959433\n",
      "[94]\ttrain-mlogloss:0.872518\teval-mlogloss:0.958783\n",
      "[95]\ttrain-mlogloss:0.871049\teval-mlogloss:0.958162\n",
      "[96]\ttrain-mlogloss:0.869665\teval-mlogloss:0.957534\n",
      "[97]\ttrain-mlogloss:0.868307\teval-mlogloss:0.956921\n",
      "[98]\ttrain-mlogloss:0.866854\teval-mlogloss:0.956296\n",
      "[99]\ttrain-mlogloss:0.865502\teval-mlogloss:0.955691\n",
      "[100]\ttrain-mlogloss:0.864152\teval-mlogloss:0.9551\n",
      "[101]\ttrain-mlogloss:0.862739\teval-mlogloss:0.954559\n",
      "[102]\ttrain-mlogloss:0.861439\teval-mlogloss:0.954014\n",
      "[103]\ttrain-mlogloss:0.860147\teval-mlogloss:0.953471\n",
      "[104]\ttrain-mlogloss:0.858851\teval-mlogloss:0.952951\n",
      "[105]\ttrain-mlogloss:0.857529\teval-mlogloss:0.952412\n",
      "[106]\ttrain-mlogloss:0.856276\teval-mlogloss:0.951904\n",
      "[107]\ttrain-mlogloss:0.855018\teval-mlogloss:0.951368\n",
      "[108]\ttrain-mlogloss:0.853701\teval-mlogloss:0.950866\n",
      "[109]\ttrain-mlogloss:0.852488\teval-mlogloss:0.950325\n",
      "[110]\ttrain-mlogloss:0.851277\teval-mlogloss:0.949782\n",
      "[111]\ttrain-mlogloss:0.850004\teval-mlogloss:0.949289\n",
      "[112]\ttrain-mlogloss:0.848813\teval-mlogloss:0.948784\n",
      "[113]\ttrain-mlogloss:0.847554\teval-mlogloss:0.948307\n",
      "[114]\ttrain-mlogloss:0.846393\teval-mlogloss:0.947805\n",
      "[115]\ttrain-mlogloss:0.84524\teval-mlogloss:0.947326\n",
      "[116]\ttrain-mlogloss:0.844056\teval-mlogloss:0.946869\n",
      "[117]\ttrain-mlogloss:0.842945\teval-mlogloss:0.946374\n",
      "[118]\ttrain-mlogloss:0.841845\teval-mlogloss:0.945908\n",
      "[119]\ttrain-mlogloss:0.840765\teval-mlogloss:0.945455\n",
      "[120]\ttrain-mlogloss:0.839609\teval-mlogloss:0.945031\n",
      "[121]\ttrain-mlogloss:0.83854\teval-mlogloss:0.944608\n",
      "[122]\ttrain-mlogloss:0.837477\teval-mlogloss:0.944163\n",
      "[123]\ttrain-mlogloss:0.836425\teval-mlogloss:0.943762\n",
      "[124]\ttrain-mlogloss:0.835378\teval-mlogloss:0.943309\n",
      "[125]\ttrain-mlogloss:0.834356\teval-mlogloss:0.9429\n",
      "[126]\ttrain-mlogloss:0.833289\teval-mlogloss:0.942498\n",
      "[127]\ttrain-mlogloss:0.832199\teval-mlogloss:0.942097\n",
      "[128]\ttrain-mlogloss:0.831146\teval-mlogloss:0.941699\n",
      "[129]\ttrain-mlogloss:0.830065\teval-mlogloss:0.941321\n",
      "[130]\ttrain-mlogloss:0.829031\teval-mlogloss:0.94091\n",
      "[131]\ttrain-mlogloss:0.82801\teval-mlogloss:0.940521\n",
      "[132]\ttrain-mlogloss:0.827006\teval-mlogloss:0.940143\n",
      "[133]\ttrain-mlogloss:0.825983\teval-mlogloss:0.939781\n",
      "[134]\ttrain-mlogloss:0.824948\teval-mlogloss:0.939428\n",
      "[135]\ttrain-mlogloss:0.823969\teval-mlogloss:0.939085\n",
      "[136]\ttrain-mlogloss:0.82298\teval-mlogloss:0.938742\n",
      "[137]\ttrain-mlogloss:0.822036\teval-mlogloss:0.938388\n",
      "[138]\ttrain-mlogloss:0.821069\teval-mlogloss:0.938043\n",
      "[139]\ttrain-mlogloss:0.820119\teval-mlogloss:0.937738\n",
      "[140]\ttrain-mlogloss:0.819174\teval-mlogloss:0.937418\n",
      "[141]\ttrain-mlogloss:0.818192\teval-mlogloss:0.937132\n",
      "[142]\ttrain-mlogloss:0.817268\teval-mlogloss:0.936794\n",
      "[143]\ttrain-mlogloss:0.816269\teval-mlogloss:0.936527\n",
      "[144]\ttrain-mlogloss:0.815347\teval-mlogloss:0.936233\n",
      "[145]\ttrain-mlogloss:0.814447\teval-mlogloss:0.935922\n",
      "[146]\ttrain-mlogloss:0.813539\teval-mlogloss:0.935594\n",
      "[147]\ttrain-mlogloss:0.812616\teval-mlogloss:0.935329\n",
      "[148]\ttrain-mlogloss:0.811713\teval-mlogloss:0.935065\n",
      "[149]\ttrain-mlogloss:0.810812\teval-mlogloss:0.934853\n",
      "[150]\ttrain-mlogloss:0.809945\teval-mlogloss:0.934549\n",
      "[151]\ttrain-mlogloss:0.809032\teval-mlogloss:0.934319\n",
      "[152]\ttrain-mlogloss:0.808165\teval-mlogloss:0.934095\n",
      "[153]\ttrain-mlogloss:0.807286\teval-mlogloss:0.933876\n",
      "[154]\ttrain-mlogloss:0.806422\teval-mlogloss:0.933674\n",
      "[155]\ttrain-mlogloss:0.805536\teval-mlogloss:0.933474\n"
     ]
    },
    {
     "name": "stdout",
     "output_type": "stream",
     "text": [
      "[156]\ttrain-mlogloss:0.804653\teval-mlogloss:0.933276\n",
      "[157]\ttrain-mlogloss:0.803807\teval-mlogloss:0.933049\n",
      "[158]\ttrain-mlogloss:0.802931\teval-mlogloss:0.932874\n",
      "[159]\ttrain-mlogloss:0.802037\teval-mlogloss:0.932624\n",
      "[160]\ttrain-mlogloss:0.801168\teval-mlogloss:0.93239\n",
      "[161]\ttrain-mlogloss:0.800305\teval-mlogloss:0.932189\n",
      "[162]\ttrain-mlogloss:0.799447\teval-mlogloss:0.931909\n",
      "[163]\ttrain-mlogloss:0.798627\teval-mlogloss:0.931651\n",
      "[164]\ttrain-mlogloss:0.797761\teval-mlogloss:0.931421\n",
      "[165]\ttrain-mlogloss:0.796922\teval-mlogloss:0.931223\n",
      "[166]\ttrain-mlogloss:0.796104\teval-mlogloss:0.930973\n",
      "[167]\ttrain-mlogloss:0.795284\teval-mlogloss:0.93078\n",
      "[168]\ttrain-mlogloss:0.794453\teval-mlogloss:0.930561\n",
      "[169]\ttrain-mlogloss:0.793642\teval-mlogloss:0.93035\n",
      "[170]\ttrain-mlogloss:0.792825\teval-mlogloss:0.930218\n",
      "[171]\ttrain-mlogloss:0.792067\teval-mlogloss:0.930054\n",
      "[172]\ttrain-mlogloss:0.791263\teval-mlogloss:0.929845\n",
      "[173]\ttrain-mlogloss:0.790412\teval-mlogloss:0.929717\n",
      "[174]\ttrain-mlogloss:0.789661\teval-mlogloss:0.929555\n",
      "[175]\ttrain-mlogloss:0.788915\teval-mlogloss:0.929423\n",
      "[176]\ttrain-mlogloss:0.788162\teval-mlogloss:0.929261\n",
      "[177]\ttrain-mlogloss:0.787436\teval-mlogloss:0.929079\n",
      "[178]\ttrain-mlogloss:0.786644\teval-mlogloss:0.928904\n",
      "[179]\ttrain-mlogloss:0.785983\teval-mlogloss:0.928738\n",
      "[180]\ttrain-mlogloss:0.785229\teval-mlogloss:0.928602\n",
      "[181]\ttrain-mlogloss:0.784498\teval-mlogloss:0.928414\n",
      "[182]\ttrain-mlogloss:0.78373\teval-mlogloss:0.928247\n",
      "[183]\ttrain-mlogloss:0.783083\teval-mlogloss:0.928092\n",
      "[184]\ttrain-mlogloss:0.782413\teval-mlogloss:0.927912\n",
      "[185]\ttrain-mlogloss:0.781663\teval-mlogloss:0.927806\n",
      "[186]\ttrain-mlogloss:0.780992\teval-mlogloss:0.927642\n",
      "[187]\ttrain-mlogloss:0.780272\teval-mlogloss:0.927524\n",
      "[188]\ttrain-mlogloss:0.779588\teval-mlogloss:0.927439\n",
      "[189]\ttrain-mlogloss:0.778979\teval-mlogloss:0.927289\n",
      "[190]\ttrain-mlogloss:0.778269\teval-mlogloss:0.927149\n",
      "[191]\ttrain-mlogloss:0.777497\teval-mlogloss:0.926992\n",
      "[192]\ttrain-mlogloss:0.776758\teval-mlogloss:0.926873\n",
      "[193]\ttrain-mlogloss:0.776041\teval-mlogloss:0.926745\n",
      "[194]\ttrain-mlogloss:0.775318\teval-mlogloss:0.926632\n",
      "[195]\ttrain-mlogloss:0.774692\teval-mlogloss:0.926471\n",
      "[196]\ttrain-mlogloss:0.774041\teval-mlogloss:0.926343\n",
      "[197]\ttrain-mlogloss:0.77338\teval-mlogloss:0.926198\n",
      "[198]\ttrain-mlogloss:0.772735\teval-mlogloss:0.926107\n",
      "[199]\ttrain-mlogloss:0.772102\teval-mlogloss:0.926003\n",
      "[200]\ttrain-mlogloss:0.771456\teval-mlogloss:0.925896\n",
      "[201]\ttrain-mlogloss:0.770849\teval-mlogloss:0.925798\n",
      "[202]\ttrain-mlogloss:0.770226\teval-mlogloss:0.925716\n",
      "[203]\ttrain-mlogloss:0.769569\teval-mlogloss:0.92555\n",
      "[204]\ttrain-mlogloss:0.768933\teval-mlogloss:0.925433\n",
      "[205]\ttrain-mlogloss:0.768349\teval-mlogloss:0.925286\n",
      "[206]\ttrain-mlogloss:0.767726\teval-mlogloss:0.925118\n",
      "[207]\ttrain-mlogloss:0.767143\teval-mlogloss:0.925021\n",
      "[208]\ttrain-mlogloss:0.766557\teval-mlogloss:0.924867\n",
      "[209]\ttrain-mlogloss:0.765958\teval-mlogloss:0.924769\n",
      "[210]\ttrain-mlogloss:0.765361\teval-mlogloss:0.924649\n",
      "[211]\ttrain-mlogloss:0.76483\teval-mlogloss:0.924505\n",
      "[212]\ttrain-mlogloss:0.764176\teval-mlogloss:0.924355\n",
      "[213]\ttrain-mlogloss:0.763531\teval-mlogloss:0.924204\n",
      "[214]\ttrain-mlogloss:0.762917\teval-mlogloss:0.924051\n",
      "[215]\ttrain-mlogloss:0.762294\teval-mlogloss:0.923906\n",
      "[216]\ttrain-mlogloss:0.761658\teval-mlogloss:0.923754\n",
      "[217]\ttrain-mlogloss:0.761066\teval-mlogloss:0.923664\n",
      "[218]\ttrain-mlogloss:0.760463\teval-mlogloss:0.923513\n",
      "[219]\ttrain-mlogloss:0.759849\teval-mlogloss:0.923361\n",
      "[220]\ttrain-mlogloss:0.759264\teval-mlogloss:0.923286\n",
      "[221]\ttrain-mlogloss:0.758644\teval-mlogloss:0.92313\n",
      "[222]\ttrain-mlogloss:0.758019\teval-mlogloss:0.922986\n",
      "[223]\ttrain-mlogloss:0.757435\teval-mlogloss:0.922835\n",
      "[224]\ttrain-mlogloss:0.756844\teval-mlogloss:0.922723\n",
      "[225]\ttrain-mlogloss:0.756246\teval-mlogloss:0.92261\n",
      "[226]\ttrain-mlogloss:0.755675\teval-mlogloss:0.922458\n",
      "[227]\ttrain-mlogloss:0.755106\teval-mlogloss:0.922375\n",
      "[228]\ttrain-mlogloss:0.754499\teval-mlogloss:0.922252\n",
      "[229]\ttrain-mlogloss:0.753926\teval-mlogloss:0.922137\n",
      "[230]\ttrain-mlogloss:0.753338\teval-mlogloss:0.922027\n",
      "[231]\ttrain-mlogloss:0.75271\teval-mlogloss:0.921893\n",
      "[232]\ttrain-mlogloss:0.75216\teval-mlogloss:0.921858\n",
      "[233]\ttrain-mlogloss:0.751554\teval-mlogloss:0.921752\n",
      "[234]\ttrain-mlogloss:0.750979\teval-mlogloss:0.921662\n",
      "[235]\ttrain-mlogloss:0.750403\teval-mlogloss:0.92161\n",
      "[236]\ttrain-mlogloss:0.749829\teval-mlogloss:0.92155\n",
      "[237]\ttrain-mlogloss:0.749228\teval-mlogloss:0.921496\n",
      "[238]\ttrain-mlogloss:0.748734\teval-mlogloss:0.921413\n",
      "[239]\ttrain-mlogloss:0.748188\teval-mlogloss:0.921365\n",
      "[240]\ttrain-mlogloss:0.747612\teval-mlogloss:0.921324\n",
      "[241]\ttrain-mlogloss:0.74707\teval-mlogloss:0.921294\n",
      "[242]\ttrain-mlogloss:0.746515\teval-mlogloss:0.921221\n",
      "[243]\ttrain-mlogloss:0.745979\teval-mlogloss:0.921177\n",
      "[244]\ttrain-mlogloss:0.745476\teval-mlogloss:0.921117\n",
      "[245]\ttrain-mlogloss:0.744939\teval-mlogloss:0.921083\n",
      "[246]\ttrain-mlogloss:0.744356\teval-mlogloss:0.921033\n",
      "[247]\ttrain-mlogloss:0.74381\teval-mlogloss:0.920976\n",
      "[248]\ttrain-mlogloss:0.743211\teval-mlogloss:0.920904\n",
      "[249]\ttrain-mlogloss:0.742631\teval-mlogloss:0.920869\n",
      "[250]\ttrain-mlogloss:0.742043\teval-mlogloss:0.920823\n",
      "[251]\ttrain-mlogloss:0.741451\teval-mlogloss:0.920814\n",
      "[252]\ttrain-mlogloss:0.740927\teval-mlogloss:0.920777\n",
      "[253]\ttrain-mlogloss:0.740303\teval-mlogloss:0.920734\n",
      "[254]\ttrain-mlogloss:0.739769\teval-mlogloss:0.920697\n",
      "[255]\ttrain-mlogloss:0.739226\teval-mlogloss:0.920716\n",
      "[256]\ttrain-mlogloss:0.738729\teval-mlogloss:0.920691\n",
      "[257]\ttrain-mlogloss:0.73823\teval-mlogloss:0.920656\n",
      "[258]\ttrain-mlogloss:0.737663\teval-mlogloss:0.92066\n",
      "[259]\ttrain-mlogloss:0.73717\teval-mlogloss:0.920653\n",
      "[260]\ttrain-mlogloss:0.73657\teval-mlogloss:0.920651\n",
      "[261]\ttrain-mlogloss:0.73609\teval-mlogloss:0.92065\n",
      "[262]\ttrain-mlogloss:0.735542\teval-mlogloss:0.920667\n",
      "[263]\ttrain-mlogloss:0.735044\teval-mlogloss:0.920627\n",
      "[264]\ttrain-mlogloss:0.734574\teval-mlogloss:0.920646\n",
      "[265]\ttrain-mlogloss:0.733968\teval-mlogloss:0.920638\n",
      "[266]\ttrain-mlogloss:0.733499\teval-mlogloss:0.920652\n",
      "[267]\ttrain-mlogloss:0.733034\teval-mlogloss:0.920656\n",
      "[268]\ttrain-mlogloss:0.732561\teval-mlogloss:0.920649\n",
      "[269]\ttrain-mlogloss:0.732082\teval-mlogloss:0.920626\n",
      "[270]\ttrain-mlogloss:0.731507\teval-mlogloss:0.920658\n",
      "[271]\ttrain-mlogloss:0.731048\teval-mlogloss:0.920673\n",
      "[272]\ttrain-mlogloss:0.730601\teval-mlogloss:0.920694\n",
      "[273]\ttrain-mlogloss:0.730089\teval-mlogloss:0.92067\n",
      "[274]\ttrain-mlogloss:0.729647\teval-mlogloss:0.920609\n",
      "[275]\ttrain-mlogloss:0.729133\teval-mlogloss:0.920629\n",
      "[276]\ttrain-mlogloss:0.728668\teval-mlogloss:0.920635\n",
      "[277]\ttrain-mlogloss:0.728253\teval-mlogloss:0.920588\n",
      "[278]\ttrain-mlogloss:0.727823\teval-mlogloss:0.920583\n",
      "[279]\ttrain-mlogloss:0.727378\teval-mlogloss:0.920573\n",
      "[280]\ttrain-mlogloss:0.726952\teval-mlogloss:0.920516\n",
      "[281]\ttrain-mlogloss:0.726518\teval-mlogloss:0.920447\n",
      "[282]\ttrain-mlogloss:0.726146\teval-mlogloss:0.92035\n",
      "[283]\ttrain-mlogloss:0.725774\teval-mlogloss:0.920255\n",
      "[284]\ttrain-mlogloss:0.725377\teval-mlogloss:0.920182\n",
      "[285]\ttrain-mlogloss:0.724976\teval-mlogloss:0.920136\n",
      "[286]\ttrain-mlogloss:0.724676\teval-mlogloss:0.920126\n",
      "[287]\ttrain-mlogloss:0.724296\teval-mlogloss:0.920088\n",
      "[288]\ttrain-mlogloss:0.723916\teval-mlogloss:0.920047\n",
      "[289]\ttrain-mlogloss:0.723502\teval-mlogloss:0.919999\n",
      "[290]\ttrain-mlogloss:0.723122\teval-mlogloss:0.919948\n",
      "[291]\ttrain-mlogloss:0.722755\teval-mlogloss:0.91985\n",
      "[292]\ttrain-mlogloss:0.722389\teval-mlogloss:0.919757\n",
      "[293]\ttrain-mlogloss:0.722042\teval-mlogloss:0.919715\n",
      "[294]\ttrain-mlogloss:0.721716\teval-mlogloss:0.919659\n",
      "[295]\ttrain-mlogloss:0.721382\teval-mlogloss:0.919634\n",
      "[296]\ttrain-mlogloss:0.72102\teval-mlogloss:0.919575\n",
      "[297]\ttrain-mlogloss:0.720661\teval-mlogloss:0.919534\n",
      "[298]\ttrain-mlogloss:0.720338\teval-mlogloss:0.919483\n",
      "[299]\ttrain-mlogloss:0.719946\teval-mlogloss:0.919435\n",
      "[300]\ttrain-mlogloss:0.719589\teval-mlogloss:0.9194\n",
      "[301]\ttrain-mlogloss:0.719238\teval-mlogloss:0.919337\n",
      "[302]\ttrain-mlogloss:0.71887\teval-mlogloss:0.919274\n",
      "[303]\ttrain-mlogloss:0.718528\teval-mlogloss:0.919204\n",
      "[304]\ttrain-mlogloss:0.718177\teval-mlogloss:0.919164\n",
      "[305]\ttrain-mlogloss:0.71782\teval-mlogloss:0.919111\n",
      "[306]\ttrain-mlogloss:0.717483\teval-mlogloss:0.919067\n",
      "[307]\ttrain-mlogloss:0.717133\teval-mlogloss:0.919012\n",
      "[308]\ttrain-mlogloss:0.716801\teval-mlogloss:0.918952\n",
      "[309]\ttrain-mlogloss:0.716483\teval-mlogloss:0.918921\n",
      "[310]\ttrain-mlogloss:0.716132\teval-mlogloss:0.918883\n",
      "[311]\ttrain-mlogloss:0.715809\teval-mlogloss:0.918825\n"
     ]
    },
    {
     "name": "stdout",
     "output_type": "stream",
     "text": [
      "[312]\ttrain-mlogloss:0.71548\teval-mlogloss:0.918798\n",
      "[313]\ttrain-mlogloss:0.715192\teval-mlogloss:0.918742\n",
      "[314]\ttrain-mlogloss:0.714887\teval-mlogloss:0.918716\n",
      "[315]\ttrain-mlogloss:0.714561\teval-mlogloss:0.918678\n",
      "[316]\ttrain-mlogloss:0.714278\teval-mlogloss:0.918678\n",
      "[317]\ttrain-mlogloss:0.71393\teval-mlogloss:0.91866\n",
      "[318]\ttrain-mlogloss:0.71365\teval-mlogloss:0.918622\n",
      "[319]\ttrain-mlogloss:0.713337\teval-mlogloss:0.918628\n",
      "[320]\ttrain-mlogloss:0.712986\teval-mlogloss:0.918609\n",
      "[321]\ttrain-mlogloss:0.712663\teval-mlogloss:0.918564\n",
      "[322]\ttrain-mlogloss:0.712343\teval-mlogloss:0.918572\n",
      "[323]\ttrain-mlogloss:0.71202\teval-mlogloss:0.918539\n",
      "[324]\ttrain-mlogloss:0.711751\teval-mlogloss:0.918493\n",
      "[325]\ttrain-mlogloss:0.711432\teval-mlogloss:0.918481\n",
      "[326]\ttrain-mlogloss:0.711118\teval-mlogloss:0.918493\n",
      "[327]\ttrain-mlogloss:0.710759\teval-mlogloss:0.918471\n",
      "[328]\ttrain-mlogloss:0.710472\teval-mlogloss:0.918443\n",
      "[329]\ttrain-mlogloss:0.710117\teval-mlogloss:0.918428\n",
      "[330]\ttrain-mlogloss:0.7098\teval-mlogloss:0.918456\n",
      "[331]\ttrain-mlogloss:0.709434\teval-mlogloss:0.918402\n",
      "[332]\ttrain-mlogloss:0.709126\teval-mlogloss:0.918412\n",
      "[333]\ttrain-mlogloss:0.708724\teval-mlogloss:0.91841\n",
      "[334]\ttrain-mlogloss:0.7084\teval-mlogloss:0.918405\n",
      "[335]\ttrain-mlogloss:0.708096\teval-mlogloss:0.918415\n",
      "[336]\ttrain-mlogloss:0.707771\teval-mlogloss:0.918392\n",
      "[337]\ttrain-mlogloss:0.707376\teval-mlogloss:0.918398\n",
      "[338]\ttrain-mlogloss:0.70707\teval-mlogloss:0.918417\n",
      "[339]\ttrain-mlogloss:0.706778\teval-mlogloss:0.918398\n",
      "[340]\ttrain-mlogloss:0.706433\teval-mlogloss:0.918395\n",
      "[341]\ttrain-mlogloss:0.706053\teval-mlogloss:0.918398\n",
      "[342]\ttrain-mlogloss:0.70576\teval-mlogloss:0.91842\n",
      "[343]\ttrain-mlogloss:0.705441\teval-mlogloss:0.918424\n",
      "[344]\ttrain-mlogloss:0.705127\teval-mlogloss:0.91843\n",
      "[345]\ttrain-mlogloss:0.704775\teval-mlogloss:0.918481\n",
      "[346]\ttrain-mlogloss:0.704483\teval-mlogloss:0.918472\n",
      "Stopping. Best iteration:\n",
      "[336]\ttrain-mlogloss:0.707771\teval-mlogloss:0.918392\n",
      "\n"
     ]
    },
    {
     "data": {
      "text/markdown": [
       "##### XGBoost classification report : "
      ],
      "text/plain": [
       "<IPython.core.display.Markdown object>"
      ]
     },
     "metadata": {},
     "output_type": "display_data"
    },
    {
     "name": "stdout",
     "output_type": "stream",
     "text": [
      "             precision    recall  f1-score   support\n",
      "\n",
      "         EI       0.47      0.23      0.31       320\n",
      "         IE       0.57      0.42      0.48       327\n",
      "          N       0.56      0.78      0.65       629\n",
      "\n",
      "avg / total       0.54      0.55      0.52      1276\n",
      "\n"
     ]
    },
    {
     "data": {
      "text/markdown": [
       "##### XGBoost <span style='color: red'>randomly selected 1000 data</span> classification report : "
      ],
      "text/plain": [
       "<IPython.core.display.Markdown object>"
      ]
     },
     "metadata": {},
     "output_type": "display_data"
    },
    {
     "name": "stdout",
     "output_type": "stream",
     "text": [
      "             precision    recall  f1-score   support\n",
      "\n",
      "         EI       0.73      0.34      0.46       250\n",
      "         IE       0.65      0.50      0.57       242\n",
      "          N       0.63      0.86      0.73       508\n",
      "\n",
      "avg / total       0.66      0.65      0.62      1000\n",
      "\n"
     ]
    },
    {
     "data": {
      "text/markdown": [
       "##### Ten-fold cross-validation accuracy score : "
      ],
      "text/plain": [
       "<IPython.core.display.Markdown object>"
      ]
     },
     "metadata": {},
     "output_type": "display_data"
    },
    {
     "data": {
      "text/markdown": [
       "##### : 65.55"
      ],
      "text/plain": [
       "<IPython.core.display.Markdown object>"
      ]
     },
     "metadata": {},
     "output_type": "display_data"
    },
    {
     "name": "stdout",
     "output_type": "stream",
     "text": [
      "CPU times: user 8.44 s, sys: 418 ms, total: 8.86 s\n",
      "Wall time: 1min 14s\n"
     ]
    }
   ],
   "source": [
    "%%time\n",
    "tf_model_train.run_all()"
   ]
  },
  {
   "cell_type": "markdown",
   "metadata": {},
   "source": [
    "### 정리해서 보면\n",
    "<img src='./tf.png'>\n",
    "\n",
    "- 역시 마찬가지로 모든 모델에 대해서 하이퍼패러미터를 다양하게 도전해보지는 못했지만, randomForest나, extraRandomForest 같은 경우는 gridSearchCV를 사용하여 50가지씩 도전했지만 크게 나아지는 것을 확인하지는 못했습니다."
   ]
  },
  {
   "cell_type": "markdown",
   "metadata": {},
   "source": [
    "### 결론은 위의 그래프나 성적에 있어서 sequence에 어떤 알파벳이 몇개 들어가 있는지가 의미가 있다는 것은 알 수 있었지만, 배열 순서 역시 중요할 것으로 보여서 아래처럼 새로운 전처리 방법을 시도했습니다."
   ]
  },
  {
   "cell_type": "markdown",
   "metadata": {},
   "source": [
    "1. sequence를 이루는 알파벳 ['G', 'T', 'R', 'S', 'D', 'A', 'C', 'N'] 을 0, 1, 2, 3, 4, 5, 6, 7으로 지정하였습니다.(실제 전처리에서 순서는 바뀌었을 수 있습니다. 그 경우를 대비하여 최초 fit한 vectorizer 정보를 객체 내부에 저장하게끔 설계했습니다.)\n",
    "2. sequence의 길이에 맞추어 feature를 60차원으로 확장하였고, 각 차원마다 존재하는 알파벳을 1번에서 실시한 vectorizer를 이용하여 numeric한 정보로 변경하였습니다."
   ]
  },
  {
   "cell_type": "code",
   "execution_count": 21,
   "metadata": {},
   "outputs": [
    {
     "data": {
      "text/markdown": [
       "##### shape of X train and X_test : "
      ],
      "text/plain": [
       "<IPython.core.display.Markdown object>"
      ]
     },
     "metadata": {},
     "output_type": "display_data"
    },
    {
     "name": "stdout",
     "output_type": "stream",
     "text": [
      "(1914, 60) (1276, 60)\n"
     ]
    },
    {
     "data": {
      "text/markdown": [
       "#### Run logistic"
      ],
      "text/plain": [
       "<IPython.core.display.Markdown object>"
      ]
     },
     "metadata": {},
     "output_type": "display_data"
    },
    {
     "data": {
      "text/markdown": [
       "##### Logistic Regression classification report : "
      ],
      "text/plain": [
       "<IPython.core.display.Markdown object>"
      ]
     },
     "metadata": {},
     "output_type": "display_data"
    },
    {
     "name": "stdout",
     "output_type": "stream",
     "text": [
      "             precision    recall  f1-score   support\n",
      "\n",
      "         EI       0.79      0.84      0.82       320\n",
      "         IE       0.84      0.79      0.81       327\n",
      "          N       0.89      0.89      0.89       629\n",
      "\n",
      "avg / total       0.85      0.85      0.85      1276\n",
      "\n"
     ]
    },
    {
     "data": {
      "text/markdown": [
       "##### Logistic Regression <span style='color: red'>randomly selected 1000 data</span> classification report : "
      ],
      "text/plain": [
       "<IPython.core.display.Markdown object>"
      ]
     },
     "metadata": {},
     "output_type": "display_data"
    },
    {
     "name": "stdout",
     "output_type": "stream",
     "text": [
      "             precision    recall  f1-score   support\n",
      "\n",
      "         EI       0.82      0.85      0.83       245\n",
      "         IE       0.85      0.82      0.83       255\n",
      "          N       0.91      0.91      0.91       500\n",
      "\n",
      "avg / total       0.87      0.87      0.87      1000\n",
      "\n"
     ]
    },
    {
     "data": {
      "text/markdown": [
       "##### Ten-fold cross-validation accuracy score : "
      ],
      "text/plain": [
       "<IPython.core.display.Markdown object>"
      ]
     },
     "metadata": {},
     "output_type": "display_data"
    },
    {
     "data": {
      "text/markdown": [
       "##### : 86.25999999999999"
      ],
      "text/plain": [
       "<IPython.core.display.Markdown object>"
      ]
     },
     "metadata": {},
     "output_type": "display_data"
    },
    {
     "data": {
      "text/markdown": [
       "#### Run multinomialNB"
      ],
      "text/plain": [
       "<IPython.core.display.Markdown object>"
      ]
     },
     "metadata": {},
     "output_type": "display_data"
    },
    {
     "data": {
      "text/markdown": [
       "##### MultinomialNB classification report : "
      ],
      "text/plain": [
       "<IPython.core.display.Markdown object>"
      ]
     },
     "metadata": {},
     "output_type": "display_data"
    },
    {
     "name": "stdout",
     "output_type": "stream",
     "text": [
      "             precision    recall  f1-score   support\n",
      "\n",
      "         EI       0.74      0.76      0.75       320\n",
      "         IE       0.71      0.76      0.74       327\n",
      "          N       0.88      0.83      0.86       629\n",
      "\n",
      "avg / total       0.80      0.80      0.80      1276\n",
      "\n"
     ]
    },
    {
     "data": {
      "text/markdown": [
       "##### MultinomialNB <span style='color: red'>randomly selected 1000 data</span> classification report : "
      ],
      "text/plain": [
       "<IPython.core.display.Markdown object>"
      ]
     },
     "metadata": {},
     "output_type": "display_data"
    },
    {
     "name": "stdout",
     "output_type": "stream",
     "text": [
      "             precision    recall  f1-score   support\n",
      "\n",
      "         EI       0.67      0.68      0.68       205\n",
      "         IE       0.72      0.76      0.74       250\n",
      "          N       0.90      0.87      0.88       545\n",
      "\n",
      "avg / total       0.81      0.80      0.81      1000\n",
      "\n"
     ]
    },
    {
     "data": {
      "text/markdown": [
       "##### Ten-fold cross-validation accuracy score : "
      ],
      "text/plain": [
       "<IPython.core.display.Markdown object>"
      ]
     },
     "metadata": {},
     "output_type": "display_data"
    },
    {
     "data": {
      "text/markdown": [
       "##### : 79.86000000000001"
      ],
      "text/plain": [
       "<IPython.core.display.Markdown object>"
      ]
     },
     "metadata": {},
     "output_type": "display_data"
    },
    {
     "data": {
      "text/markdown": [
       "#### Run random forest"
      ],
      "text/plain": [
       "<IPython.core.display.Markdown object>"
      ]
     },
     "metadata": {},
     "output_type": "display_data"
    },
    {
     "data": {
      "image/png": "[encoded data removed]",
      "text/plain": [
       "<Figure size 432x288 with 1 Axes>"
      ]
     },
     "metadata": {
      "image/png": {
       "height": 263,
       "width": 373
      }
     },
     "output_type": "display_data"
    },
    {
     "data": {
      "text/markdown": [
       "0.9535005224660397"
      ],
      "text/plain": [
       "<IPython.core.display.Markdown object>"
      ]
     },
     "metadata": {},
     "output_type": "display_data"
    },
    {
     "data": {
      "text/markdown": [
       "{'max_depth': 7, 'n_estimators': 180}"
      ],
      "text/plain": [
       "<IPython.core.display.Markdown object>"
      ]
     },
     "metadata": {},
     "output_type": "display_data"
    },
    {
     "data": {
      "text/markdown": [
       "#### Run extra random forest"
      ],
      "text/plain": [
       "<IPython.core.display.Markdown object>"
      ]
     },
     "metadata": {},
     "output_type": "display_data"
    },
    {
     "data": {
      "image/png": "[encoded data removed]",
      "text/plain": [
       "<Figure size 432x288 with 1 Axes>"
      ]
     },
     "metadata": {
      "image/png": {
       "height": 263,
       "width": 380
      }
     },
     "output_type": "display_data"
    },
    {
     "data": {
      "text/markdown": [
       "0.9305120167189133"
      ],
      "text/plain": [
       "<IPython.core.display.Markdown object>"
      ]
     },
     "metadata": {},
     "output_type": "display_data"
    },
    {
     "data": {
      "text/markdown": [
       "{'max_depth': 9, 'n_estimators': 180}"
      ],
      "text/plain": [
       "<IPython.core.display.Markdown object>"
      ]
     },
     "metadata": {},
     "output_type": "display_data"
    },
    {
     "data": {
      "text/markdown": [
       "##### Kernel Support Vector Machine classification report : "
      ],
      "text/plain": [
       "<IPython.core.display.Markdown object>"
      ]
     },
     "metadata": {},
     "output_type": "display_data"
    },
    {
     "name": "stdout",
     "output_type": "stream",
     "text": [
      "             precision    recall  f1-score   support\n",
      "\n",
      "         EI       1.00      0.21      0.35       320\n",
      "         IE       1.00      0.23      0.37       327\n",
      "          N       0.55      1.00      0.71       629\n",
      "\n",
      "avg / total       0.78      0.60      0.53      1276\n",
      "\n"
     ]
    },
    {
     "data": {
      "text/markdown": [
       "##### Kernel Support Vector Machine <span style='color: red'>randomly selected 1000 data</span> classification report : "
      ],
      "text/plain": [
       "<IPython.core.display.Markdown object>"
      ]
     },
     "metadata": {},
     "output_type": "display_data"
    },
    {
     "name": "stdout",
     "output_type": "stream",
     "text": [
      "             precision    recall  f1-score   support\n",
      "\n",
      "         EI       1.00      0.68      0.81       225\n",
      "         IE       1.00      0.63      0.77       246\n",
      "          N       0.76      1.00      0.87       529\n",
      "\n",
      "avg / total       0.88      0.84      0.83      1000\n",
      "\n"
     ]
    },
    {
     "data": {
      "text/markdown": [
       "##### Ten-fold cross-validation accuracy score : "
      ],
      "text/plain": [
       "<IPython.core.display.Markdown object>"
      ]
     },
     "metadata": {},
     "output_type": "display_data"
    },
    {
     "data": {
      "text/markdown": [
       "##### : 83.78999999999999"
      ],
      "text/plain": [
       "<IPython.core.display.Markdown object>"
      ]
     },
     "metadata": {},
     "output_type": "display_data"
    },
    {
     "data": {
      "text/markdown": [
       "#### Run xgboost"
      ],
      "text/plain": [
       "<IPython.core.display.Markdown object>"
      ]
     },
     "metadata": {},
     "output_type": "display_data"
    },
    {
     "name": "stdout",
     "output_type": "stream",
     "text": [
      "[0]\ttrain-mlogloss:1.08617\teval-mlogloss:1.08632\n",
      "Multiple eval metrics have been passed: 'eval-mlogloss' will be used for early stopping.\n",
      "\n",
      "Will train until eval-mlogloss hasn't improved in 10 rounds.\n",
      "[1]\ttrain-mlogloss:1.07395\teval-mlogloss:1.07419\n",
      "[2]\ttrain-mlogloss:1.06194\teval-mlogloss:1.0623\n",
      "[3]\ttrain-mlogloss:1.05014\teval-mlogloss:1.05059\n",
      "[4]\ttrain-mlogloss:1.03853\teval-mlogloss:1.03909\n",
      "[5]\ttrain-mlogloss:1.02712\teval-mlogloss:1.02781\n",
      "[6]\ttrain-mlogloss:1.01589\teval-mlogloss:1.01667\n",
      "[7]\ttrain-mlogloss:1.00485\teval-mlogloss:1.00573\n",
      "[8]\ttrain-mlogloss:0.993991\teval-mlogloss:0.994972\n",
      "[9]\ttrain-mlogloss:0.983301\teval-mlogloss:0.984443\n",
      "[10]\ttrain-mlogloss:0.972779\teval-mlogloss:0.974046\n",
      "[11]\ttrain-mlogloss:0.962463\teval-mlogloss:0.9638\n",
      "[12]\ttrain-mlogloss:0.952298\teval-mlogloss:0.953766\n",
      "[13]\ttrain-mlogloss:0.942305\teval-mlogloss:0.943788\n",
      "[14]\ttrain-mlogloss:0.932425\teval-mlogloss:0.934021\n",
      "[15]\ttrain-mlogloss:0.922726\teval-mlogloss:0.924422\n",
      "[16]\ttrain-mlogloss:0.913189\teval-mlogloss:0.914972\n",
      "[17]\ttrain-mlogloss:0.903788\teval-mlogloss:0.905604\n",
      "[18]\ttrain-mlogloss:0.894528\teval-mlogloss:0.896438\n",
      "[19]\ttrain-mlogloss:0.885403\teval-mlogloss:0.887463\n",
      "[20]\ttrain-mlogloss:0.876405\teval-mlogloss:0.87851\n",
      "[21]\ttrain-mlogloss:0.867553\teval-mlogloss:0.869717\n",
      "[22]\ttrain-mlogloss:0.858802\teval-mlogloss:0.861088\n",
      "[23]\ttrain-mlogloss:0.850195\teval-mlogloss:0.852613\n",
      "[24]\ttrain-mlogloss:0.841734\teval-mlogloss:0.84422\n",
      "[25]\ttrain-mlogloss:0.833376\teval-mlogloss:0.83595\n",
      "[26]\ttrain-mlogloss:0.82515\teval-mlogloss:0.8278\n",
      "[27]\ttrain-mlogloss:0.817037\teval-mlogloss:0.819788\n",
      "[28]\ttrain-mlogloss:0.809032\teval-mlogloss:0.811858\n",
      "[29]\ttrain-mlogloss:0.801153\teval-mlogloss:0.804055\n",
      "[30]\ttrain-mlogloss:0.793373\teval-mlogloss:0.796378\n",
      "[31]\ttrain-mlogloss:0.785715\teval-mlogloss:0.788794\n",
      "[32]\ttrain-mlogloss:0.778118\teval-mlogloss:0.781306\n",
      "[33]\ttrain-mlogloss:0.770657\teval-mlogloss:0.773929\n",
      "[34]\ttrain-mlogloss:0.763274\teval-mlogloss:0.766626\n",
      "[35]\ttrain-mlogloss:0.756011\teval-mlogloss:0.759492\n",
      "[36]\ttrain-mlogloss:0.748801\teval-mlogloss:0.752395\n",
      "[37]\ttrain-mlogloss:0.741702\teval-mlogloss:0.745423\n",
      "[38]\ttrain-mlogloss:0.734742\teval-mlogloss:0.738538\n",
      "[39]\ttrain-mlogloss:0.727829\teval-mlogloss:0.731732\n",
      "[40]\ttrain-mlogloss:0.721043\teval-mlogloss:0.725043\n",
      "[41]\ttrain-mlogloss:0.714325\teval-mlogloss:0.718402\n",
      "[42]\ttrain-mlogloss:0.707646\teval-mlogloss:0.711934\n",
      "[43]\ttrain-mlogloss:0.701084\teval-mlogloss:0.705524\n",
      "[44]\ttrain-mlogloss:0.694643\teval-mlogloss:0.699232\n",
      "[45]\ttrain-mlogloss:0.688289\teval-mlogloss:0.69297\n",
      "[46]\ttrain-mlogloss:0.68197\teval-mlogloss:0.686826\n",
      "[47]\ttrain-mlogloss:0.675775\teval-mlogloss:0.680811\n",
      "[48]\ttrain-mlogloss:0.669628\teval-mlogloss:0.674831\n",
      "[49]\ttrain-mlogloss:0.663516\teval-mlogloss:0.668832\n",
      "[50]\ttrain-mlogloss:0.657484\teval-mlogloss:0.662899\n",
      "[51]\ttrain-mlogloss:0.651496\teval-mlogloss:0.657051\n",
      "[52]\ttrain-mlogloss:0.645617\teval-mlogloss:0.651288\n",
      "[53]\ttrain-mlogloss:0.639814\teval-mlogloss:0.645583\n",
      "[54]\ttrain-mlogloss:0.634084\teval-mlogloss:0.639964\n",
      "[55]\ttrain-mlogloss:0.628395\teval-mlogloss:0.634413\n",
      "[56]\ttrain-mlogloss:0.622804\teval-mlogloss:0.628957\n",
      "[57]\ttrain-mlogloss:0.617283\teval-mlogloss:0.623545\n",
      "[58]\ttrain-mlogloss:0.611801\teval-mlogloss:0.61821\n",
      "[59]\ttrain-mlogloss:0.606408\teval-mlogloss:0.612972\n",
      "[60]\ttrain-mlogloss:0.60109\teval-mlogloss:0.607767\n",
      "[61]\ttrain-mlogloss:0.595808\teval-mlogloss:0.602598\n",
      "[62]\ttrain-mlogloss:0.590613\teval-mlogloss:0.59756\n",
      "[63]\ttrain-mlogloss:0.58549\teval-mlogloss:0.592529\n",
      "[64]\ttrain-mlogloss:0.580429\teval-mlogloss:0.587591\n",
      "[65]\ttrain-mlogloss:0.575402\teval-mlogloss:0.582728\n",
      "[66]\ttrain-mlogloss:0.570463\teval-mlogloss:0.577915\n",
      "[67]\ttrain-mlogloss:0.565585\teval-mlogloss:0.57314\n",
      "[68]\ttrain-mlogloss:0.560676\teval-mlogloss:0.568397\n",
      "[69]\ttrain-mlogloss:0.555921\teval-mlogloss:0.563732\n",
      "[70]\ttrain-mlogloss:0.551228\teval-mlogloss:0.559131\n",
      "[71]\ttrain-mlogloss:0.546498\teval-mlogloss:0.554514\n",
      "[72]\ttrain-mlogloss:0.541857\teval-mlogloss:0.550007\n",
      "[73]\ttrain-mlogloss:0.537331\teval-mlogloss:0.545558\n",
      "[74]\ttrain-mlogloss:0.532831\teval-mlogloss:0.54118\n",
      "[75]\ttrain-mlogloss:0.528352\teval-mlogloss:0.536829\n",
      "[76]\ttrain-mlogloss:0.52392\teval-mlogloss:0.532493\n",
      "[77]\ttrain-mlogloss:0.519578\teval-mlogloss:0.52822\n",
      "[78]\ttrain-mlogloss:0.515312\teval-mlogloss:0.524064\n",
      "[79]\ttrain-mlogloss:0.511009\teval-mlogloss:0.519823\n",
      "[80]\ttrain-mlogloss:0.506779\teval-mlogloss:0.515717\n",
      "[81]\ttrain-mlogloss:0.502636\teval-mlogloss:0.511685\n",
      "[82]\ttrain-mlogloss:0.498566\teval-mlogloss:0.50772\n",
      "[83]\ttrain-mlogloss:0.494479\teval-mlogloss:0.503755\n",
      "[84]\ttrain-mlogloss:0.490407\teval-mlogloss:0.499837\n",
      "[85]\ttrain-mlogloss:0.486467\teval-mlogloss:0.496\n",
      "[86]\ttrain-mlogloss:0.482544\teval-mlogloss:0.492131\n",
      "[87]\ttrain-mlogloss:0.478688\teval-mlogloss:0.488399\n",
      "[88]\ttrain-mlogloss:0.474795\teval-mlogloss:0.484632\n",
      "[89]\ttrain-mlogloss:0.470974\teval-mlogloss:0.480913\n",
      "[90]\ttrain-mlogloss:0.467222\teval-mlogloss:0.477201\n",
      "[91]\ttrain-mlogloss:0.463539\teval-mlogloss:0.473634\n",
      "[92]\ttrain-mlogloss:0.459817\teval-mlogloss:0.470026\n",
      "[93]\ttrain-mlogloss:0.456163\teval-mlogloss:0.466488\n",
      "[94]\ttrain-mlogloss:0.452595\teval-mlogloss:0.463036\n",
      "[95]\ttrain-mlogloss:0.449051\teval-mlogloss:0.459608\n",
      "[96]\ttrain-mlogloss:0.445518\teval-mlogloss:0.456194\n",
      "[97]\ttrain-mlogloss:0.441998\teval-mlogloss:0.452806\n",
      "[98]\ttrain-mlogloss:0.43852\teval-mlogloss:0.449379\n",
      "[99]\ttrain-mlogloss:0.435153\teval-mlogloss:0.446107\n",
      "[100]\ttrain-mlogloss:0.431798\teval-mlogloss:0.442866\n",
      "[101]\ttrain-mlogloss:0.428481\teval-mlogloss:0.439647\n",
      "[102]\ttrain-mlogloss:0.425175\teval-mlogloss:0.436444\n",
      "[103]\ttrain-mlogloss:0.421926\teval-mlogloss:0.433315\n",
      "[104]\ttrain-mlogloss:0.41874\teval-mlogloss:0.430227\n",
      "[105]\ttrain-mlogloss:0.415518\teval-mlogloss:0.427107\n",
      "[106]\ttrain-mlogloss:0.412349\teval-mlogloss:0.424079\n",
      "[107]\ttrain-mlogloss:0.409248\teval-mlogloss:0.421067\n",
      "[108]\ttrain-mlogloss:0.406177\teval-mlogloss:0.418095\n",
      "[109]\ttrain-mlogloss:0.403108\teval-mlogloss:0.415147\n",
      "[110]\ttrain-mlogloss:0.40006\teval-mlogloss:0.412199\n",
      "[111]\ttrain-mlogloss:0.397103\teval-mlogloss:0.409348\n",
      "[112]\ttrain-mlogloss:0.394167\teval-mlogloss:0.406514\n",
      "[113]\ttrain-mlogloss:0.391258\teval-mlogloss:0.403692\n",
      "[114]\ttrain-mlogloss:0.388347\teval-mlogloss:0.400898\n",
      "[115]\ttrain-mlogloss:0.385457\teval-mlogloss:0.398129\n",
      "[116]\ttrain-mlogloss:0.382655\teval-mlogloss:0.395432\n",
      "[117]\ttrain-mlogloss:0.379864\teval-mlogloss:0.392776\n",
      "[118]\ttrain-mlogloss:0.377079\teval-mlogloss:0.390102\n",
      "[119]\ttrain-mlogloss:0.374305\teval-mlogloss:0.387447\n",
      "[120]\ttrain-mlogloss:0.371602\teval-mlogloss:0.384841\n",
      "[121]\ttrain-mlogloss:0.368919\teval-mlogloss:0.382268\n",
      "[122]\ttrain-mlogloss:0.36628\teval-mlogloss:0.379759\n",
      "[123]\ttrain-mlogloss:0.363628\teval-mlogloss:0.377239\n",
      "[124]\ttrain-mlogloss:0.360999\teval-mlogloss:0.374721\n",
      "[125]\ttrain-mlogloss:0.358423\teval-mlogloss:0.372276\n",
      "[126]\ttrain-mlogloss:0.355867\teval-mlogloss:0.369822\n",
      "[127]\ttrain-mlogloss:0.353307\teval-mlogloss:0.367333\n",
      "[128]\ttrain-mlogloss:0.350785\teval-mlogloss:0.364935\n",
      "[129]\ttrain-mlogloss:0.348307\teval-mlogloss:0.362568\n",
      "[130]\ttrain-mlogloss:0.34584\teval-mlogloss:0.360224\n",
      "[131]\ttrain-mlogloss:0.343362\teval-mlogloss:0.357861\n",
      "[132]\ttrain-mlogloss:0.340937\teval-mlogloss:0.355503\n",
      "[133]\ttrain-mlogloss:0.338509\teval-mlogloss:0.353191\n",
      "[134]\ttrain-mlogloss:0.336111\teval-mlogloss:0.350903\n",
      "[135]\ttrain-mlogloss:0.333769\teval-mlogloss:0.348685\n",
      "[136]\ttrain-mlogloss:0.331413\teval-mlogloss:0.34644\n",
      "[137]\ttrain-mlogloss:0.329083\teval-mlogloss:0.344239\n",
      "[138]\ttrain-mlogloss:0.326785\teval-mlogloss:0.34205\n",
      "[139]\ttrain-mlogloss:0.324525\teval-mlogloss:0.339951\n",
      "[140]\ttrain-mlogloss:0.322271\teval-mlogloss:0.33779\n",
      "[141]\ttrain-mlogloss:0.320043\teval-mlogloss:0.335647\n",
      "[142]\ttrain-mlogloss:0.31779\teval-mlogloss:0.333531\n",
      "[143]\ttrain-mlogloss:0.315631\teval-mlogloss:0.331473\n",
      "[144]\ttrain-mlogloss:0.313519\teval-mlogloss:0.329472\n",
      "[145]\ttrain-mlogloss:0.311348\teval-mlogloss:0.327426\n",
      "[146]\ttrain-mlogloss:0.309265\teval-mlogloss:0.325448\n",
      "[147]\ttrain-mlogloss:0.307092\teval-mlogloss:0.323407\n",
      "[148]\ttrain-mlogloss:0.305001\teval-mlogloss:0.321481\n",
      "[149]\ttrain-mlogloss:0.302928\teval-mlogloss:0.319574\n",
      "[150]\ttrain-mlogloss:0.300854\teval-mlogloss:0.317652\n",
      "[151]\ttrain-mlogloss:0.298818\teval-mlogloss:0.315744\n",
      "[152]\ttrain-mlogloss:0.296805\teval-mlogloss:0.313891\n",
      "[153]\ttrain-mlogloss:0.294776\teval-mlogloss:0.312006\n",
      "[154]\ttrain-mlogloss:0.292827\teval-mlogloss:0.310212\n"
     ]
    },
    {
     "name": "stdout",
     "output_type": "stream",
     "text": [
      "[155]\ttrain-mlogloss:0.29088\teval-mlogloss:0.30843\n",
      "[156]\ttrain-mlogloss:0.2889\teval-mlogloss:0.306565\n",
      "[157]\ttrain-mlogloss:0.286991\teval-mlogloss:0.304807\n",
      "[158]\ttrain-mlogloss:0.285068\teval-mlogloss:0.303019\n",
      "[159]\ttrain-mlogloss:0.283147\teval-mlogloss:0.301213\n",
      "[160]\ttrain-mlogloss:0.281306\teval-mlogloss:0.299503\n",
      "[161]\ttrain-mlogloss:0.279479\teval-mlogloss:0.297821\n",
      "[162]\ttrain-mlogloss:0.277663\teval-mlogloss:0.296147\n",
      "[163]\ttrain-mlogloss:0.275845\teval-mlogloss:0.294455\n",
      "[164]\ttrain-mlogloss:0.274044\teval-mlogloss:0.292789\n",
      "[165]\ttrain-mlogloss:0.272277\teval-mlogloss:0.291163\n",
      "[166]\ttrain-mlogloss:0.270496\teval-mlogloss:0.289502\n",
      "[167]\ttrain-mlogloss:0.268726\teval-mlogloss:0.287867\n",
      "[168]\ttrain-mlogloss:0.266994\teval-mlogloss:0.286266\n",
      "[169]\ttrain-mlogloss:0.265278\teval-mlogloss:0.284725\n",
      "[170]\ttrain-mlogloss:0.263551\teval-mlogloss:0.283157\n",
      "[171]\ttrain-mlogloss:0.261863\teval-mlogloss:0.281634\n",
      "[172]\ttrain-mlogloss:0.260183\teval-mlogloss:0.280103\n",
      "[173]\ttrain-mlogloss:0.258518\teval-mlogloss:0.278599\n",
      "[174]\ttrain-mlogloss:0.256879\teval-mlogloss:0.277081\n",
      "[175]\ttrain-mlogloss:0.255264\teval-mlogloss:0.275649\n",
      "[176]\ttrain-mlogloss:0.253623\teval-mlogloss:0.274132\n",
      "[177]\ttrain-mlogloss:0.252051\teval-mlogloss:0.27272\n",
      "[178]\ttrain-mlogloss:0.250475\teval-mlogloss:0.271292\n",
      "[179]\ttrain-mlogloss:0.248896\teval-mlogloss:0.269888\n",
      "[180]\ttrain-mlogloss:0.247337\teval-mlogloss:0.268465\n",
      "[181]\ttrain-mlogloss:0.245812\teval-mlogloss:0.267068\n",
      "[182]\ttrain-mlogloss:0.244298\teval-mlogloss:0.265753\n",
      "[183]\ttrain-mlogloss:0.242779\teval-mlogloss:0.264408\n",
      "[184]\ttrain-mlogloss:0.241279\teval-mlogloss:0.26304\n",
      "[185]\ttrain-mlogloss:0.239791\teval-mlogloss:0.261725\n",
      "[186]\ttrain-mlogloss:0.238282\teval-mlogloss:0.260396\n",
      "[187]\ttrain-mlogloss:0.236839\teval-mlogloss:0.259089\n",
      "[188]\ttrain-mlogloss:0.23538\teval-mlogloss:0.257769\n",
      "[189]\ttrain-mlogloss:0.233949\teval-mlogloss:0.256489\n",
      "[190]\ttrain-mlogloss:0.232522\teval-mlogloss:0.25524\n",
      "[191]\ttrain-mlogloss:0.231119\teval-mlogloss:0.253967\n",
      "[192]\ttrain-mlogloss:0.229739\teval-mlogloss:0.252729\n",
      "[193]\ttrain-mlogloss:0.228348\teval-mlogloss:0.251486\n",
      "[194]\ttrain-mlogloss:0.226944\teval-mlogloss:0.250256\n",
      "[195]\ttrain-mlogloss:0.225583\teval-mlogloss:0.249062\n",
      "[196]\ttrain-mlogloss:0.224219\teval-mlogloss:0.247857\n",
      "[197]\ttrain-mlogloss:0.222848\teval-mlogloss:0.246693\n",
      "[198]\ttrain-mlogloss:0.221478\teval-mlogloss:0.245501\n",
      "[199]\ttrain-mlogloss:0.220149\teval-mlogloss:0.244333\n",
      "[200]\ttrain-mlogloss:0.218823\teval-mlogloss:0.243143\n",
      "[201]\ttrain-mlogloss:0.217495\teval-mlogloss:0.242018\n",
      "[202]\ttrain-mlogloss:0.216171\teval-mlogloss:0.240885\n",
      "[203]\ttrain-mlogloss:0.214897\teval-mlogloss:0.239756\n",
      "[204]\ttrain-mlogloss:0.213596\teval-mlogloss:0.238606\n",
      "[205]\ttrain-mlogloss:0.21232\teval-mlogloss:0.237519\n",
      "[206]\ttrain-mlogloss:0.210997\teval-mlogloss:0.236409\n",
      "[207]\ttrain-mlogloss:0.209751\teval-mlogloss:0.235321\n",
      "[208]\ttrain-mlogloss:0.208475\teval-mlogloss:0.234253\n",
      "[209]\ttrain-mlogloss:0.207201\teval-mlogloss:0.233157\n",
      "[210]\ttrain-mlogloss:0.205993\teval-mlogloss:0.232068\n",
      "[211]\ttrain-mlogloss:0.204773\teval-mlogloss:0.231034\n",
      "[212]\ttrain-mlogloss:0.203538\teval-mlogloss:0.230003\n",
      "[213]\ttrain-mlogloss:0.202392\teval-mlogloss:0.229\n",
      "[214]\ttrain-mlogloss:0.2012\teval-mlogloss:0.227982\n",
      "[215]\ttrain-mlogloss:0.199976\teval-mlogloss:0.226967\n",
      "[216]\ttrain-mlogloss:0.198823\teval-mlogloss:0.225976\n",
      "[217]\ttrain-mlogloss:0.197647\teval-mlogloss:0.225005\n",
      "[218]\ttrain-mlogloss:0.196492\teval-mlogloss:0.223972\n",
      "[219]\ttrain-mlogloss:0.195343\teval-mlogloss:0.222999\n",
      "[220]\ttrain-mlogloss:0.194196\teval-mlogloss:0.222036\n",
      "[221]\ttrain-mlogloss:0.193085\teval-mlogloss:0.221102\n",
      "[222]\ttrain-mlogloss:0.192004\teval-mlogloss:0.220188\n",
      "[223]\ttrain-mlogloss:0.190873\teval-mlogloss:0.219251\n",
      "[224]\ttrain-mlogloss:0.189735\teval-mlogloss:0.218329\n",
      "[225]\ttrain-mlogloss:0.18866\teval-mlogloss:0.217403\n",
      "[226]\ttrain-mlogloss:0.187551\teval-mlogloss:0.216501\n",
      "[227]\ttrain-mlogloss:0.186432\teval-mlogloss:0.215604\n",
      "[228]\ttrain-mlogloss:0.185415\teval-mlogloss:0.214737\n",
      "[229]\ttrain-mlogloss:0.184325\teval-mlogloss:0.213835\n",
      "[230]\ttrain-mlogloss:0.183258\teval-mlogloss:0.212991\n",
      "[231]\ttrain-mlogloss:0.182174\teval-mlogloss:0.212086\n",
      "[232]\ttrain-mlogloss:0.181084\teval-mlogloss:0.211234\n",
      "[233]\ttrain-mlogloss:0.180039\teval-mlogloss:0.210385\n",
      "[234]\ttrain-mlogloss:0.179046\teval-mlogloss:0.209547\n",
      "[235]\ttrain-mlogloss:0.178045\teval-mlogloss:0.208736\n",
      "[236]\ttrain-mlogloss:0.177009\teval-mlogloss:0.20789\n",
      "[237]\ttrain-mlogloss:0.175961\teval-mlogloss:0.207089\n",
      "[238]\ttrain-mlogloss:0.174998\teval-mlogloss:0.206269\n",
      "[239]\ttrain-mlogloss:0.174016\teval-mlogloss:0.205467\n",
      "[240]\ttrain-mlogloss:0.172993\teval-mlogloss:0.204713\n",
      "[241]\ttrain-mlogloss:0.172055\teval-mlogloss:0.20392\n",
      "[242]\ttrain-mlogloss:0.171073\teval-mlogloss:0.203146\n",
      "[243]\ttrain-mlogloss:0.17008\teval-mlogloss:0.202394\n",
      "[244]\ttrain-mlogloss:0.169146\teval-mlogloss:0.201621\n",
      "[245]\ttrain-mlogloss:0.168163\teval-mlogloss:0.200882\n",
      "[246]\ttrain-mlogloss:0.167241\teval-mlogloss:0.200124\n",
      "[247]\ttrain-mlogloss:0.166323\teval-mlogloss:0.19938\n",
      "[248]\ttrain-mlogloss:0.165438\teval-mlogloss:0.198632\n",
      "[249]\ttrain-mlogloss:0.164509\teval-mlogloss:0.197914\n",
      "[250]\ttrain-mlogloss:0.163575\teval-mlogloss:0.197203\n",
      "[251]\ttrain-mlogloss:0.162627\teval-mlogloss:0.196448\n",
      "[252]\ttrain-mlogloss:0.161755\teval-mlogloss:0.195743\n",
      "[253]\ttrain-mlogloss:0.160857\teval-mlogloss:0.195055\n",
      "[254]\ttrain-mlogloss:0.159974\teval-mlogloss:0.194346\n",
      "[255]\ttrain-mlogloss:0.159115\teval-mlogloss:0.193655\n",
      "[256]\ttrain-mlogloss:0.158219\teval-mlogloss:0.192979\n",
      "[257]\ttrain-mlogloss:0.157414\teval-mlogloss:0.192282\n",
      "[258]\ttrain-mlogloss:0.156557\teval-mlogloss:0.191638\n",
      "[259]\ttrain-mlogloss:0.155732\teval-mlogloss:0.190976\n",
      "[260]\ttrain-mlogloss:0.154859\teval-mlogloss:0.190294\n",
      "[261]\ttrain-mlogloss:0.15402\teval-mlogloss:0.189677\n",
      "[262]\ttrain-mlogloss:0.153213\teval-mlogloss:0.189025\n",
      "[263]\ttrain-mlogloss:0.152366\teval-mlogloss:0.188367\n",
      "[264]\ttrain-mlogloss:0.151609\teval-mlogloss:0.187704\n",
      "[265]\ttrain-mlogloss:0.150793\teval-mlogloss:0.187091\n",
      "[266]\ttrain-mlogloss:0.149949\teval-mlogloss:0.186465\n",
      "[267]\ttrain-mlogloss:0.149176\teval-mlogloss:0.185811\n",
      "[268]\ttrain-mlogloss:0.148388\teval-mlogloss:0.185223\n",
      "[269]\ttrain-mlogloss:0.147606\teval-mlogloss:0.184647\n",
      "[270]\ttrain-mlogloss:0.14684\teval-mlogloss:0.184035\n",
      "[271]\ttrain-mlogloss:0.146086\teval-mlogloss:0.183404\n",
      "[272]\ttrain-mlogloss:0.145272\teval-mlogloss:0.18278\n",
      "[273]\ttrain-mlogloss:0.144503\teval-mlogloss:0.18219\n",
      "[274]\ttrain-mlogloss:0.143806\teval-mlogloss:0.1816\n",
      "[275]\ttrain-mlogloss:0.143024\teval-mlogloss:0.180986\n",
      "[276]\ttrain-mlogloss:0.142273\teval-mlogloss:0.180371\n",
      "[277]\ttrain-mlogloss:0.141502\teval-mlogloss:0.179818\n",
      "[278]\ttrain-mlogloss:0.140782\teval-mlogloss:0.179248\n",
      "[279]\ttrain-mlogloss:0.140002\teval-mlogloss:0.178672\n",
      "[280]\ttrain-mlogloss:0.139327\teval-mlogloss:0.17809\n",
      "[281]\ttrain-mlogloss:0.138606\teval-mlogloss:0.177574\n",
      "[282]\ttrain-mlogloss:0.137842\teval-mlogloss:0.177011\n",
      "[283]\ttrain-mlogloss:0.137099\teval-mlogloss:0.176386\n",
      "[284]\ttrain-mlogloss:0.136394\teval-mlogloss:0.175814\n",
      "[285]\ttrain-mlogloss:0.135668\teval-mlogloss:0.175263\n",
      "[286]\ttrain-mlogloss:0.135018\teval-mlogloss:0.174728\n",
      "[287]\ttrain-mlogloss:0.134283\teval-mlogloss:0.174174\n",
      "[288]\ttrain-mlogloss:0.133618\teval-mlogloss:0.173652\n",
      "[289]\ttrain-mlogloss:0.132867\teval-mlogloss:0.173037\n",
      "[290]\ttrain-mlogloss:0.132213\teval-mlogloss:0.172516\n",
      "[291]\ttrain-mlogloss:0.131494\teval-mlogloss:0.171974\n",
      "[292]\ttrain-mlogloss:0.130894\teval-mlogloss:0.171475\n",
      "[293]\ttrain-mlogloss:0.130188\teval-mlogloss:0.170958\n",
      "[294]\ttrain-mlogloss:0.129527\teval-mlogloss:0.170419\n",
      "[295]\ttrain-mlogloss:0.128879\teval-mlogloss:0.169942\n",
      "[296]\ttrain-mlogloss:0.128191\teval-mlogloss:0.169411\n",
      "[297]\ttrain-mlogloss:0.127592\teval-mlogloss:0.168908\n",
      "[298]\ttrain-mlogloss:0.126887\teval-mlogloss:0.168386\n",
      "[299]\ttrain-mlogloss:0.126271\teval-mlogloss:0.167908\n",
      "[300]\ttrain-mlogloss:0.125625\teval-mlogloss:0.167467\n",
      "[301]\ttrain-mlogloss:0.125045\teval-mlogloss:0.166994\n",
      "[302]\ttrain-mlogloss:0.1244\teval-mlogloss:0.166536\n",
      "[303]\ttrain-mlogloss:0.123784\teval-mlogloss:0.166042\n",
      "[304]\ttrain-mlogloss:0.123205\teval-mlogloss:0.16555\n",
      "[305]\ttrain-mlogloss:0.12257\teval-mlogloss:0.165076\n",
      "[306]\ttrain-mlogloss:0.121961\teval-mlogloss:0.16458\n",
      "[307]\ttrain-mlogloss:0.121371\teval-mlogloss:0.164089\n",
      "[308]\ttrain-mlogloss:0.120744\teval-mlogloss:0.163647\n",
      "[309]\ttrain-mlogloss:0.120164\teval-mlogloss:0.163184\n",
      "[310]\ttrain-mlogloss:0.119562\teval-mlogloss:0.162681\n"
     ]
    },
    {
     "name": "stdout",
     "output_type": "stream",
     "text": [
      "[311]\ttrain-mlogloss:0.118963\teval-mlogloss:0.162252\n",
      "[312]\ttrain-mlogloss:0.118351\teval-mlogloss:0.161786\n",
      "[313]\ttrain-mlogloss:0.117769\teval-mlogloss:0.161389\n",
      "[314]\ttrain-mlogloss:0.117218\teval-mlogloss:0.160949\n",
      "[315]\ttrain-mlogloss:0.116636\teval-mlogloss:0.160517\n",
      "[316]\ttrain-mlogloss:0.116066\teval-mlogloss:0.160102\n",
      "[317]\ttrain-mlogloss:0.115519\teval-mlogloss:0.159658\n",
      "[318]\ttrain-mlogloss:0.114953\teval-mlogloss:0.159218\n",
      "[319]\ttrain-mlogloss:0.114391\teval-mlogloss:0.158821\n",
      "[320]\ttrain-mlogloss:0.113816\teval-mlogloss:0.158401\n",
      "[321]\ttrain-mlogloss:0.113269\teval-mlogloss:0.158021\n",
      "[322]\ttrain-mlogloss:0.112743\teval-mlogloss:0.15763\n",
      "[323]\ttrain-mlogloss:0.112195\teval-mlogloss:0.157204\n",
      "[324]\ttrain-mlogloss:0.111669\teval-mlogloss:0.156821\n",
      "[325]\ttrain-mlogloss:0.111129\teval-mlogloss:0.156408\n",
      "[326]\ttrain-mlogloss:0.11063\teval-mlogloss:0.156031\n",
      "[327]\ttrain-mlogloss:0.110087\teval-mlogloss:0.155614\n",
      "[328]\ttrain-mlogloss:0.109567\teval-mlogloss:0.155206\n",
      "[329]\ttrain-mlogloss:0.109063\teval-mlogloss:0.154818\n",
      "[330]\ttrain-mlogloss:0.108565\teval-mlogloss:0.15447\n",
      "[331]\ttrain-mlogloss:0.108037\teval-mlogloss:0.154059\n",
      "[332]\ttrain-mlogloss:0.107567\teval-mlogloss:0.153706\n",
      "[333]\ttrain-mlogloss:0.107061\teval-mlogloss:0.153345\n",
      "[334]\ttrain-mlogloss:0.10656\teval-mlogloss:0.153011\n",
      "[335]\ttrain-mlogloss:0.106064\teval-mlogloss:0.152662\n",
      "[336]\ttrain-mlogloss:0.105587\teval-mlogloss:0.15228\n",
      "[337]\ttrain-mlogloss:0.105106\teval-mlogloss:0.151946\n",
      "[338]\ttrain-mlogloss:0.104651\teval-mlogloss:0.151609\n",
      "[339]\ttrain-mlogloss:0.10417\teval-mlogloss:0.151278\n",
      "[340]\ttrain-mlogloss:0.103666\teval-mlogloss:0.150896\n",
      "[341]\ttrain-mlogloss:0.103201\teval-mlogloss:0.150581\n",
      "[342]\ttrain-mlogloss:0.102749\teval-mlogloss:0.150275\n",
      "[343]\ttrain-mlogloss:0.102281\teval-mlogloss:0.149927\n",
      "[344]\ttrain-mlogloss:0.10183\teval-mlogloss:0.149594\n",
      "[345]\ttrain-mlogloss:0.101372\teval-mlogloss:0.149267\n",
      "[346]\ttrain-mlogloss:0.100898\teval-mlogloss:0.148916\n",
      "[347]\ttrain-mlogloss:0.100434\teval-mlogloss:0.148568\n",
      "[348]\ttrain-mlogloss:0.099959\teval-mlogloss:0.148206\n",
      "[349]\ttrain-mlogloss:0.099528\teval-mlogloss:0.14792\n",
      "[350]\ttrain-mlogloss:0.099087\teval-mlogloss:0.147634\n",
      "[351]\ttrain-mlogloss:0.098633\teval-mlogloss:0.147301\n",
      "[352]\ttrain-mlogloss:0.098205\teval-mlogloss:0.146989\n",
      "[353]\ttrain-mlogloss:0.09777\teval-mlogloss:0.146674\n",
      "[354]\ttrain-mlogloss:0.097317\teval-mlogloss:0.146335\n",
      "[355]\ttrain-mlogloss:0.09688\teval-mlogloss:0.146025\n",
      "[356]\ttrain-mlogloss:0.096465\teval-mlogloss:0.145714\n",
      "[357]\ttrain-mlogloss:0.096044\teval-mlogloss:0.145434\n",
      "[358]\ttrain-mlogloss:0.09561\teval-mlogloss:0.145148\n",
      "[359]\ttrain-mlogloss:0.095183\teval-mlogloss:0.144844\n",
      "[360]\ttrain-mlogloss:0.094779\teval-mlogloss:0.144534\n",
      "[361]\ttrain-mlogloss:0.094356\teval-mlogloss:0.144269\n",
      "[362]\ttrain-mlogloss:0.093936\teval-mlogloss:0.143952\n",
      "[363]\ttrain-mlogloss:0.093543\teval-mlogloss:0.14369\n",
      "[364]\ttrain-mlogloss:0.093141\teval-mlogloss:0.143422\n",
      "[365]\ttrain-mlogloss:0.09274\teval-mlogloss:0.143151\n",
      "[366]\ttrain-mlogloss:0.092326\teval-mlogloss:0.142855\n",
      "[367]\ttrain-mlogloss:0.09191\teval-mlogloss:0.142588\n",
      "[368]\ttrain-mlogloss:0.091508\teval-mlogloss:0.142301\n",
      "[369]\ttrain-mlogloss:0.091098\teval-mlogloss:0.142015\n",
      "[370]\ttrain-mlogloss:0.090692\teval-mlogloss:0.141749\n",
      "[371]\ttrain-mlogloss:0.090299\teval-mlogloss:0.141456\n",
      "[372]\ttrain-mlogloss:0.089942\teval-mlogloss:0.141205\n",
      "[373]\ttrain-mlogloss:0.089574\teval-mlogloss:0.140925\n",
      "[374]\ttrain-mlogloss:0.089201\teval-mlogloss:0.14071\n",
      "[375]\ttrain-mlogloss:0.088786\teval-mlogloss:0.140427\n",
      "[376]\ttrain-mlogloss:0.088409\teval-mlogloss:0.14016\n",
      "[377]\ttrain-mlogloss:0.087995\teval-mlogloss:0.139878\n",
      "[378]\ttrain-mlogloss:0.08763\teval-mlogloss:0.139652\n",
      "[379]\ttrain-mlogloss:0.087262\teval-mlogloss:0.139376\n",
      "[380]\ttrain-mlogloss:0.086912\teval-mlogloss:0.139095\n",
      "[381]\ttrain-mlogloss:0.086526\teval-mlogloss:0.138866\n",
      "[382]\ttrain-mlogloss:0.086135\teval-mlogloss:0.138598\n",
      "[383]\ttrain-mlogloss:0.085782\teval-mlogloss:0.138381\n",
      "[384]\ttrain-mlogloss:0.085411\teval-mlogloss:0.138132\n",
      "[385]\ttrain-mlogloss:0.085079\teval-mlogloss:0.137849\n",
      "[386]\ttrain-mlogloss:0.084703\teval-mlogloss:0.137617\n",
      "[387]\ttrain-mlogloss:0.084343\teval-mlogloss:0.137384\n",
      "[388]\ttrain-mlogloss:0.083999\teval-mlogloss:0.137122\n",
      "[389]\ttrain-mlogloss:0.083631\teval-mlogloss:0.136892\n",
      "[390]\ttrain-mlogloss:0.083277\teval-mlogloss:0.136661\n",
      "[391]\ttrain-mlogloss:0.082907\teval-mlogloss:0.136412\n",
      "[392]\ttrain-mlogloss:0.082546\teval-mlogloss:0.136171\n",
      "[393]\ttrain-mlogloss:0.082238\teval-mlogloss:0.135955\n",
      "[394]\ttrain-mlogloss:0.081893\teval-mlogloss:0.13569\n",
      "[395]\ttrain-mlogloss:0.081565\teval-mlogloss:0.13545\n",
      "[396]\ttrain-mlogloss:0.081211\teval-mlogloss:0.135236\n",
      "[397]\ttrain-mlogloss:0.080872\teval-mlogloss:0.135027\n",
      "[398]\ttrain-mlogloss:0.080521\teval-mlogloss:0.13478\n",
      "[399]\ttrain-mlogloss:0.080186\teval-mlogloss:0.134535\n",
      "[400]\ttrain-mlogloss:0.07987\teval-mlogloss:0.13433\n",
      "[401]\ttrain-mlogloss:0.079539\teval-mlogloss:0.134109\n",
      "[402]\ttrain-mlogloss:0.079201\teval-mlogloss:0.133895\n",
      "[403]\ttrain-mlogloss:0.078876\teval-mlogloss:0.133657\n",
      "[404]\ttrain-mlogloss:0.078541\teval-mlogloss:0.133462\n",
      "[405]\ttrain-mlogloss:0.078218\teval-mlogloss:0.13326\n",
      "[406]\ttrain-mlogloss:0.077907\teval-mlogloss:0.133067\n",
      "[407]\ttrain-mlogloss:0.077586\teval-mlogloss:0.13284\n",
      "[408]\ttrain-mlogloss:0.077283\teval-mlogloss:0.132631\n",
      "[409]\ttrain-mlogloss:0.076947\teval-mlogloss:0.132404\n",
      "[410]\ttrain-mlogloss:0.076666\teval-mlogloss:0.132237\n",
      "[411]\ttrain-mlogloss:0.076332\teval-mlogloss:0.132014\n",
      "[412]\ttrain-mlogloss:0.076026\teval-mlogloss:0.131829\n",
      "[413]\ttrain-mlogloss:0.075705\teval-mlogloss:0.131628\n",
      "[414]\ttrain-mlogloss:0.075421\teval-mlogloss:0.131413\n",
      "[415]\ttrain-mlogloss:0.075104\teval-mlogloss:0.131207\n",
      "[416]\ttrain-mlogloss:0.074807\teval-mlogloss:0.131039\n",
      "[417]\ttrain-mlogloss:0.074476\teval-mlogloss:0.130811\n",
      "[418]\ttrain-mlogloss:0.074165\teval-mlogloss:0.130638\n",
      "[419]\ttrain-mlogloss:0.073857\teval-mlogloss:0.130426\n",
      "[420]\ttrain-mlogloss:0.07355\teval-mlogloss:0.130235\n",
      "[421]\ttrain-mlogloss:0.073285\teval-mlogloss:0.130068\n",
      "[422]\ttrain-mlogloss:0.072972\teval-mlogloss:0.129853\n",
      "[423]\ttrain-mlogloss:0.072681\teval-mlogloss:0.129667\n",
      "[424]\ttrain-mlogloss:0.07238\teval-mlogloss:0.129484\n",
      "[425]\ttrain-mlogloss:0.07211\teval-mlogloss:0.12928\n",
      "[426]\ttrain-mlogloss:0.071818\teval-mlogloss:0.129122\n",
      "[427]\ttrain-mlogloss:0.071529\teval-mlogloss:0.128938\n",
      "[428]\ttrain-mlogloss:0.071261\teval-mlogloss:0.128776\n",
      "[429]\ttrain-mlogloss:0.070964\teval-mlogloss:0.12858\n",
      "[430]\ttrain-mlogloss:0.070705\teval-mlogloss:0.128395\n",
      "[431]\ttrain-mlogloss:0.070432\teval-mlogloss:0.128239\n",
      "[432]\ttrain-mlogloss:0.070136\teval-mlogloss:0.128049\n",
      "[433]\ttrain-mlogloss:0.069864\teval-mlogloss:0.127889\n",
      "[434]\ttrain-mlogloss:0.069569\teval-mlogloss:0.12771\n",
      "[435]\ttrain-mlogloss:0.069309\teval-mlogloss:0.127558\n",
      "[436]\ttrain-mlogloss:0.069054\teval-mlogloss:0.127382\n",
      "[437]\ttrain-mlogloss:0.06877\teval-mlogloss:0.127187\n",
      "[438]\ttrain-mlogloss:0.068507\teval-mlogloss:0.127029\n",
      "[439]\ttrain-mlogloss:0.068236\teval-mlogloss:0.126866\n",
      "[440]\ttrain-mlogloss:0.067981\teval-mlogloss:0.126676\n",
      "[441]\ttrain-mlogloss:0.067704\teval-mlogloss:0.126507\n",
      "[442]\ttrain-mlogloss:0.067442\teval-mlogloss:0.126333\n",
      "[443]\ttrain-mlogloss:0.067192\teval-mlogloss:0.126186\n",
      "[444]\ttrain-mlogloss:0.066912\teval-mlogloss:0.126017\n",
      "[445]\ttrain-mlogloss:0.066641\teval-mlogloss:0.125868\n",
      "[446]\ttrain-mlogloss:0.066391\teval-mlogloss:0.125725\n",
      "[447]\ttrain-mlogloss:0.06614\teval-mlogloss:0.125549\n",
      "[448]\ttrain-mlogloss:0.065837\teval-mlogloss:0.125413\n",
      "[449]\ttrain-mlogloss:0.065584\teval-mlogloss:0.125254\n",
      "[450]\ttrain-mlogloss:0.065323\teval-mlogloss:0.12511\n",
      "[451]\ttrain-mlogloss:0.065087\teval-mlogloss:0.12496\n",
      "[452]\ttrain-mlogloss:0.064782\teval-mlogloss:0.124791\n",
      "[453]\ttrain-mlogloss:0.064513\teval-mlogloss:0.124664\n",
      "[454]\ttrain-mlogloss:0.064275\teval-mlogloss:0.124506\n",
      "[455]\ttrain-mlogloss:0.064013\teval-mlogloss:0.124352\n",
      "[456]\ttrain-mlogloss:0.063752\teval-mlogloss:0.124215\n",
      "[457]\ttrain-mlogloss:0.06349\teval-mlogloss:0.124084\n",
      "[458]\ttrain-mlogloss:0.063226\teval-mlogloss:0.123947\n",
      "[459]\ttrain-mlogloss:0.062986\teval-mlogloss:0.123792\n",
      "[460]\ttrain-mlogloss:0.062739\teval-mlogloss:0.123659\n",
      "[461]\ttrain-mlogloss:0.062453\teval-mlogloss:0.123504\n",
      "[462]\ttrain-mlogloss:0.062219\teval-mlogloss:0.123362\n",
      "[463]\ttrain-mlogloss:0.061954\teval-mlogloss:0.123232\n",
      "[464]\ttrain-mlogloss:0.061674\teval-mlogloss:0.12309\n",
      "[465]\ttrain-mlogloss:0.06147\teval-mlogloss:0.12297\n",
      "[466]\ttrain-mlogloss:0.061235\teval-mlogloss:0.122826\n"
     ]
    },
    {
     "name": "stdout",
     "output_type": "stream",
     "text": [
      "[467]\ttrain-mlogloss:0.060946\teval-mlogloss:0.122689\n",
      "[468]\ttrain-mlogloss:0.060726\teval-mlogloss:0.122543\n",
      "[469]\ttrain-mlogloss:0.060464\teval-mlogloss:0.122427\n",
      "[470]\ttrain-mlogloss:0.060198\teval-mlogloss:0.122289\n",
      "[471]\ttrain-mlogloss:0.06\teval-mlogloss:0.122163\n",
      "[472]\ttrain-mlogloss:0.059753\teval-mlogloss:0.122008\n",
      "[473]\ttrain-mlogloss:0.059527\teval-mlogloss:0.121896\n",
      "[474]\ttrain-mlogloss:0.059312\teval-mlogloss:0.121776\n",
      "[475]\ttrain-mlogloss:0.059088\teval-mlogloss:0.121645\n",
      "[476]\ttrain-mlogloss:0.058818\teval-mlogloss:0.121491\n",
      "[477]\ttrain-mlogloss:0.058589\teval-mlogloss:0.121377\n",
      "[478]\ttrain-mlogloss:0.058385\teval-mlogloss:0.121262\n",
      "[479]\ttrain-mlogloss:0.058144\teval-mlogloss:0.121134\n",
      "[480]\ttrain-mlogloss:0.057876\teval-mlogloss:0.121008\n",
      "[481]\ttrain-mlogloss:0.057661\teval-mlogloss:0.120898\n",
      "[482]\ttrain-mlogloss:0.057414\teval-mlogloss:0.120797\n",
      "[483]\ttrain-mlogloss:0.057214\teval-mlogloss:0.120655\n",
      "[484]\ttrain-mlogloss:0.056993\teval-mlogloss:0.120541\n",
      "[485]\ttrain-mlogloss:0.056738\teval-mlogloss:0.12042\n",
      "[486]\ttrain-mlogloss:0.056535\teval-mlogloss:0.120274\n",
      "[487]\ttrain-mlogloss:0.056285\teval-mlogloss:0.120156\n",
      "[488]\ttrain-mlogloss:0.05609\teval-mlogloss:0.120042\n",
      "[489]\ttrain-mlogloss:0.055876\teval-mlogloss:0.119932\n",
      "[490]\ttrain-mlogloss:0.055652\teval-mlogloss:0.119819\n",
      "[491]\ttrain-mlogloss:0.055391\teval-mlogloss:0.11971\n",
      "[492]\ttrain-mlogloss:0.055214\teval-mlogloss:0.119594\n",
      "[493]\ttrain-mlogloss:0.054965\teval-mlogloss:0.119484\n",
      "[494]\ttrain-mlogloss:0.054735\teval-mlogloss:0.119356\n",
      "[495]\ttrain-mlogloss:0.054566\teval-mlogloss:0.11925\n",
      "[496]\ttrain-mlogloss:0.054338\teval-mlogloss:0.119148\n",
      "[497]\ttrain-mlogloss:0.054123\teval-mlogloss:0.119038\n",
      "[498]\ttrain-mlogloss:0.05392\teval-mlogloss:0.118938\n",
      "[499]\ttrain-mlogloss:0.053726\teval-mlogloss:0.118834\n",
      "[500]\ttrain-mlogloss:0.053508\teval-mlogloss:0.118729\n",
      "[501]\ttrain-mlogloss:0.053268\teval-mlogloss:0.118628\n",
      "[502]\ttrain-mlogloss:0.053094\teval-mlogloss:0.118529\n",
      "[503]\ttrain-mlogloss:0.052909\teval-mlogloss:0.118438\n",
      "[504]\ttrain-mlogloss:0.052679\teval-mlogloss:0.118344\n",
      "[505]\ttrain-mlogloss:0.052499\teval-mlogloss:0.118239\n",
      "[506]\ttrain-mlogloss:0.0523\teval-mlogloss:0.118139\n",
      "[507]\ttrain-mlogloss:0.052077\teval-mlogloss:0.118012\n",
      "[508]\ttrain-mlogloss:0.051887\teval-mlogloss:0.117904\n",
      "[509]\ttrain-mlogloss:0.051707\teval-mlogloss:0.117817\n",
      "[510]\ttrain-mlogloss:0.051501\teval-mlogloss:0.11773\n",
      "[511]\ttrain-mlogloss:0.051268\teval-mlogloss:0.117616\n",
      "[512]\ttrain-mlogloss:0.051112\teval-mlogloss:0.11754\n",
      "[513]\ttrain-mlogloss:0.050934\teval-mlogloss:0.117457\n",
      "[514]\ttrain-mlogloss:0.050704\teval-mlogloss:0.117337\n",
      "[515]\ttrain-mlogloss:0.050552\teval-mlogloss:0.11726\n",
      "[516]\ttrain-mlogloss:0.050335\teval-mlogloss:0.117164\n",
      "[517]\ttrain-mlogloss:0.050157\teval-mlogloss:0.117065\n",
      "[518]\ttrain-mlogloss:0.049958\teval-mlogloss:0.116969\n",
      "[519]\ttrain-mlogloss:0.049803\teval-mlogloss:0.116886\n",
      "[520]\ttrain-mlogloss:0.049585\teval-mlogloss:0.116779\n",
      "[521]\ttrain-mlogloss:0.049386\teval-mlogloss:0.116696\n",
      "[522]\ttrain-mlogloss:0.04922\teval-mlogloss:0.116619\n",
      "[523]\ttrain-mlogloss:0.049036\teval-mlogloss:0.116519\n",
      "[524]\ttrain-mlogloss:0.04883\teval-mlogloss:0.116408\n",
      "[525]\ttrain-mlogloss:0.048667\teval-mlogloss:0.116322\n",
      "[526]\ttrain-mlogloss:0.048488\teval-mlogloss:0.116253\n",
      "[527]\ttrain-mlogloss:0.048313\teval-mlogloss:0.116169\n",
      "[528]\ttrain-mlogloss:0.048161\teval-mlogloss:0.116089\n",
      "[529]\ttrain-mlogloss:0.047965\teval-mlogloss:0.116\n",
      "[530]\ttrain-mlogloss:0.047787\teval-mlogloss:0.115929\n",
      "[531]\ttrain-mlogloss:0.047594\teval-mlogloss:0.115825\n",
      "[532]\ttrain-mlogloss:0.047433\teval-mlogloss:0.115733\n",
      "[533]\ttrain-mlogloss:0.04726\teval-mlogloss:0.115674\n",
      "[534]\ttrain-mlogloss:0.047083\teval-mlogloss:0.115603\n",
      "[535]\ttrain-mlogloss:0.046914\teval-mlogloss:0.115528\n",
      "[536]\ttrain-mlogloss:0.046763\teval-mlogloss:0.11546\n",
      "[537]\ttrain-mlogloss:0.046565\teval-mlogloss:0.115359\n",
      "[538]\ttrain-mlogloss:0.046415\teval-mlogloss:0.115284\n",
      "[539]\ttrain-mlogloss:0.046223\teval-mlogloss:0.115204\n",
      "[540]\ttrain-mlogloss:0.046085\teval-mlogloss:0.115124\n",
      "[541]\ttrain-mlogloss:0.045907\teval-mlogloss:0.115057\n",
      "[542]\ttrain-mlogloss:0.045723\teval-mlogloss:0.114962\n",
      "[543]\ttrain-mlogloss:0.04559\teval-mlogloss:0.114893\n",
      "[544]\ttrain-mlogloss:0.045422\teval-mlogloss:0.114819\n",
      "[545]\ttrain-mlogloss:0.045272\teval-mlogloss:0.114755\n",
      "[546]\ttrain-mlogloss:0.04511\teval-mlogloss:0.114695\n",
      "[547]\ttrain-mlogloss:0.044953\teval-mlogloss:0.114614\n",
      "[548]\ttrain-mlogloss:0.044772\teval-mlogloss:0.114514\n",
      "[549]\ttrain-mlogloss:0.044644\teval-mlogloss:0.114459\n",
      "[550]\ttrain-mlogloss:0.044465\teval-mlogloss:0.114368\n",
      "[551]\ttrain-mlogloss:0.044324\teval-mlogloss:0.114295\n",
      "[552]\ttrain-mlogloss:0.044144\teval-mlogloss:0.114216\n",
      "[553]\ttrain-mlogloss:0.043993\teval-mlogloss:0.114145\n",
      "[554]\ttrain-mlogloss:0.043838\teval-mlogloss:0.114067\n",
      "[555]\ttrain-mlogloss:0.043695\teval-mlogloss:0.113996\n",
      "[556]\ttrain-mlogloss:0.043513\teval-mlogloss:0.11392\n",
      "[557]\ttrain-mlogloss:0.04337\teval-mlogloss:0.113869\n",
      "[558]\ttrain-mlogloss:0.043222\teval-mlogloss:0.113809\n",
      "[559]\ttrain-mlogloss:0.043063\teval-mlogloss:0.113733\n",
      "[560]\ttrain-mlogloss:0.042914\teval-mlogloss:0.113673\n",
      "[561]\ttrain-mlogloss:0.042756\teval-mlogloss:0.113622\n",
      "[562]\ttrain-mlogloss:0.042596\teval-mlogloss:0.113555\n",
      "[563]\ttrain-mlogloss:0.042449\teval-mlogloss:0.113487\n",
      "[564]\ttrain-mlogloss:0.042287\teval-mlogloss:0.113404\n",
      "[565]\ttrain-mlogloss:0.042139\teval-mlogloss:0.113359\n",
      "[566]\ttrain-mlogloss:0.042008\teval-mlogloss:0.11328\n",
      "[567]\ttrain-mlogloss:0.041852\teval-mlogloss:0.113231\n",
      "[568]\ttrain-mlogloss:0.041708\teval-mlogloss:0.113153\n",
      "[569]\ttrain-mlogloss:0.041543\teval-mlogloss:0.113076\n",
      "[570]\ttrain-mlogloss:0.041414\teval-mlogloss:0.113016\n",
      "[571]\ttrain-mlogloss:0.041268\teval-mlogloss:0.112956\n",
      "[572]\ttrain-mlogloss:0.041133\teval-mlogloss:0.112892\n",
      "[573]\ttrain-mlogloss:0.040989\teval-mlogloss:0.112825\n",
      "[574]\ttrain-mlogloss:0.040825\teval-mlogloss:0.112749\n",
      "[575]\ttrain-mlogloss:0.0407\teval-mlogloss:0.112707\n",
      "[576]\ttrain-mlogloss:0.040559\teval-mlogloss:0.11263\n",
      "[577]\ttrain-mlogloss:0.040425\teval-mlogloss:0.112576\n",
      "[578]\ttrain-mlogloss:0.040288\teval-mlogloss:0.11251\n",
      "[579]\ttrain-mlogloss:0.040152\teval-mlogloss:0.112464\n",
      "[580]\ttrain-mlogloss:0.040003\teval-mlogloss:0.112406\n",
      "[581]\ttrain-mlogloss:0.039878\teval-mlogloss:0.112308\n",
      "[582]\ttrain-mlogloss:0.039736\teval-mlogloss:0.112232\n",
      "[583]\ttrain-mlogloss:0.039596\teval-mlogloss:0.112132\n",
      "[584]\ttrain-mlogloss:0.039476\teval-mlogloss:0.112079\n",
      "[585]\ttrain-mlogloss:0.039328\teval-mlogloss:0.112015\n",
      "[586]\ttrain-mlogloss:0.039193\teval-mlogloss:0.111958\n",
      "[587]\ttrain-mlogloss:0.039068\teval-mlogloss:0.111898\n",
      "[588]\ttrain-mlogloss:0.038938\teval-mlogloss:0.111815\n",
      "[589]\ttrain-mlogloss:0.038795\teval-mlogloss:0.111757\n",
      "[590]\ttrain-mlogloss:0.038685\teval-mlogloss:0.111712\n",
      "[591]\ttrain-mlogloss:0.038544\teval-mlogloss:0.11166\n",
      "[592]\ttrain-mlogloss:0.03842\teval-mlogloss:0.111623\n",
      "[593]\ttrain-mlogloss:0.038287\teval-mlogloss:0.111571\n",
      "[594]\ttrain-mlogloss:0.03816\teval-mlogloss:0.111514\n",
      "[595]\ttrain-mlogloss:0.038021\teval-mlogloss:0.111442\n",
      "[596]\ttrain-mlogloss:0.037901\teval-mlogloss:0.111396\n",
      "[597]\ttrain-mlogloss:0.037785\teval-mlogloss:0.111321\n",
      "[598]\ttrain-mlogloss:0.037648\teval-mlogloss:0.11127\n",
      "[599]\ttrain-mlogloss:0.037538\teval-mlogloss:0.111223\n",
      "[600]\ttrain-mlogloss:0.037409\teval-mlogloss:0.111185\n",
      "[601]\ttrain-mlogloss:0.037277\teval-mlogloss:0.111112\n",
      "[602]\ttrain-mlogloss:0.037163\teval-mlogloss:0.11104\n",
      "[603]\ttrain-mlogloss:0.037027\teval-mlogloss:0.110954\n",
      "[604]\ttrain-mlogloss:0.036906\teval-mlogloss:0.11091\n",
      "[605]\ttrain-mlogloss:0.036784\teval-mlogloss:0.110856\n",
      "[606]\ttrain-mlogloss:0.036664\teval-mlogloss:0.110803\n",
      "[607]\ttrain-mlogloss:0.036543\teval-mlogloss:0.110748\n",
      "[608]\ttrain-mlogloss:0.03641\teval-mlogloss:0.110693\n",
      "[609]\ttrain-mlogloss:0.036307\teval-mlogloss:0.110656\n",
      "[610]\ttrain-mlogloss:0.036177\teval-mlogloss:0.1106\n",
      "[611]\ttrain-mlogloss:0.036059\teval-mlogloss:0.110556\n",
      "[612]\ttrain-mlogloss:0.035936\teval-mlogloss:0.1105\n",
      "[613]\ttrain-mlogloss:0.035818\teval-mlogloss:0.110457\n",
      "[614]\ttrain-mlogloss:0.035709\teval-mlogloss:0.110421\n",
      "[615]\ttrain-mlogloss:0.035591\teval-mlogloss:0.110379\n",
      "[616]\ttrain-mlogloss:0.035477\teval-mlogloss:0.110309\n",
      "[617]\ttrain-mlogloss:0.035364\teval-mlogloss:0.110277\n",
      "[618]\ttrain-mlogloss:0.035239\teval-mlogloss:0.110206\n",
      "[619]\ttrain-mlogloss:0.035137\teval-mlogloss:0.110174\n",
      "[620]\ttrain-mlogloss:0.035012\teval-mlogloss:0.110112\n",
      "[621]\ttrain-mlogloss:0.034903\teval-mlogloss:0.110069\n",
      "[622]\ttrain-mlogloss:0.034793\teval-mlogloss:0.110023\n"
     ]
    },
    {
     "name": "stdout",
     "output_type": "stream",
     "text": [
      "[623]\ttrain-mlogloss:0.034674\teval-mlogloss:0.109988\n",
      "[624]\ttrain-mlogloss:0.034579\teval-mlogloss:0.109947\n",
      "[625]\ttrain-mlogloss:0.034459\teval-mlogloss:0.109888\n",
      "[626]\ttrain-mlogloss:0.03435\teval-mlogloss:0.109868\n",
      "[627]\ttrain-mlogloss:0.03424\teval-mlogloss:0.109788\n",
      "[628]\ttrain-mlogloss:0.034129\teval-mlogloss:0.109735\n",
      "[629]\ttrain-mlogloss:0.034023\teval-mlogloss:0.109699\n",
      "[630]\ttrain-mlogloss:0.033913\teval-mlogloss:0.10964\n",
      "[631]\ttrain-mlogloss:0.033805\teval-mlogloss:0.109583\n",
      "[632]\ttrain-mlogloss:0.033697\teval-mlogloss:0.109542\n",
      "[633]\ttrain-mlogloss:0.033598\teval-mlogloss:0.109485\n",
      "[634]\ttrain-mlogloss:0.033479\teval-mlogloss:0.109427\n",
      "[635]\ttrain-mlogloss:0.033374\teval-mlogloss:0.109381\n",
      "[636]\ttrain-mlogloss:0.03327\teval-mlogloss:0.109339\n",
      "[637]\ttrain-mlogloss:0.033155\teval-mlogloss:0.109293\n",
      "[638]\ttrain-mlogloss:0.033064\teval-mlogloss:0.109237\n",
      "[639]\ttrain-mlogloss:0.032962\teval-mlogloss:0.109213\n",
      "[640]\ttrain-mlogloss:0.032865\teval-mlogloss:0.109166\n",
      "[641]\ttrain-mlogloss:0.032762\teval-mlogloss:0.109106\n",
      "[642]\ttrain-mlogloss:0.032664\teval-mlogloss:0.109068\n",
      "[643]\ttrain-mlogloss:0.032556\teval-mlogloss:0.109031\n",
      "[644]\ttrain-mlogloss:0.032468\teval-mlogloss:0.108976\n",
      "[645]\ttrain-mlogloss:0.032344\teval-mlogloss:0.10891\n",
      "[646]\ttrain-mlogloss:0.032257\teval-mlogloss:0.108896\n",
      "[647]\ttrain-mlogloss:0.032163\teval-mlogloss:0.108853\n",
      "[648]\ttrain-mlogloss:0.032062\teval-mlogloss:0.108828\n",
      "[649]\ttrain-mlogloss:0.031952\teval-mlogloss:0.108799\n",
      "[650]\ttrain-mlogloss:0.031863\teval-mlogloss:0.10876\n",
      "[651]\ttrain-mlogloss:0.031756\teval-mlogloss:0.108709\n",
      "[652]\ttrain-mlogloss:0.031656\teval-mlogloss:0.108664\n",
      "[653]\ttrain-mlogloss:0.031562\teval-mlogloss:0.108597\n",
      "[654]\ttrain-mlogloss:0.031464\teval-mlogloss:0.108549\n",
      "[655]\ttrain-mlogloss:0.031362\teval-mlogloss:0.108506\n",
      "[656]\ttrain-mlogloss:0.031273\teval-mlogloss:0.108478\n",
      "[657]\ttrain-mlogloss:0.031183\teval-mlogloss:0.108451\n",
      "[658]\ttrain-mlogloss:0.031091\teval-mlogloss:0.108437\n",
      "[659]\ttrain-mlogloss:0.030996\teval-mlogloss:0.108411\n",
      "[660]\ttrain-mlogloss:0.030894\teval-mlogloss:0.108364\n",
      "[661]\ttrain-mlogloss:0.030797\teval-mlogloss:0.108335\n",
      "[662]\ttrain-mlogloss:0.030721\teval-mlogloss:0.10832\n",
      "[663]\ttrain-mlogloss:0.030614\teval-mlogloss:0.108292\n",
      "[664]\ttrain-mlogloss:0.030521\teval-mlogloss:0.108251\n",
      "[665]\ttrain-mlogloss:0.030426\teval-mlogloss:0.108215\n",
      "[666]\ttrain-mlogloss:0.030345\teval-mlogloss:0.108163\n",
      "[667]\ttrain-mlogloss:0.03025\teval-mlogloss:0.108133\n",
      "[668]\ttrain-mlogloss:0.03016\teval-mlogloss:0.108131\n",
      "[669]\ttrain-mlogloss:0.030066\teval-mlogloss:0.108102\n",
      "[670]\ttrain-mlogloss:0.029984\teval-mlogloss:0.108086\n",
      "[671]\ttrain-mlogloss:0.029893\teval-mlogloss:0.108049\n",
      "[672]\ttrain-mlogloss:0.029798\teval-mlogloss:0.108007\n",
      "[673]\ttrain-mlogloss:0.029686\teval-mlogloss:0.10797\n",
      "[674]\ttrain-mlogloss:0.029604\teval-mlogloss:0.107924\n",
      "[675]\ttrain-mlogloss:0.02952\teval-mlogloss:0.107887\n",
      "[676]\ttrain-mlogloss:0.029423\teval-mlogloss:0.107855\n",
      "[677]\ttrain-mlogloss:0.029342\teval-mlogloss:0.107834\n",
      "[678]\ttrain-mlogloss:0.029234\teval-mlogloss:0.107777\n",
      "[679]\ttrain-mlogloss:0.029155\teval-mlogloss:0.107738\n",
      "[680]\ttrain-mlogloss:0.029054\teval-mlogloss:0.107709\n",
      "[681]\ttrain-mlogloss:0.02897\teval-mlogloss:0.107686\n",
      "[682]\ttrain-mlogloss:0.028891\teval-mlogloss:0.107656\n",
      "[683]\ttrain-mlogloss:0.028813\teval-mlogloss:0.107634\n",
      "[684]\ttrain-mlogloss:0.028726\teval-mlogloss:0.107607\n",
      "[685]\ttrain-mlogloss:0.028637\teval-mlogloss:0.107564\n",
      "[686]\ttrain-mlogloss:0.02856\teval-mlogloss:0.107537\n",
      "[687]\ttrain-mlogloss:0.028455\teval-mlogloss:0.107497\n",
      "[688]\ttrain-mlogloss:0.028376\teval-mlogloss:0.107465\n",
      "[689]\ttrain-mlogloss:0.028303\teval-mlogloss:0.107452\n",
      "[690]\ttrain-mlogloss:0.028214\teval-mlogloss:0.107424\n",
      "[691]\ttrain-mlogloss:0.02813\teval-mlogloss:0.107425\n",
      "[692]\ttrain-mlogloss:0.028051\teval-mlogloss:0.107399\n",
      "[693]\ttrain-mlogloss:0.027962\teval-mlogloss:0.107349\n",
      "[694]\ttrain-mlogloss:0.027881\teval-mlogloss:0.107336\n",
      "[695]\ttrain-mlogloss:0.027805\teval-mlogloss:0.107296\n",
      "[696]\ttrain-mlogloss:0.027715\teval-mlogloss:0.107263\n",
      "[697]\ttrain-mlogloss:0.027637\teval-mlogloss:0.107221\n",
      "[698]\ttrain-mlogloss:0.027564\teval-mlogloss:0.107196\n",
      "[699]\ttrain-mlogloss:0.027487\teval-mlogloss:0.10716\n",
      "[700]\ttrain-mlogloss:0.027413\teval-mlogloss:0.107145\n",
      "[701]\ttrain-mlogloss:0.027327\teval-mlogloss:0.107109\n",
      "[702]\ttrain-mlogloss:0.027243\teval-mlogloss:0.107094\n",
      "[703]\ttrain-mlogloss:0.027161\teval-mlogloss:0.107056\n",
      "[704]\ttrain-mlogloss:0.0271\teval-mlogloss:0.10704\n",
      "[705]\ttrain-mlogloss:0.027007\teval-mlogloss:0.107023\n",
      "[706]\ttrain-mlogloss:0.026932\teval-mlogloss:0.107007\n",
      "[707]\ttrain-mlogloss:0.026858\teval-mlogloss:0.10699\n",
      "[708]\ttrain-mlogloss:0.026786\teval-mlogloss:0.106942\n",
      "[709]\ttrain-mlogloss:0.026701\teval-mlogloss:0.106929\n",
      "[710]\ttrain-mlogloss:0.026624\teval-mlogloss:0.106919\n",
      "[711]\ttrain-mlogloss:0.026543\teval-mlogloss:0.106872\n",
      "[712]\ttrain-mlogloss:0.026461\teval-mlogloss:0.106852\n",
      "[713]\ttrain-mlogloss:0.026387\teval-mlogloss:0.106824\n",
      "[714]\ttrain-mlogloss:0.026311\teval-mlogloss:0.106787\n",
      "[715]\ttrain-mlogloss:0.026237\teval-mlogloss:0.106763\n",
      "[716]\ttrain-mlogloss:0.026152\teval-mlogloss:0.106735\n",
      "[717]\ttrain-mlogloss:0.026087\teval-mlogloss:0.106708\n",
      "[718]\ttrain-mlogloss:0.026009\teval-mlogloss:0.106675\n",
      "[719]\ttrain-mlogloss:0.025944\teval-mlogloss:0.106669\n",
      "[720]\ttrain-mlogloss:0.02587\teval-mlogloss:0.106656\n",
      "[721]\ttrain-mlogloss:0.025791\teval-mlogloss:0.10663\n",
      "[722]\ttrain-mlogloss:0.025715\teval-mlogloss:0.106596\n",
      "[723]\ttrain-mlogloss:0.025642\teval-mlogloss:0.106569\n",
      "[724]\ttrain-mlogloss:0.025562\teval-mlogloss:0.106533\n",
      "[725]\ttrain-mlogloss:0.025497\teval-mlogloss:0.106509\n",
      "[726]\ttrain-mlogloss:0.025426\teval-mlogloss:0.106478\n",
      "[727]\ttrain-mlogloss:0.025354\teval-mlogloss:0.106453\n",
      "[728]\ttrain-mlogloss:0.025275\teval-mlogloss:0.106418\n",
      "[729]\ttrain-mlogloss:0.025196\teval-mlogloss:0.106388\n",
      "[730]\ttrain-mlogloss:0.025137\teval-mlogloss:0.106364\n",
      "[731]\ttrain-mlogloss:0.025052\teval-mlogloss:0.106314\n",
      "[732]\ttrain-mlogloss:0.024992\teval-mlogloss:0.106298\n",
      "[733]\ttrain-mlogloss:0.024924\teval-mlogloss:0.10628\n",
      "[734]\ttrain-mlogloss:0.024851\teval-mlogloss:0.106245\n",
      "[735]\ttrain-mlogloss:0.024779\teval-mlogloss:0.106233\n",
      "[736]\ttrain-mlogloss:0.024714\teval-mlogloss:0.106202\n",
      "[737]\ttrain-mlogloss:0.024645\teval-mlogloss:0.106169\n",
      "[738]\ttrain-mlogloss:0.024566\teval-mlogloss:0.106142\n",
      "[739]\ttrain-mlogloss:0.024497\teval-mlogloss:0.106127\n",
      "[740]\ttrain-mlogloss:0.024424\teval-mlogloss:0.106108\n",
      "[741]\ttrain-mlogloss:0.024358\teval-mlogloss:0.106078\n",
      "[742]\ttrain-mlogloss:0.024303\teval-mlogloss:0.106071\n",
      "[743]\ttrain-mlogloss:0.024228\teval-mlogloss:0.106059\n",
      "[744]\ttrain-mlogloss:0.024161\teval-mlogloss:0.106043\n",
      "[745]\ttrain-mlogloss:0.024087\teval-mlogloss:0.105987\n",
      "[746]\ttrain-mlogloss:0.024024\teval-mlogloss:0.105972\n",
      "[747]\ttrain-mlogloss:0.023961\teval-mlogloss:0.105937\n",
      "[748]\ttrain-mlogloss:0.023897\teval-mlogloss:0.105913\n",
      "[749]\ttrain-mlogloss:0.02382\teval-mlogloss:0.105876\n",
      "[750]\ttrain-mlogloss:0.023759\teval-mlogloss:0.105866\n",
      "[751]\ttrain-mlogloss:0.023689\teval-mlogloss:0.105837\n",
      "[752]\ttrain-mlogloss:0.023624\teval-mlogloss:0.10583\n",
      "[753]\ttrain-mlogloss:0.023554\teval-mlogloss:0.10578\n",
      "[754]\ttrain-mlogloss:0.023496\teval-mlogloss:0.10577\n",
      "[755]\ttrain-mlogloss:0.02343\teval-mlogloss:0.105728\n",
      "[756]\ttrain-mlogloss:0.023369\teval-mlogloss:0.105713\n",
      "[757]\ttrain-mlogloss:0.023296\teval-mlogloss:0.105681\n",
      "[758]\ttrain-mlogloss:0.023236\teval-mlogloss:0.105665\n",
      "[759]\ttrain-mlogloss:0.023179\teval-mlogloss:0.10565\n",
      "[760]\ttrain-mlogloss:0.023112\teval-mlogloss:0.105635\n",
      "[761]\ttrain-mlogloss:0.023046\teval-mlogloss:0.105603\n",
      "[762]\ttrain-mlogloss:0.022975\teval-mlogloss:0.105566\n",
      "[763]\ttrain-mlogloss:0.022915\teval-mlogloss:0.105556\n",
      "[764]\ttrain-mlogloss:0.022859\teval-mlogloss:0.105536\n",
      "[765]\ttrain-mlogloss:0.022798\teval-mlogloss:0.105531\n",
      "[766]\ttrain-mlogloss:0.022731\teval-mlogloss:0.105493\n",
      "[767]\ttrain-mlogloss:0.022676\teval-mlogloss:0.105482\n",
      "[768]\ttrain-mlogloss:0.022616\teval-mlogloss:0.105488\n",
      "[769]\ttrain-mlogloss:0.022555\teval-mlogloss:0.105443\n",
      "[770]\ttrain-mlogloss:0.022495\teval-mlogloss:0.105412\n",
      "[771]\ttrain-mlogloss:0.022434\teval-mlogloss:0.105399\n",
      "[772]\ttrain-mlogloss:0.022378\teval-mlogloss:0.105364\n",
      "[773]\ttrain-mlogloss:0.022322\teval-mlogloss:0.105356\n",
      "[774]\ttrain-mlogloss:0.022261\teval-mlogloss:0.105354\n",
      "[775]\ttrain-mlogloss:0.022205\teval-mlogloss:0.105341\n",
      "[776]\ttrain-mlogloss:0.022142\teval-mlogloss:0.105314\n",
      "[777]\ttrain-mlogloss:0.022089\teval-mlogloss:0.105291\n",
      "[778]\ttrain-mlogloss:0.022028\teval-mlogloss:0.105264\n"
     ]
    },
    {
     "name": "stdout",
     "output_type": "stream",
     "text": [
      "[779]\ttrain-mlogloss:0.021962\teval-mlogloss:0.10525\n",
      "[780]\ttrain-mlogloss:0.021913\teval-mlogloss:0.105258\n",
      "[781]\ttrain-mlogloss:0.021857\teval-mlogloss:0.105252\n",
      "[782]\ttrain-mlogloss:0.021803\teval-mlogloss:0.105239\n",
      "[783]\ttrain-mlogloss:0.021745\teval-mlogloss:0.105234\n",
      "[784]\ttrain-mlogloss:0.021683\teval-mlogloss:0.105211\n",
      "[785]\ttrain-mlogloss:0.021627\teval-mlogloss:0.105195\n",
      "[786]\ttrain-mlogloss:0.021571\teval-mlogloss:0.105176\n",
      "[787]\ttrain-mlogloss:0.021516\teval-mlogloss:0.105148\n",
      "[788]\ttrain-mlogloss:0.021467\teval-mlogloss:0.105144\n",
      "[789]\ttrain-mlogloss:0.021415\teval-mlogloss:0.105137\n",
      "[790]\ttrain-mlogloss:0.021355\teval-mlogloss:0.105125\n",
      "[791]\ttrain-mlogloss:0.021312\teval-mlogloss:0.105114\n",
      "[792]\ttrain-mlogloss:0.02125\teval-mlogloss:0.105103\n",
      "[793]\ttrain-mlogloss:0.021198\teval-mlogloss:0.105096\n",
      "[794]\ttrain-mlogloss:0.021137\teval-mlogloss:0.105086\n",
      "[795]\ttrain-mlogloss:0.021085\teval-mlogloss:0.105079\n",
      "[796]\ttrain-mlogloss:0.021026\teval-mlogloss:0.105049\n",
      "[797]\ttrain-mlogloss:0.020977\teval-mlogloss:0.105037\n",
      "[798]\ttrain-mlogloss:0.020925\teval-mlogloss:0.105042\n",
      "[799]\ttrain-mlogloss:0.02087\teval-mlogloss:0.105039\n",
      "[800]\ttrain-mlogloss:0.020817\teval-mlogloss:0.104987\n",
      "[801]\ttrain-mlogloss:0.020762\teval-mlogloss:0.104974\n",
      "[802]\ttrain-mlogloss:0.020707\teval-mlogloss:0.104949\n",
      "[803]\ttrain-mlogloss:0.020656\teval-mlogloss:0.104946\n",
      "[804]\ttrain-mlogloss:0.020602\teval-mlogloss:0.104948\n",
      "[805]\ttrain-mlogloss:0.020555\teval-mlogloss:0.104925\n",
      "[806]\ttrain-mlogloss:0.020499\teval-mlogloss:0.104929\n",
      "[807]\ttrain-mlogloss:0.020449\teval-mlogloss:0.104908\n",
      "[808]\ttrain-mlogloss:0.020401\teval-mlogloss:0.104907\n",
      "[809]\ttrain-mlogloss:0.020349\teval-mlogloss:0.104903\n",
      "[810]\ttrain-mlogloss:0.020299\teval-mlogloss:0.104892\n",
      "[811]\ttrain-mlogloss:0.020245\teval-mlogloss:0.104871\n",
      "[812]\ttrain-mlogloss:0.0202\teval-mlogloss:0.104869\n",
      "[813]\ttrain-mlogloss:0.020145\teval-mlogloss:0.104847\n",
      "[814]\ttrain-mlogloss:0.020092\teval-mlogloss:0.104851\n",
      "[815]\ttrain-mlogloss:0.020043\teval-mlogloss:0.104822\n",
      "[816]\ttrain-mlogloss:0.019994\teval-mlogloss:0.10481\n",
      "[817]\ttrain-mlogloss:0.019951\teval-mlogloss:0.104821\n",
      "[818]\ttrain-mlogloss:0.019901\teval-mlogloss:0.104821\n",
      "[819]\ttrain-mlogloss:0.019853\teval-mlogloss:0.104816\n",
      "[820]\ttrain-mlogloss:0.019804\teval-mlogloss:0.104786\n",
      "[821]\ttrain-mlogloss:0.019749\teval-mlogloss:0.104744\n",
      "[822]\ttrain-mlogloss:0.019704\teval-mlogloss:0.104743\n",
      "[823]\ttrain-mlogloss:0.019653\teval-mlogloss:0.104736\n",
      "[824]\ttrain-mlogloss:0.019606\teval-mlogloss:0.104726\n",
      "[825]\ttrain-mlogloss:0.019559\teval-mlogloss:0.104737\n",
      "[826]\ttrain-mlogloss:0.019508\teval-mlogloss:0.104696\n",
      "[827]\ttrain-mlogloss:0.019466\teval-mlogloss:0.104688\n",
      "[828]\ttrain-mlogloss:0.019416\teval-mlogloss:0.104685\n",
      "[829]\ttrain-mlogloss:0.019367\teval-mlogloss:0.104656\n",
      "[830]\ttrain-mlogloss:0.019324\teval-mlogloss:0.104648\n",
      "[831]\ttrain-mlogloss:0.019278\teval-mlogloss:0.104627\n",
      "[832]\ttrain-mlogloss:0.01923\teval-mlogloss:0.104618\n",
      "[833]\ttrain-mlogloss:0.019186\teval-mlogloss:0.104621\n",
      "[834]\ttrain-mlogloss:0.019138\teval-mlogloss:0.104593\n",
      "[835]\ttrain-mlogloss:0.019095\teval-mlogloss:0.104586\n",
      "[836]\ttrain-mlogloss:0.019048\teval-mlogloss:0.10456\n",
      "[837]\ttrain-mlogloss:0.019004\teval-mlogloss:0.104528\n",
      "[838]\ttrain-mlogloss:0.018957\teval-mlogloss:0.104512\n",
      "[839]\ttrain-mlogloss:0.018919\teval-mlogloss:0.104513\n",
      "[840]\ttrain-mlogloss:0.018875\teval-mlogloss:0.104493\n",
      "[841]\ttrain-mlogloss:0.018826\teval-mlogloss:0.104466\n",
      "[842]\ttrain-mlogloss:0.018781\teval-mlogloss:0.104452\n",
      "[843]\ttrain-mlogloss:0.018742\teval-mlogloss:0.104456\n",
      "[844]\ttrain-mlogloss:0.018694\teval-mlogloss:0.104431\n",
      "[845]\ttrain-mlogloss:0.018655\teval-mlogloss:0.104398\n",
      "[846]\ttrain-mlogloss:0.018609\teval-mlogloss:0.104383\n",
      "[847]\ttrain-mlogloss:0.018564\teval-mlogloss:0.104348\n",
      "[848]\ttrain-mlogloss:0.018521\teval-mlogloss:0.104343\n",
      "[849]\ttrain-mlogloss:0.018475\teval-mlogloss:0.104314\n",
      "[850]\ttrain-mlogloss:0.018434\teval-mlogloss:0.104305\n",
      "[851]\ttrain-mlogloss:0.018387\teval-mlogloss:0.104284\n",
      "[852]\ttrain-mlogloss:0.018348\teval-mlogloss:0.104273\n",
      "[853]\ttrain-mlogloss:0.018301\teval-mlogloss:0.104241\n",
      "[854]\ttrain-mlogloss:0.018254\teval-mlogloss:0.104224\n",
      "[855]\ttrain-mlogloss:0.018216\teval-mlogloss:0.104209\n",
      "[856]\ttrain-mlogloss:0.018172\teval-mlogloss:0.104199\n",
      "[857]\ttrain-mlogloss:0.018131\teval-mlogloss:0.104199\n",
      "[858]\ttrain-mlogloss:0.018096\teval-mlogloss:0.104183\n",
      "[859]\ttrain-mlogloss:0.018059\teval-mlogloss:0.104171\n",
      "[860]\ttrain-mlogloss:0.018014\teval-mlogloss:0.104148\n",
      "[861]\ttrain-mlogloss:0.01797\teval-mlogloss:0.104111\n",
      "[862]\ttrain-mlogloss:0.017933\teval-mlogloss:0.104108\n",
      "[863]\ttrain-mlogloss:0.01789\teval-mlogloss:0.1041\n",
      "[864]\ttrain-mlogloss:0.017847\teval-mlogloss:0.104078\n",
      "[865]\ttrain-mlogloss:0.017809\teval-mlogloss:0.104064\n",
      "[866]\ttrain-mlogloss:0.017766\teval-mlogloss:0.104052\n",
      "[867]\ttrain-mlogloss:0.017729\teval-mlogloss:0.104052\n",
      "[868]\ttrain-mlogloss:0.017692\teval-mlogloss:0.10405\n",
      "[869]\ttrain-mlogloss:0.017653\teval-mlogloss:0.104039\n",
      "[870]\ttrain-mlogloss:0.017609\teval-mlogloss:0.104019\n",
      "[871]\ttrain-mlogloss:0.017564\teval-mlogloss:0.103999\n",
      "[872]\ttrain-mlogloss:0.017525\teval-mlogloss:0.103965\n",
      "[873]\ttrain-mlogloss:0.017487\teval-mlogloss:0.103942\n",
      "[874]\ttrain-mlogloss:0.017444\teval-mlogloss:0.103911\n",
      "[875]\ttrain-mlogloss:0.017407\teval-mlogloss:0.103929\n",
      "[876]\ttrain-mlogloss:0.017369\teval-mlogloss:0.103908\n",
      "[877]\ttrain-mlogloss:0.017326\teval-mlogloss:0.103896\n",
      "[878]\ttrain-mlogloss:0.017288\teval-mlogloss:0.103872\n",
      "[879]\ttrain-mlogloss:0.017248\teval-mlogloss:0.103877\n",
      "[880]\ttrain-mlogloss:0.017211\teval-mlogloss:0.103843\n",
      "[881]\ttrain-mlogloss:0.017177\teval-mlogloss:0.103845\n",
      "[882]\ttrain-mlogloss:0.017135\teval-mlogloss:0.103844\n",
      "[883]\ttrain-mlogloss:0.0171\teval-mlogloss:0.103829\n",
      "[884]\ttrain-mlogloss:0.01706\teval-mlogloss:0.103809\n",
      "[885]\ttrain-mlogloss:0.017019\teval-mlogloss:0.103792\n",
      "[886]\ttrain-mlogloss:0.016982\teval-mlogloss:0.103784\n",
      "[887]\ttrain-mlogloss:0.016944\teval-mlogloss:0.103771\n",
      "[888]\ttrain-mlogloss:0.016907\teval-mlogloss:0.103767\n",
      "[889]\ttrain-mlogloss:0.016872\teval-mlogloss:0.103759\n",
      "[890]\ttrain-mlogloss:0.016831\teval-mlogloss:0.103714\n",
      "[891]\ttrain-mlogloss:0.016793\teval-mlogloss:0.103705\n",
      "[892]\ttrain-mlogloss:0.01676\teval-mlogloss:0.103684\n",
      "[893]\ttrain-mlogloss:0.016719\teval-mlogloss:0.103692\n",
      "[894]\ttrain-mlogloss:0.01668\teval-mlogloss:0.103651\n",
      "[895]\ttrain-mlogloss:0.016647\teval-mlogloss:0.103623\n",
      "[896]\ttrain-mlogloss:0.016606\teval-mlogloss:0.103616\n",
      "[897]\ttrain-mlogloss:0.016571\teval-mlogloss:0.103616\n",
      "[898]\ttrain-mlogloss:0.016533\teval-mlogloss:0.103611\n",
      "[899]\ttrain-mlogloss:0.016495\teval-mlogloss:0.103598\n",
      "[900]\ttrain-mlogloss:0.016457\teval-mlogloss:0.103571\n",
      "[901]\ttrain-mlogloss:0.016423\teval-mlogloss:0.103548\n",
      "[902]\ttrain-mlogloss:0.016386\teval-mlogloss:0.103542\n",
      "[903]\ttrain-mlogloss:0.016348\teval-mlogloss:0.103517\n",
      "[904]\ttrain-mlogloss:0.016313\teval-mlogloss:0.103508\n",
      "[905]\ttrain-mlogloss:0.016277\teval-mlogloss:0.103471\n",
      "[906]\ttrain-mlogloss:0.016246\teval-mlogloss:0.103469\n",
      "[907]\ttrain-mlogloss:0.016209\teval-mlogloss:0.103444\n",
      "[908]\ttrain-mlogloss:0.016173\teval-mlogloss:0.103444\n",
      "[909]\ttrain-mlogloss:0.016136\teval-mlogloss:0.10341\n",
      "[910]\ttrain-mlogloss:0.016104\teval-mlogloss:0.103408\n",
      "[911]\ttrain-mlogloss:0.016067\teval-mlogloss:0.103391\n",
      "[912]\ttrain-mlogloss:0.016037\teval-mlogloss:0.103389\n",
      "[913]\ttrain-mlogloss:0.016003\teval-mlogloss:0.103368\n",
      "[914]\ttrain-mlogloss:0.015964\teval-mlogloss:0.10337\n",
      "[915]\ttrain-mlogloss:0.015934\teval-mlogloss:0.10335\n",
      "[916]\ttrain-mlogloss:0.015896\teval-mlogloss:0.103341\n",
      "[917]\ttrain-mlogloss:0.015865\teval-mlogloss:0.10334\n",
      "[918]\ttrain-mlogloss:0.015829\teval-mlogloss:0.103309\n",
      "[919]\ttrain-mlogloss:0.015792\teval-mlogloss:0.103283\n",
      "[920]\ttrain-mlogloss:0.015762\teval-mlogloss:0.103274\n",
      "[921]\ttrain-mlogloss:0.015732\teval-mlogloss:0.10325\n",
      "[922]\ttrain-mlogloss:0.015696\teval-mlogloss:0.103236\n",
      "[923]\ttrain-mlogloss:0.015662\teval-mlogloss:0.103216\n",
      "[924]\ttrain-mlogloss:0.01563\teval-mlogloss:0.103216\n",
      "[925]\ttrain-mlogloss:0.015597\teval-mlogloss:0.103202\n",
      "[926]\ttrain-mlogloss:0.015561\teval-mlogloss:0.1032\n",
      "[927]\ttrain-mlogloss:0.015525\teval-mlogloss:0.103184\n",
      "[928]\ttrain-mlogloss:0.015493\teval-mlogloss:0.103174\n",
      "[929]\ttrain-mlogloss:0.015463\teval-mlogloss:0.103157\n",
      "[930]\ttrain-mlogloss:0.015426\teval-mlogloss:0.10312\n",
      "[931]\ttrain-mlogloss:0.015394\teval-mlogloss:0.103111\n",
      "[932]\ttrain-mlogloss:0.015363\teval-mlogloss:0.103099\n",
      "[933]\ttrain-mlogloss:0.01533\teval-mlogloss:0.103109\n",
      "[934]\ttrain-mlogloss:0.015299\teval-mlogloss:0.103105\n"
     ]
    },
    {
     "name": "stdout",
     "output_type": "stream",
     "text": [
      "[935]\ttrain-mlogloss:0.015265\teval-mlogloss:0.103083\n",
      "[936]\ttrain-mlogloss:0.015234\teval-mlogloss:0.103073\n",
      "[937]\ttrain-mlogloss:0.0152\teval-mlogloss:0.10307\n",
      "[938]\ttrain-mlogloss:0.015169\teval-mlogloss:0.103077\n",
      "[939]\ttrain-mlogloss:0.015137\teval-mlogloss:0.103069\n",
      "[940]\ttrain-mlogloss:0.015106\teval-mlogloss:0.10305\n",
      "[941]\ttrain-mlogloss:0.015075\teval-mlogloss:0.10304\n",
      "[942]\ttrain-mlogloss:0.015043\teval-mlogloss:0.103008\n",
      "[943]\ttrain-mlogloss:0.01501\teval-mlogloss:0.103005\n",
      "[944]\ttrain-mlogloss:0.014981\teval-mlogloss:0.102997\n",
      "[945]\ttrain-mlogloss:0.014947\teval-mlogloss:0.103008\n",
      "[946]\ttrain-mlogloss:0.014918\teval-mlogloss:0.103002\n",
      "[947]\ttrain-mlogloss:0.014886\teval-mlogloss:0.103016\n",
      "[948]\ttrain-mlogloss:0.014854\teval-mlogloss:0.103005\n",
      "[949]\ttrain-mlogloss:0.014822\teval-mlogloss:0.102984\n",
      "[950]\ttrain-mlogloss:0.014789\teval-mlogloss:0.102932\n",
      "[951]\ttrain-mlogloss:0.014759\teval-mlogloss:0.102932\n",
      "[952]\ttrain-mlogloss:0.014726\teval-mlogloss:0.102911\n",
      "[953]\ttrain-mlogloss:0.014695\teval-mlogloss:0.102904\n",
      "[954]\ttrain-mlogloss:0.014666\teval-mlogloss:0.10291\n",
      "[955]\ttrain-mlogloss:0.014639\teval-mlogloss:0.102905\n",
      "[956]\ttrain-mlogloss:0.014607\teval-mlogloss:0.102852\n",
      "[957]\ttrain-mlogloss:0.014576\teval-mlogloss:0.102862\n",
      "[958]\ttrain-mlogloss:0.014546\teval-mlogloss:0.102841\n",
      "[959]\ttrain-mlogloss:0.014516\teval-mlogloss:0.102835\n",
      "[960]\ttrain-mlogloss:0.014487\teval-mlogloss:0.102834\n",
      "[961]\ttrain-mlogloss:0.014456\teval-mlogloss:0.1028\n",
      "[962]\ttrain-mlogloss:0.014427\teval-mlogloss:0.102789\n",
      "[963]\ttrain-mlogloss:0.014399\teval-mlogloss:0.10279\n",
      "[964]\ttrain-mlogloss:0.01437\teval-mlogloss:0.102769\n",
      "[965]\ttrain-mlogloss:0.014338\teval-mlogloss:0.102739\n",
      "[966]\ttrain-mlogloss:0.014307\teval-mlogloss:0.102725\n",
      "[967]\ttrain-mlogloss:0.01428\teval-mlogloss:0.102702\n",
      "[968]\ttrain-mlogloss:0.014249\teval-mlogloss:0.102706\n",
      "[969]\ttrain-mlogloss:0.014222\teval-mlogloss:0.102692\n",
      "[970]\ttrain-mlogloss:0.01419\teval-mlogloss:0.102667\n",
      "[971]\ttrain-mlogloss:0.014161\teval-mlogloss:0.102671\n",
      "[972]\ttrain-mlogloss:0.014135\teval-mlogloss:0.102649\n",
      "[973]\ttrain-mlogloss:0.014106\teval-mlogloss:0.102626\n",
      "[974]\ttrain-mlogloss:0.014077\teval-mlogloss:0.102611\n",
      "[975]\ttrain-mlogloss:0.01405\teval-mlogloss:0.102627\n",
      "[976]\ttrain-mlogloss:0.014023\teval-mlogloss:0.102625\n",
      "[977]\ttrain-mlogloss:0.013994\teval-mlogloss:0.102605\n",
      "[978]\ttrain-mlogloss:0.013965\teval-mlogloss:0.102594\n",
      "[979]\ttrain-mlogloss:0.013938\teval-mlogloss:0.102589\n",
      "[980]\ttrain-mlogloss:0.013909\teval-mlogloss:0.102556\n",
      "[981]\ttrain-mlogloss:0.013881\teval-mlogloss:0.102541\n",
      "[982]\ttrain-mlogloss:0.013855\teval-mlogloss:0.102554\n",
      "[983]\ttrain-mlogloss:0.013828\teval-mlogloss:0.102527\n",
      "[984]\ttrain-mlogloss:0.013798\teval-mlogloss:0.10255\n",
      "[985]\ttrain-mlogloss:0.013771\teval-mlogloss:0.102559\n",
      "[986]\ttrain-mlogloss:0.013744\teval-mlogloss:0.102554\n",
      "[987]\ttrain-mlogloss:0.013717\teval-mlogloss:0.102529\n",
      "[988]\ttrain-mlogloss:0.013691\teval-mlogloss:0.102513\n",
      "[989]\ttrain-mlogloss:0.013663\teval-mlogloss:0.102523\n",
      "[990]\ttrain-mlogloss:0.013639\teval-mlogloss:0.102523\n",
      "[991]\ttrain-mlogloss:0.013612\teval-mlogloss:0.102503\n",
      "[992]\ttrain-mlogloss:0.013584\teval-mlogloss:0.10249\n",
      "[993]\ttrain-mlogloss:0.013559\teval-mlogloss:0.102483\n",
      "[994]\ttrain-mlogloss:0.013532\teval-mlogloss:0.102447\n",
      "[995]\ttrain-mlogloss:0.013504\teval-mlogloss:0.102451\n",
      "[996]\ttrain-mlogloss:0.013481\teval-mlogloss:0.102473\n",
      "[997]\ttrain-mlogloss:0.013452\teval-mlogloss:0.102476\n",
      "[998]\ttrain-mlogloss:0.013427\teval-mlogloss:0.102481\n",
      "[999]\ttrain-mlogloss:0.0134\teval-mlogloss:0.102443\n",
      "[1000]\ttrain-mlogloss:0.013374\teval-mlogloss:0.102445\n",
      "[1001]\ttrain-mlogloss:0.013348\teval-mlogloss:0.102426\n",
      "[1002]\ttrain-mlogloss:0.013325\teval-mlogloss:0.102424\n",
      "[1003]\ttrain-mlogloss:0.013298\teval-mlogloss:0.102423\n",
      "[1004]\ttrain-mlogloss:0.013274\teval-mlogloss:0.102429\n",
      "[1005]\ttrain-mlogloss:0.013248\teval-mlogloss:0.102428\n",
      "[1006]\ttrain-mlogloss:0.013221\teval-mlogloss:0.102428\n",
      "[1007]\ttrain-mlogloss:0.013194\teval-mlogloss:0.102441\n",
      "[1008]\ttrain-mlogloss:0.013168\teval-mlogloss:0.102412\n",
      "[1009]\ttrain-mlogloss:0.013142\teval-mlogloss:0.102422\n",
      "[1010]\ttrain-mlogloss:0.013117\teval-mlogloss:0.102404\n",
      "[1011]\ttrain-mlogloss:0.013091\teval-mlogloss:0.102403\n",
      "[1012]\ttrain-mlogloss:0.013064\teval-mlogloss:0.102412\n",
      "[1013]\ttrain-mlogloss:0.013039\teval-mlogloss:0.102403\n",
      "[1014]\ttrain-mlogloss:0.013017\teval-mlogloss:0.102422\n",
      "[1015]\ttrain-mlogloss:0.012991\teval-mlogloss:0.102395\n",
      "[1016]\ttrain-mlogloss:0.012967\teval-mlogloss:0.102393\n",
      "[1017]\ttrain-mlogloss:0.012942\teval-mlogloss:0.102354\n",
      "[1018]\ttrain-mlogloss:0.012917\teval-mlogloss:0.102368\n",
      "[1019]\ttrain-mlogloss:0.012892\teval-mlogloss:0.102373\n",
      "[1020]\ttrain-mlogloss:0.012868\teval-mlogloss:0.102372\n",
      "[1021]\ttrain-mlogloss:0.012844\teval-mlogloss:0.102357\n",
      "[1022]\ttrain-mlogloss:0.01282\teval-mlogloss:0.102338\n",
      "[1023]\ttrain-mlogloss:0.012795\teval-mlogloss:0.102328\n",
      "[1024]\ttrain-mlogloss:0.012771\teval-mlogloss:0.10235\n",
      "[1025]\ttrain-mlogloss:0.012746\teval-mlogloss:0.102358\n",
      "[1026]\ttrain-mlogloss:0.012722\teval-mlogloss:0.102355\n",
      "[1027]\ttrain-mlogloss:0.012697\teval-mlogloss:0.102323\n",
      "[1028]\ttrain-mlogloss:0.012673\teval-mlogloss:0.102329\n",
      "[1029]\ttrain-mlogloss:0.01265\teval-mlogloss:0.102332\n",
      "[1030]\ttrain-mlogloss:0.012627\teval-mlogloss:0.102325\n",
      "[1031]\ttrain-mlogloss:0.012604\teval-mlogloss:0.102312\n",
      "[1032]\ttrain-mlogloss:0.012581\teval-mlogloss:0.102302\n",
      "[1033]\ttrain-mlogloss:0.012558\teval-mlogloss:0.102315\n",
      "[1034]\ttrain-mlogloss:0.012535\teval-mlogloss:0.102318\n",
      "[1035]\ttrain-mlogloss:0.012512\teval-mlogloss:0.102332\n",
      "[1036]\ttrain-mlogloss:0.012492\teval-mlogloss:0.10234\n",
      "[1037]\ttrain-mlogloss:0.012467\teval-mlogloss:0.102339\n",
      "[1038]\ttrain-mlogloss:0.012443\teval-mlogloss:0.102338\n",
      "[1039]\ttrain-mlogloss:0.01242\teval-mlogloss:0.102342\n",
      "[1040]\ttrain-mlogloss:0.012395\teval-mlogloss:0.102334\n",
      "[1041]\ttrain-mlogloss:0.012373\teval-mlogloss:0.102348\n",
      "[1042]\ttrain-mlogloss:0.012349\teval-mlogloss:0.102349\n",
      "Stopping. Best iteration:\n",
      "[1032]\ttrain-mlogloss:0.012581\teval-mlogloss:0.102302\n",
      "\n"
     ]
    },
    {
     "data": {
      "text/markdown": [
       "##### XGBoost classification report : "
      ],
      "text/plain": [
       "<IPython.core.display.Markdown object>"
      ]
     },
     "metadata": {},
     "output_type": "display_data"
    },
    {
     "name": "stdout",
     "output_type": "stream",
     "text": [
      "             precision    recall  f1-score   support\n",
      "\n",
      "         EI       0.96      0.97      0.96       320\n",
      "         IE       0.96      0.95      0.96       327\n",
      "          N       0.98      0.98      0.98       629\n",
      "\n",
      "avg / total       0.97      0.97      0.97      1276\n",
      "\n"
     ]
    },
    {
     "data": {
      "text/markdown": [
       "##### XGBoost <span style='color: red'>randomly selected 1000 data</span> classification report : "
      ],
      "text/plain": [
       "<IPython.core.display.Markdown object>"
      ]
     },
     "metadata": {},
     "output_type": "display_data"
    },
    {
     "name": "stdout",
     "output_type": "stream",
     "text": [
      "             precision    recall  f1-score   support\n",
      "\n",
      "         EI       0.99      0.99      0.99       231\n",
      "         IE       0.98      0.99      0.98       256\n",
      "          N       1.00      0.99      0.99       513\n",
      "\n",
      "avg / total       0.99      0.99      0.99      1000\n",
      "\n"
     ]
    },
    {
     "data": {
      "text/markdown": [
       "##### Ten-fold cross-validation accuracy score : "
      ],
      "text/plain": [
       "<IPython.core.display.Markdown object>"
      ]
     },
     "metadata": {},
     "output_type": "display_data"
    },
    {
     "data": {
      "text/markdown": [
       "##### : 98.86000000000001"
      ],
      "text/plain": [
       "<IPython.core.display.Markdown object>"
      ]
     },
     "metadata": {},
     "output_type": "display_data"
    },
    {
     "name": "stdout",
     "output_type": "stream",
     "text": [
      "CPU times: user 33.9 s, sys: 974 ms, total: 34.8 s\n",
      "Wall time: 1min 50s\n"
     ]
    }
   ],
   "source": [
    "%%time\n",
    "ohe_model_train.run_all()"
   ]
  },
  {
   "cell_type": "markdown",
   "metadata": {},
   "source": [
    "### 정리해서 보면\n",
    "<img src='./ohe.png'> \n",
    "\n",
    "- 모든 모델에서 확연히 좋아진 성능을 보여줬습니다. "
   ]
  },
  {
   "cell_type": "markdown",
   "metadata": {},
   "source": [
    "## 2. 딥러닝 기법으로 모델링"
   ]
  },
  {
   "cell_type": "markdown",
   "metadata": {},
   "source": [
    "### 역시 같은 방법으로 아래 3가지를 사용해서 진행했습니다.\n",
    "1. CountVectorizer를 이용한 데이터셋 \n",
    "2. TfidfVectorizer를 이용한 데이터셋 \n",
    "3. Sequence의 elements를 vectorizer한 데이터셋"
   ]
  },
  {
   "cell_type": "markdown",
   "metadata": {},
   "source": [
    "### 아쉬웠던 점\n",
    "1. Tensorflow를 이용하여 설계한 DNNModel 클래스는 확장성이 떨어져서 Layer개수나 Neuron개수 등에 대해서 다양하게 시도하지 못했습니다. \n",
    "2. Keras를 이용해서 만든 KerasDNN은 다양하게 시도가능하게 설계는 했지만, 좋은 성능의 모델을 찾지는 못했습니다.\n",
    "3. 시간을 충분히 활용하지 못하여 CNN 등 다른 기술들을 사용해보지는 못했습니다."
   ]
  },
  {
   "cell_type": "code",
   "execution_count": 22,
   "metadata": {},
   "outputs": [],
   "source": [
    "def dnn_model_classification_report(dnn_model, preprocessed, is_keras=False):\n",
    "    _, X_test, _, y_test = preprocessed.get_preprocessed_data()\n",
    "    y_pred_proba = dnn_model.predict(X_test) if is_keras else dnn_model.predict()\n",
    "        \n",
    "    y_pred = preprocessed.get_inversed_target_data(y_pred_proba)\n",
    "    print(classification_report(y_test, y_pred))"
   ]
  },
  {
   "cell_type": "code",
   "execution_count": 23,
   "metadata": {},
   "outputs": [],
   "source": [
    "def run_dnn_model(data, i, epoch=1000):\n",
    "    epoch = epoch\n",
    "\n",
    "    sess = tf.Session()\n",
    "    dnn_model = DNNModel(sess, \"dnn_model_\" + str(i), data)\n",
    "    sess.run(tf.global_variables_initializer())\n",
    "\n",
    "    for step in range(epoch):\n",
    "        c, _ = dnn_model.train()\n",
    "        if step % 100 == 0:\n",
    "            print(step, c)\n",
    "            \n",
    "    return dnn_model"
   ]
  },
  {
   "cell_type": "code",
   "execution_count": 24,
   "metadata": {},
   "outputs": [],
   "source": [
    "n_li = [30, 30, 30]\n",
    "activation_li = [\"relu\", \"relu\", \"relu\", \"softmax\"]\n",
    "lr = 0.05\n",
    "epochs = 1000\n",
    "batch_size = 100\n",
    "    \n",
    "def run_keras_model(data, n_li, activation_li, lr, epochs, batch_size):\n",
    "    model = KerasDNN(data)\n",
    "    model.make_keras_model(n_li, activation_li, lr=lr)\n",
    "    model.run_keras_model(epochs=epochs, batch_size=batch_size)\n",
    "    \n",
    "    return model"
   ]
  },
  {
   "cell_type": "code",
   "execution_count": 25,
   "metadata": {},
   "outputs": [
    {
     "name": "stdout",
     "output_type": "stream",
     "text": [
      "0 4.679601\n",
      "100 0.8575992\n",
      "200 0.8361928\n",
      "300 0.83255994\n",
      "400 0.8195409\n",
      "500 0.8134545\n",
      "600 0.8101918\n",
      "700 0.8020396\n",
      "800 0.80244887\n",
      "900 0.791577\n"
     ]
    }
   ],
   "source": [
    "cnt_dnn_model = run_dnn_model(cnt_preprocessed, 0)"
   ]
  },
  {
   "cell_type": "markdown",
   "metadata": {},
   "source": [
    "### CountVectorizer나 TfidfVectorizer로 전처리한 데이터들은 클래식 모델로 학습했을 때와 차이가 거의 나지 않았습니다."
   ]
  },
  {
   "cell_type": "code",
   "execution_count": 28,
   "metadata": {},
   "outputs": [
    {
     "name": "stdout",
     "output_type": "stream",
     "text": [
      "             precision    recall  f1-score   support\n",
      "\n",
      "         EI       0.48      0.20      0.28       320\n",
      "         IE       0.51      0.38      0.43       327\n",
      "          N       0.55      0.78      0.64       629\n",
      "\n",
      "avg / total       0.52      0.53      0.50      1276\n",
      "\n"
     ]
    }
   ],
   "source": [
    "dnn_model_classification_report(cnt_dnn_model, cnt_preprocessed)"
   ]
  },
  {
   "cell_type": "code",
   "execution_count": 26,
   "metadata": {},
   "outputs": [
    {
     "name": "stdout",
     "output_type": "stream",
     "text": [
      "0 14.873734\n",
      "100 0.8705446\n",
      "200 0.8520829\n",
      "300 0.8421222\n",
      "400 0.83178014\n",
      "500 0.8220714\n",
      "600 0.8135311\n",
      "700 0.806352\n",
      "800 0.80063236\n",
      "900 0.793664\n"
     ]
    }
   ],
   "source": [
    "tf_dnn_model = run_dnn_model(tf_preprocessed, 1)"
   ]
  },
  {
   "cell_type": "code",
   "execution_count": 29,
   "metadata": {},
   "outputs": [
    {
     "name": "stdout",
     "output_type": "stream",
     "text": [
      "             precision    recall  f1-score   support\n",
      "\n",
      "         EI       0.46      0.27      0.34       320\n",
      "         IE       0.50      0.38      0.43       327\n",
      "          N       0.55      0.74      0.63       629\n",
      "\n",
      "avg / total       0.52      0.53      0.51      1276\n",
      "\n"
     ]
    }
   ],
   "source": [
    "dnn_model_classification_report(tf_dnn_model, tf_preprocessed)"
   ]
  },
  {
   "cell_type": "markdown",
   "metadata": {},
   "source": [
    "### 하지만 각 차원의 elements를 embeding한 데이터의 경우에는 트레이닝 셋에 overfitting하는 현상이 보였습니다."
   ]
  },
  {
   "cell_type": "code",
   "execution_count": 27,
   "metadata": {},
   "outputs": [
    {
     "name": "stdout",
     "output_type": "stream",
     "text": [
      "0 4.6903753\n",
      "100 0.25077513\n",
      "200 0.083936505\n",
      "300 0.10005782\n",
      "400 0.0142973475\n",
      "500 0.0029764972\n",
      "600 0.001509158\n",
      "700 0.0011320419\n",
      "800 0.0009799621\n",
      "900 0.0009014161\n"
     ]
    }
   ],
   "source": [
    "ohe_dnn_model = run_dnn_model(ohe_preprocessed, 2)"
   ]
  },
  {
   "cell_type": "code",
   "execution_count": 30,
   "metadata": {},
   "outputs": [
    {
     "name": "stdout",
     "output_type": "stream",
     "text": [
      "             precision    recall  f1-score   support\n",
      "\n",
      "         EI       0.80      0.79      0.79       320\n",
      "         IE       0.79      0.76      0.78       327\n",
      "          N       0.86      0.88      0.87       629\n",
      "\n",
      "avg / total       0.82      0.83      0.82      1276\n",
      "\n"
     ]
    }
   ],
   "source": [
    "dnn_model_classification_report(ohe_dnn_model, ohe_preprocessed)"
   ]
  },
  {
   "cell_type": "markdown",
   "metadata": {},
   "source": [
    "### 이 문제는 Dropout, L1 정규화,  L2 정규화 등 다른 방법들을 다양하게 시도한다면 해결할 수 있을 것이라 생각합니다."
   ]
  },
  {
   "cell_type": "markdown",
   "metadata": {},
   "source": [
    "### 4. Conclusion\n",
    "\n",
    "<div style='text-align:center'>\n",
    "    <img src='./final.png'>\n",
    "    위 점수는 f1-score 기준\n",
    "    </div>\n",
    "\n",
    "\n",
    "\n",
    "- 성능을 높이기 위해서 하이퍼패러미터 튜닝을 시도한다면 더 좋은 결과물이 나올 것이라 생각합니다.\n",
    "- 데이터 정규화를 실시하는 것도 도움이 됐을 것이라 판단됩니다."
   ]
  }
 ],
 "metadata": {
  "kernelspec": {
   "display_name": "Python 3",
   "language": "python",
   "name": "python3"
  },
  "language_info": {
   "codemirror_mode": {
    "name": "ipython",
    "version": 3
   },
   "file_extension": ".py",
   "mimetype": "text/x-python",
   "name": "python",
   "nbconvert_exporter": "python",
   "pygments_lexer": "ipython3",
   "version": "3.6.5"
  }
 },
 "nbformat": 4,
 "nbformat_minor": 2
}
